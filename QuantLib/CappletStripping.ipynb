{
 "cells": [
  {
   "cell_type": "code",
   "execution_count": 44,
   "metadata": {
    "collapsed": true
   },
   "outputs": [],
   "source": [
    "import QuantLib as ql\n",
    "\n"
   ]
  },
  {
   "cell_type": "code",
   "execution_count": 55,
   "metadata": {},
   "outputs": [
    {
     "ename": "TypeError",
     "evalue": "unsupported operand type(s) for +: 'NoneType' and 'str'",
     "output_type": "error",
     "traceback": [
      "\u001b[1;31m---------------------------------------------------------------------------\u001b[0m",
      "\u001b[1;31mTypeError\u001b[0m                                 Traceback (most recent call last)",
      "\u001b[1;32mc:\\Users\\fhoefer\\source\\repos\\fnotebooks\\QuantLib\\CappletStripping.ipynb Cell 2\u001b[0m line \u001b[0;36m2\n\u001b[0;32m      <a href='vscode-notebook-cell:/c%3A/Users/fhoefer/source/repos/fnotebooks/QuantLib/CappletStripping.ipynb#X24sZmlsZQ%3D%3D?line=0'>1</a>\u001b[0m test \u001b[39m=\u001b[39m DeloitteMarketDataAPIClient()\n\u001b[1;32m----> <a href='vscode-notebook-cell:/c%3A/Users/fhoefer/source/repos/fnotebooks/QuantLib/CappletStripping.ipynb#X24sZmlsZQ%3D%3D?line=1'>2</a>\u001b[0m test\u001b[39m.\u001b[39mbloomberg_get_all_markets_currencies()\n",
      "File \u001b[1;32mc:\\Users\\fhoefer\\source\\repos\\fnotebooks\\QuantLib\\mdb_api_client\\rest_api_client.py:541\u001b[0m, in \u001b[0;36mDeloitteMarketDataAPIClient.bloomberg_get_all_markets_currencies\u001b[1;34m(self)\u001b[0m\n\u001b[0;32m    529\u001b[0m \u001b[39mdef\u001b[39;00m \u001b[39mbloomberg_get_all_markets_currencies\u001b[39m(\u001b[39mself\u001b[39m):\n\u001b[0;32m    530\u001b[0m \u001b[39m    \u001b[39m\u001b[39m\"\"\"\u001b[39;00m\n\u001b[0;32m    531\u001b[0m \u001b[39m    Returns a pd.DataFrame containing all available markets and their currencies.\u001b[39;00m\n\u001b[0;32m    532\u001b[0m \n\u001b[1;32m   (...)\u001b[0m\n\u001b[0;32m    538\u001b[0m \u001b[39m        KeyError:   if no data is available for the given parameters a KeyError is raised.\u001b[39;00m\n\u001b[0;32m    539\u001b[0m \u001b[39m    \"\"\"\u001b[39;00m\n\u001b[1;32m--> 541\u001b[0m     response \u001b[39m=\u001b[39m \u001b[39mself\u001b[39m\u001b[39m.\u001b[39m_rest_api_request(\n\u001b[0;32m    542\u001b[0m         endpoint\u001b[39m=\u001b[39m\u001b[39m\"\u001b[39m\u001b[39m/api/Bloomberg/get-all-markets-currencies\u001b[39m\u001b[39m\"\u001b[39m\n\u001b[0;32m    543\u001b[0m     )\n\u001b[0;32m    545\u001b[0m     df \u001b[39m=\u001b[39m (\n\u001b[0;32m    546\u001b[0m         pd\u001b[39m.\u001b[39mjson_normalize(response\u001b[39m.\u001b[39mjson())\n\u001b[0;32m    547\u001b[0m         \u001b[39m.\u001b[39mT\u001b[39m.\u001b[39mreset_index()\n\u001b[0;32m    548\u001b[0m         \u001b[39m.\u001b[39mrename(columns\u001b[39m=\u001b[39m{\u001b[39m\"\u001b[39m\u001b[39mindex\u001b[39m\u001b[39m\"\u001b[39m: \u001b[39m\"\u001b[39m\u001b[39mMarket\u001b[39m\u001b[39m\"\u001b[39m, \u001b[39m0\u001b[39m: \u001b[39m\"\u001b[39m\u001b[39mCurrencies\u001b[39m\u001b[39m\"\u001b[39m})\n\u001b[0;32m    549\u001b[0m     )\n\u001b[0;32m    551\u001b[0m     \u001b[39mreturn\u001b[39;00m df\n",
      "File \u001b[1;32mc:\\Users\\fhoefer\\source\\repos\\fnotebooks\\QuantLib\\mdb_api_client\\rest_api_client.py:42\u001b[0m, in \u001b[0;36mDeloitteMarketDataAPIClient._rest_api_request\u001b[1;34m(self, endpoint, params)\u001b[0m\n\u001b[0;32m     25\u001b[0m \u001b[39mdef\u001b[39;00m \u001b[39m_rest_api_request\u001b[39m(\u001b[39mself\u001b[39m, endpoint: \u001b[39mstr\u001b[39m, params: \u001b[39mdict\u001b[39m \u001b[39m=\u001b[39m \u001b[39mNone\u001b[39;00m ) \u001b[39m-\u001b[39m\u001b[39m>\u001b[39m Response:\n\u001b[0;32m     26\u001b[0m \u001b[39m    \u001b[39m\u001b[39m\"\"\"\u001b[39;00m\n\u001b[0;32m     27\u001b[0m \u001b[39m    This is the general request method to our Deloitte REST API.\u001b[39;00m\n\u001b[0;32m     28\u001b[0m \n\u001b[1;32m   (...)\u001b[0m\n\u001b[0;32m     38\u001b[0m \u001b[39m        KeyError:   if no data is available for the given parameters a KeyError is raised.\u001b[39;00m\n\u001b[0;32m     39\u001b[0m \u001b[39m    \"\"\"\u001b[39;00m\n\u001b[0;32m     41\u001b[0m     response \u001b[39m=\u001b[39m requests\u001b[39m.\u001b[39mget(\n\u001b[1;32m---> 42\u001b[0m         url\u001b[39m=\u001b[39m\u001b[39mself\u001b[39m\u001b[39m.\u001b[39m_base_url \u001b[39m+\u001b[39m endpoint,\n\u001b[0;32m     43\u001b[0m         headers\u001b[39m=\u001b[39m\u001b[39mself\u001b[39m\u001b[39m.\u001b[39m_auth_header,\n\u001b[0;32m     44\u001b[0m         params\u001b[39m=\u001b[39mparams,\n\u001b[0;32m     45\u001b[0m         verify\u001b[39m=\u001b[39m\u001b[39mFalse\u001b[39;00m,\n\u001b[0;32m     46\u001b[0m     )\n\u001b[0;32m     48\u001b[0m     \u001b[39mif\u001b[39;00m response\u001b[39m.\u001b[39mstatus_code \u001b[39m==\u001b[39m \u001b[39m200\u001b[39m:\n\u001b[0;32m     49\u001b[0m         \u001b[39mif\u001b[39;00m response\u001b[39m.\u001b[39mjson():\n",
      "\u001b[1;31mTypeError\u001b[0m: unsupported operand type(s) for +: 'NoneType' and 'str'"
     ]
    }
   ],
   "source": []
  },
  {
   "cell_type": "code",
   "execution_count": 19,
   "metadata": {
    "collapsed": true
   },
   "outputs": [],
   "source": [
    "calc_date = ql.Date(14, 6, 2016)\n",
    "ql.Settings.instance().evaluationDate = calc_date"
   ]
  },
  {
   "cell_type": "markdown",
   "metadata": {},
   "source": [
    "# Market data for rates"
   ]
  },
  {
   "cell_type": "code",
   "execution_count": 37,
   "metadata": {
    "collapsed": true
   },
   "outputs": [],
   "source": [
    "dates = [ql.Date(14,6,2016), ql.Date(14,9,2016), \n",
    "         ql.Date(14,12,2016), ql.Date(14,6,2017),\n",
    "         ql.Date(14,6,2019), ql.Date(14,6,2021),\n",
    "         ql.Date(15,6,2026), ql.Date(16,6,2031),\n",
    "         ql.Date(16,6,2036), ql.Date(14,6,2046)\n",
    "         ]\n",
    "yields = [0.000000, 0.006616, 0.007049, 0.007795,\n",
    "          0.009599, 0.011203, 0.015068, 0.017583,\n",
    "          0.018998, 0.020080]\n",
    "day_count = ql.ActualActual(ql.ActualActual.ISDA)\n",
    "calendar = ql.UnitedStates(ql.UnitedStates.NYSE )\n",
    "interpolation = ql.Linear()\n",
    "compounding = ql.Compounded\n",
    "compounding_frequency = ql.Annual\n",
    "\n",
    "term_structure = ql.ZeroCurve(dates, yields, day_count, calendar, \n",
    "                       interpolation, compounding, compounding_frequency)\n",
    "ts_handle = ql.YieldTermStructureHandle(term_structure)\n"
   ]
  },
  {
   "cell_type": "markdown",
   "metadata": {},
   "source": [
    "# Price capped floater with flat vol"
   ]
  },
  {
   "cell_type": "code",
   "execution_count": 38,
   "metadata": {
    "collapsed": false
   },
   "outputs": [],
   "source": [
    "start_date = ql.Date(14, 6, 2016)\n",
    "end_date = ql.Date(14, 6 , 2026)\n",
    "period = ql.Period(3, ql.Months)\n",
    "calendar = ql.UnitedStates(ql.UnitedStates.NYSE)\n",
    "buss_convention = ql.ModifiedFollowing\n",
    "rule = ql.DateGeneration.Forward\n",
    "end_of_month = False\n",
    "\n",
    "schedule = ql.Schedule(start_date, end_date, period,\n",
    "                       calendar, buss_convention, buss_convention, \n",
    "                       rule, end_of_month)"
   ]
  },
  {
   "cell_type": "code",
   "execution_count": 39,
   "metadata": {
    "collapsed": true
   },
   "outputs": [],
   "source": [
    "ibor_index = ql.USDLibor(ql.Period(3, ql.Months), ts_handle)\n",
    "ibor_index.addFixing(ql.Date(10,6,2016), 0.0065560)\n",
    "\n",
    "ibor_leg = ql.IborLeg([1000000], schedule, ibor_index)\n"
   ]
  },
  {
   "cell_type": "code",
   "execution_count": 40,
   "metadata": {
    "collapsed": false
   },
   "outputs": [
    {
     "name": "stdout",
     "output_type": "stream",
     "text": [
      "54369.85806286925\n"
     ]
    }
   ],
   "source": [
    "strike = 0.02\n",
    "cap = ql.Cap(ibor_leg, [strike])\n",
    "\n",
    "vols = ql.QuoteHandle(ql.SimpleQuote(0.547295))\n",
    "engine = ql.BlackCapFloorEngine(ts_handle, vols)\n",
    "\n",
    "cap.setPricingEngine(engine)\n",
    "print(cap.NPV())"
   ]
  },
  {
   "cell_type": "markdown",
   "metadata": {},
   "source": [
    "# Vola surface"
   ]
  },
  {
   "cell_type": "code",
   "execution_count": 29,
   "metadata": {
    "collapsed": true
   },
   "outputs": [],
   "source": [
    "strikes = [0.01,0.015, 0.02]\n",
    "expiries = [ql.Period(i, ql.Years) for i in range(1,11)] + [ql.Period(12, ql.Years)]\n",
    "vols = ql.Matrix(len(expiries), len(strikes))\n",
    "data = [[47.27, 55.47, 64.07, 70.14, 72.13, 69.41, 72.15, 67.28, 66.08, 68.64, 65.83],\n",
    "   [46.65,54.15,61.47,65.53,66.28,62.83,64.42,60.05,58.71,60.35,55.91],\n",
    "   [46.6,52.65,59.32,62.05,62.0,58.09,59.03,55.0,53.59,54.74,49.54]\n",
    "   ]\n",
    "\n",
    "for i in range(vols.rows()):\n",
    "    for j in range(vols.columns()):\n",
    "        vols[i][j] = data[j][i]/100.0"
   ]
  },
  {
   "cell_type": "code",
   "execution_count": 30,
   "metadata": {
    "collapsed": false
   },
   "outputs": [
    {
     "name": "stdout",
     "output_type": "stream",
     "text": [
      "[[47.27, 55.47, 64.07, 70.14, 72.13, 69.41, 72.15, 67.28, 66.08, 68.64, 65.83], [46.65, 54.15, 61.47, 65.53, 66.28, 62.83, 64.42, 60.05, 58.71, 60.35, 55.91], [46.6, 52.65, 59.32, 62.05, 62.0, 58.09, 59.03, 55.0, 53.59, 54.74, 49.54]]\n"
     ]
    }
   ],
   "source": [
    "print(data)\n"
   ]
  },
  {
   "cell_type": "code",
   "execution_count": 32,
   "metadata": {
    "collapsed": true
   },
   "outputs": [],
   "source": [
    "calendar = ql.UnitedStates(ql.UnitedStates.NYSE)\n",
    "bdc = ql.ModifiedFollowing\n",
    "daycount = ql.Actual365Fixed()\n",
    "settlement_days = 2\n",
    "capfloor_vol = ql.CapFloorTermVolSurface(settlement_days, calendar, bdc, expiries, strikes, vols, daycount)"
   ]
  },
  {
   "cell_type": "code",
   "execution_count": null,
   "metadata": {
    "collapsed": true
   },
   "outputs": [],
   "source": []
  },
  {
   "cell_type": "code",
   "execution_count": 33,
   "metadata": {
    "collapsed": true
   },
   "outputs": [],
   "source": [
    "optionlet_surf = ql.OptionletStripper1(capfloor_vol, ibor_index)\n",
    "ovs_handle = ql.OptionletVolatilityStructureHandle(\n",
    "    ql.StrippedOptionletAdapter(optionlet_surf)\n",
    ")\n"
   ]
  },
  {
   "cell_type": "code",
   "execution_count": 34,
   "metadata": {
    "collapsed": false
   },
   "outputs": [],
   "source": [
    "import matplotlib.pyplot as plt\n",
    "import numpy as np\n",
    "%matplotlib inline"
   ]
  },
  {
   "cell_type": "code",
   "execution_count": 35,
   "metadata": {
    "collapsed": false
   },
   "outputs": [
    {
     "data": {
      "text/plain": [
       "<matplotlib.legend.Legend at 0x24ffcba62d0>"
      ]
     },
     "execution_count": 35,
     "metadata": {},
     "output_type": "execute_result"
    },
    {
     "data": {
      "image/png": "[encoded data removed]",
      "text/plain": [
       "<Figure size 640x480 with 1 Axes>"
      ]
     },
     "metadata": {},
     "output_type": "display_data"
    }
   ],
   "source": [
    "tenors = np.arange(0,10,0.25)\n",
    "strike = 0.015\n",
    "capfloor_vols = [capfloor_vol.volatility(t, strike) for t in tenors]\n",
    "opionlet_vols = [ovs_handle.volatility(t, strike) for t in tenors]\n",
    "\n",
    "plt.plot(tenors, capfloor_vols, \"--\", label=\"CapFloor Vols\")\n",
    "plt.plot(tenors, opionlet_vols,\"-\", label=\"Optionlet Vols\")\n",
    "plt.legend(bbox_to_anchor=(0.5, 0.25))\n"
   ]
  },
  {
   "cell_type": "code",
   "execution_count": 36,
   "metadata": {
    "collapsed": false
   },
   "outputs": [
    {
     "name": "stdout",
     "output_type": "stream",
     "text": [
      "54384.928314950135\n"
     ]
    }
   ],
   "source": [
    "engine2 = ql.BlackCapFloorEngine(ts_handle, ovs_handle)\n",
    "cap.setPricingEngine(engine2)\n",
    "print(cap.NPV())"
   ]
  },
  {
   "cell_type": "code",
   "execution_count": null,
   "metadata": {
    "collapsed": true
   },
   "outputs": [],
   "source": []
  }
 ],
 "metadata": {
  "kernelspec": {
   "display_name": "Python 3 (ipykernel)",
   "language": "python",
   "name": "python3"
  },
  "language_info": {
   "codemirror_mode": {
    "name": "ipython",
    "version": 3
   },
   "file_extension": ".py",
   "mimetype": "text/x-python",
   "name": "python",
   "nbconvert_exporter": "python",
   "pygments_lexer": "ipython3",
   "version": "3.11.4"
  }
 },
 "nbformat": 4,
 "nbformat_minor": 0
}
