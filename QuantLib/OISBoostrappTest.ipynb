{
 "cells": [
  {
   "cell_type": "markdown",
   "metadata": {},
   "source": [
    "# Zerobond yields from Overnight Index Swaps"
   ]
  },
  {
   "cell_type": "code",
   "execution_count": 1,
   "metadata": {
    "scrolled": true
   },
   "outputs": [],
   "source": [
    "# import the used libraries\n",
    "import numpy as np\n",
    "import pandas as pd\n",
    "import matplotlib.pyplot as plt\n",
    "import QuantLib as ql\n",
    "import BootStrapping as bs\n",
    "import MarketData as md\n",
    "import ReadExcel\n",
    "import  math\n",
    "import openpyxl \n",
    "import re\n",
    "%matplotlib inline"
   ]
  },
  {
   "cell_type": "code",
   "execution_count": 7,
   "metadata": {},
   "outputs": [],
   "source": [
    "# Setting evaluation date\n",
    "today = ql.Date.todaysDate()\n",
    "today = ql.TARGET().adjust(today,ql.Following)\n",
    "ql.Settings.instance().setEvaluationDate(today)"
   ]
  },
  {
   "cell_type": "markdown",
   "metadata": {},
   "source": [
    "# Market quotes"
   ]
  },
  {
   "cell_type": "code",
   "execution_count": 8,
   "metadata": {},
   "outputs": [
    {
     "name": "stdout",
     "output_type": "stream",
     "text": [
      "Could not parse FUTURE Term: 10F\n",
      "Could not parse FUTURE Term: 11F\n",
      "Could not parse FUTURE Term: 12F\n",
      "Could not parse FUTURE Term: 13F\n",
      "Could not parse FUTURE Term: 14F\n",
      "Could not parse FUTURE Term: 15F\n",
      "Could not parse FUTURE Term: 16F\n",
      "Could not parse FUTURE Term: 17F\n",
      "Could not parse FUTURE Term: 18F\n",
      "Could not parse FUTURE Term: 19F\n",
      "Could not parse FUTURE Term: 20F\n",
      "Could not parse FUTURE Term: 21F\n",
      "Could not parse FUTURE Term: 22F\n",
      "Could not parse FUTURE Term: 23F\n",
      "Could not parse FUTURE Term: 24F\n",
      "Could not parse SERIAL_FUTURE Term: 1SF\n",
      "Could not parse SERIAL_FUTURE Term: 2SF\n",
      "Could not parse SERIAL_FUTURE Term: 3SF\n",
      "Could not parse SERIAL_FUTURE Term: 4SF\n",
      "Could not parse SERIAL_FUTURE Term: 5SF\n",
      "Could not parse SERIAL_FUTURE Term: 6SF\n",
      "Could not parse SERIAL_FUTURE Term: 7SF\n",
      "Could not parse SERIAL_FUTURE Term: 8SF\n",
      "Could not parse SERIAL_FUTURE Term: 9SF\n",
      "Could not parse SERIAL_FUTURE Term: 10SF\n",
      "Could not parse SERIAL_FUTURE Term: 11SF\n",
      "Could not parse SERIAL_FUTURE Term: 12SF\n",
      "Could not parse SERIAL_FUTURE Term: 13SF\n",
      "Could not parse SERIAL_FUTURE Term: 14SF\n",
      "Could not parse SERIAL_FUTURE Term: 15SF\n",
      "Could not parse SERIAL_FUTURE Term: 16SF\n",
      "Could not parse SERIAL_FUTURE Term: 17SF\n",
      "Could not parse SERIAL_FUTURE Term: 18SF\n",
      "Could not parse SERIAL_FUTURE Term: 19SF\n",
      "Could not parse SERIAL_FUTURE Term: 20SF\n",
      "Could not parse SERIAL_FUTURE Term: 21SF\n",
      "Could not parse SERIAL_FUTURE Term: 22SF\n",
      "Could not parse SERIAL_FUTURE Term: 23SF\n",
      "Could not parse SERIAL_FUTURE Term: 24SF\n",
      "Could not parse SERIAL_FUTURE Term: 25SF\n",
      "Could not parse SERIAL_FUTURE Term: 26SF\n",
      "Could not parse SERIAL_FUTURE Term: 27SF\n",
      "Could not parse SERIAL_FUTURE Term: 28SF\n",
      "Could not parse SERIAL_SPOT_FRA Term: 1 MO X 4 MO\n",
      "Could not parse SERIAL_SPOT_FRA Term: 2 MO X 5 MO\n",
      "Could not parse SERIAL_SPOT_FRA Term: 3 MO X 6 MO\n",
      "Could not parse SERIAL_SPOT_FRA Term: 4 MO X 7 MO\n",
      "Could not parse SERIAL_SPOT_FRA Term: 5 MO X 8 MO\n",
      "Could not parse SERIAL_SPOT_FRA Term: 6 MO X 9 MO\n",
      "Could not parse SERIAL_SPOT_FRA Term: 7 MO X 10 MO\n",
      "Could not parse SERIAL_SPOT_FRA Term: 8 MO X 11 MO\n",
      "Could not parse SERIAL_SPOT_FRA Term: 9 MO X 12 MO\n",
      "Could not parse SERIAL_SPOT_FRA Term: 10 MO X 13 MO\n",
      "Could not parse SERIAL_SPOT_FRA Term: 11 MO X 14 MO\n",
      "Could not parse SERIAL_SPOT_FRA Term: 12 MO X 15 MO\n",
      "Could not parse SWAP Term: 1 YR\n",
      "Could not parse SWAP Term: 2 YR\n",
      "Could not parse SWAP Term: 3 YR\n",
      "Could not parse SWAP Term: 4 YR\n",
      "Could not parse SWAP Term: 5 YR\n",
      "Could not parse SWAP Term: 6 YR\n",
      "Could not parse SWAP Term: 7 YR\n",
      "Could not parse SWAP Term: 8 YR\n",
      "Could not parse SWAP Term: 9 YR\n",
      "Could not parse SWAP Term: 10 YR\n",
      "Could not parse SWAP Term: 11 YR\n",
      "Could not parse SWAP Term: 12 YR\n",
      "Could not parse SWAP Term: 15 YR\n",
      "Could not parse SWAP Term: 20 YR\n",
      "Could not parse SWAP Term: 25 YR\n",
      "Could not parse SWAP Term: 30 YR\n",
      "Could not parse SWAP Term: 35 YR\n",
      "Could not parse SWAP Term: 40 YR\n",
      "Could not parse SWAP Term: 50 YR\n",
      "Could not parse SWAP Term: 5 YR\n",
      "Could not parse SWAP Term: 6 YR\n",
      "Could not parse SWAP Term: 7 YR\n",
      "Could not parse SWAP Term: 8 YR\n",
      "Could not parse SWAP Term: 9 YR\n",
      "Could not parse SWAP Term: 10 YR\n",
      "Could not parse SWAP Term: 11 YR\n",
      "Could not parse SWAP Term: 12 YR\n",
      "Could not parse SWAP Term: 15 YR\n",
      "Could not parse SWAP Term: 20 YR\n",
      "Could not parse SWAP Term: 25 YR\n",
      "Could not parse SWAP Term: 30 YR\n",
      "Could not parse SWAP Term: 35 YR\n",
      "Could not parse SWAP Term: 40 YR\n",
      "Could not parse SWAP Term: 45 YR\n",
      "Could not parse SWAP Term: 50 YR\n"
     ]
    },
    {
     "name": "stderr",
     "output_type": "stream",
     "text": [
      "c:\\Users\\fhoefer\\source\\repos\\fnotebooks\\QuantLib\\MarketData.py:108: FutureWarning: The default dtype for empty Series will be 'object' instead of 'float64' in a future version. Specify a dtype explicitly to silence this warning.\n",
      "  maturity = pd.Series([ql.Period(quote.numTimeUnits,quote.timeUnit) for quote in quotes], name='Maturity')\n",
      "c:\\Users\\fhoefer\\source\\repos\\fnotebooks\\QuantLib\\MarketData.py:109: FutureWarning: The default dtype for empty Series will be 'object' instead of 'float64' in a future version. Specify a dtype explicitly to silence this warning.\n",
      "  rate = pd.Series([quote.rate for quote in quotes], name='Rate')\n"
     ]
    }
   ],
   "source": [
    "mc = md.MarketConventions()\n",
    "mdata = md.getMarketData(\"CurvesFromBB\\EUR.OIS.xlsx\",'Bcurve',['Term','InstType','InstDes','Mid','Frequency','DayCount'])"
   ]
  },
  {
   "cell_type": "code",
   "execution_count": 22,
   "metadata": {},
   "outputs": [
    {
     "data": {
      "text/html": [
       "<div>\n",
       "<style scoped>\n",
       "    .dataframe tbody tr th:only-of-type {\n",
       "        vertical-align: middle;\n",
       "    }\n",
       "\n",
       "    .dataframe tbody tr th {\n",
       "        vertical-align: top;\n",
       "    }\n",
       "\n",
       "    .dataframe thead th {\n",
       "        text-align: right;\n",
       "    }\n",
       "</style>\n",
       "<table border=\"1\" class=\"dataframe\">\n",
       "  <thead>\n",
       "    <tr style=\"text-align: right;\">\n",
       "      <th></th>\n",
       "      <th>Maturity</th>\n",
       "      <th>Rate</th>\n",
       "      <th>YearFrac</th>\n",
       "    </tr>\n",
       "  </thead>\n",
       "  <tbody>\n",
       "    <tr>\n",
       "      <th>0</th>\n",
       "      <td>1D</td>\n",
       "      <td>-0.00057</td>\n",
       "      <td>0.002778</td>\n",
       "    </tr>\n",
       "  </tbody>\n",
       "</table>\n",
       "</div>"
      ],
      "text/plain": [
       "  Maturity     Rate  YearFrac\n",
       "0       1D -0.00057  0.002778"
      ]
     },
     "execution_count": 22,
     "metadata": {},
     "output_type": "execute_result"
    }
   ],
   "source": [
    "mdata.depoQuotesDF['YearFrac'] = md.get_year_frac(today,mdata.depoQuotesDF['Maturity'],ql.ModifiedFollowing)\n",
    "mdata.depoQuotesDF"
   ]
  },
  {
   "cell_type": "code",
   "execution_count": 23,
   "metadata": {},
   "outputs": [
    {
     "data": {
      "text/html": [
       "<div>\n",
       "<style scoped>\n",
       "    .dataframe tbody tr th:only-of-type {\n",
       "        vertical-align: middle;\n",
       "    }\n",
       "\n",
       "    .dataframe tbody tr th {\n",
       "        vertical-align: top;\n",
       "    }\n",
       "\n",
       "    .dataframe thead th {\n",
       "        text-align: right;\n",
       "    }\n",
       "</style>\n",
       "<table border=\"1\" class=\"dataframe\">\n",
       "  <thead>\n",
       "    <tr style=\"text-align: right;\">\n",
       "      <th></th>\n",
       "      <th>Maturity</th>\n",
       "      <th>Rate</th>\n",
       "      <th>YearFrac</th>\n",
       "    </tr>\n",
       "  </thead>\n",
       "  <tbody>\n",
       "    <tr>\n",
       "      <th>0</th>\n",
       "      <td>1W</td>\n",
       "      <td>-0.000560</td>\n",
       "      <td>0.019444</td>\n",
       "    </tr>\n",
       "    <tr>\n",
       "      <th>1</th>\n",
       "      <td>2W</td>\n",
       "      <td>-0.000558</td>\n",
       "      <td>0.038889</td>\n",
       "    </tr>\n",
       "    <tr>\n",
       "      <th>2</th>\n",
       "      <td>1M</td>\n",
       "      <td>-0.000630</td>\n",
       "      <td>0.088889</td>\n",
       "    </tr>\n",
       "    <tr>\n",
       "      <th>3</th>\n",
       "      <td>2M</td>\n",
       "      <td>-0.000730</td>\n",
       "      <td>0.169444</td>\n",
       "    </tr>\n",
       "    <tr>\n",
       "      <th>4</th>\n",
       "      <td>3M</td>\n",
       "      <td>-0.000810</td>\n",
       "      <td>0.252778</td>\n",
       "    </tr>\n",
       "    <tr>\n",
       "      <th>5</th>\n",
       "      <td>4M</td>\n",
       "      <td>-0.000870</td>\n",
       "      <td>0.341667</td>\n",
       "    </tr>\n",
       "    <tr>\n",
       "      <th>6</th>\n",
       "      <td>5M</td>\n",
       "      <td>-0.000930</td>\n",
       "      <td>0.425000</td>\n",
       "    </tr>\n",
       "    <tr>\n",
       "      <th>7</th>\n",
       "      <td>6M</td>\n",
       "      <td>-0.001000</td>\n",
       "      <td>0.505556</td>\n",
       "    </tr>\n",
       "    <tr>\n",
       "      <th>8</th>\n",
       "      <td>7M</td>\n",
       "      <td>-0.001040</td>\n",
       "      <td>0.594444</td>\n",
       "    </tr>\n",
       "    <tr>\n",
       "      <th>9</th>\n",
       "      <td>8M</td>\n",
       "      <td>-0.001080</td>\n",
       "      <td>0.675000</td>\n",
       "    </tr>\n",
       "    <tr>\n",
       "      <th>10</th>\n",
       "      <td>9M</td>\n",
       "      <td>-0.001110</td>\n",
       "      <td>0.761111</td>\n",
       "    </tr>\n",
       "    <tr>\n",
       "      <th>11</th>\n",
       "      <td>10M</td>\n",
       "      <td>-0.001140</td>\n",
       "      <td>0.847222</td>\n",
       "    </tr>\n",
       "    <tr>\n",
       "      <th>12</th>\n",
       "      <td>11M</td>\n",
       "      <td>-0.001150</td>\n",
       "      <td>0.930556</td>\n",
       "    </tr>\n",
       "    <tr>\n",
       "      <th>13</th>\n",
       "      <td>12M</td>\n",
       "      <td>-0.001190</td>\n",
       "      <td>1.022222</td>\n",
       "    </tr>\n",
       "    <tr>\n",
       "      <th>14</th>\n",
       "      <td>18M</td>\n",
       "      <td>-0.001300</td>\n",
       "      <td>1.519444</td>\n",
       "    </tr>\n",
       "    <tr>\n",
       "      <th>15</th>\n",
       "      <td>2Y</td>\n",
       "      <td>-0.001320</td>\n",
       "      <td>2.033333</td>\n",
       "    </tr>\n",
       "    <tr>\n",
       "      <th>16</th>\n",
       "      <td>30M</td>\n",
       "      <td>-0.001185</td>\n",
       "      <td>2.538889</td>\n",
       "    </tr>\n",
       "    <tr>\n",
       "      <th>17</th>\n",
       "      <td>3Y</td>\n",
       "      <td>-0.001030</td>\n",
       "      <td>3.044444</td>\n",
       "    </tr>\n",
       "    <tr>\n",
       "      <th>18</th>\n",
       "      <td>4Y</td>\n",
       "      <td>-0.000570</td>\n",
       "      <td>4.058333</td>\n",
       "    </tr>\n",
       "    <tr>\n",
       "      <th>19</th>\n",
       "      <td>5Y</td>\n",
       "      <td>-0.000020</td>\n",
       "      <td>5.075000</td>\n",
       "    </tr>\n",
       "    <tr>\n",
       "      <th>20</th>\n",
       "      <td>6Y</td>\n",
       "      <td>0.000530</td>\n",
       "      <td>6.088889</td>\n",
       "    </tr>\n",
       "    <tr>\n",
       "      <th>21</th>\n",
       "      <td>7Y</td>\n",
       "      <td>0.001100</td>\n",
       "      <td>7.108333</td>\n",
       "    </tr>\n",
       "    <tr>\n",
       "      <th>22</th>\n",
       "      <td>8Y</td>\n",
       "      <td>0.001710</td>\n",
       "      <td>8.119444</td>\n",
       "    </tr>\n",
       "    <tr>\n",
       "      <th>23</th>\n",
       "      <td>9Y</td>\n",
       "      <td>0.002260</td>\n",
       "      <td>9.133333</td>\n",
       "    </tr>\n",
       "    <tr>\n",
       "      <th>24</th>\n",
       "      <td>10Y</td>\n",
       "      <td>0.002780</td>\n",
       "      <td>10.147222</td>\n",
       "    </tr>\n",
       "    <tr>\n",
       "      <th>25</th>\n",
       "      <td>11Y</td>\n",
       "      <td>0.003070</td>\n",
       "      <td>11.161111</td>\n",
       "    </tr>\n",
       "    <tr>\n",
       "      <th>26</th>\n",
       "      <td>12Y</td>\n",
       "      <td>0.003740</td>\n",
       "      <td>12.175000</td>\n",
       "    </tr>\n",
       "    <tr>\n",
       "      <th>27</th>\n",
       "      <td>15Y</td>\n",
       "      <td>0.004850</td>\n",
       "      <td>15.219444</td>\n",
       "    </tr>\n",
       "    <tr>\n",
       "      <th>28</th>\n",
       "      <td>20Y</td>\n",
       "      <td>0.006045</td>\n",
       "      <td>20.291667</td>\n",
       "    </tr>\n",
       "    <tr>\n",
       "      <th>29</th>\n",
       "      <td>25Y</td>\n",
       "      <td>0.006730</td>\n",
       "      <td>25.366667</td>\n",
       "    </tr>\n",
       "    <tr>\n",
       "      <th>30</th>\n",
       "      <td>30Y</td>\n",
       "      <td>0.007210</td>\n",
       "      <td>30.441667</td>\n",
       "    </tr>\n",
       "    <tr>\n",
       "      <th>31</th>\n",
       "      <td>35Y</td>\n",
       "      <td>0.007585</td>\n",
       "      <td>35.516667</td>\n",
       "    </tr>\n",
       "    <tr>\n",
       "      <th>32</th>\n",
       "      <td>40Y</td>\n",
       "      <td>0.007770</td>\n",
       "      <td>40.583333</td>\n",
       "    </tr>\n",
       "    <tr>\n",
       "      <th>33</th>\n",
       "      <td>50Y</td>\n",
       "      <td>0.007475</td>\n",
       "      <td>50.730556</td>\n",
       "    </tr>\n",
       "  </tbody>\n",
       "</table>\n",
       "</div>"
      ],
      "text/plain": [
       "   Maturity      Rate   YearFrac\n",
       "0        1W -0.000560   0.019444\n",
       "1        2W -0.000558   0.038889\n",
       "2        1M -0.000630   0.088889\n",
       "3        2M -0.000730   0.169444\n",
       "4        3M -0.000810   0.252778\n",
       "5        4M -0.000870   0.341667\n",
       "6        5M -0.000930   0.425000\n",
       "7        6M -0.001000   0.505556\n",
       "8        7M -0.001040   0.594444\n",
       "9        8M -0.001080   0.675000\n",
       "10       9M -0.001110   0.761111\n",
       "11      10M -0.001140   0.847222\n",
       "12      11M -0.001150   0.930556\n",
       "13      12M -0.001190   1.022222\n",
       "14      18M -0.001300   1.519444\n",
       "15       2Y -0.001320   2.033333\n",
       "16      30M -0.001185   2.538889\n",
       "17       3Y -0.001030   3.044444\n",
       "18       4Y -0.000570   4.058333\n",
       "19       5Y -0.000020   5.075000\n",
       "20       6Y  0.000530   6.088889\n",
       "21       7Y  0.001100   7.108333\n",
       "22       8Y  0.001710   8.119444\n",
       "23       9Y  0.002260   9.133333\n",
       "24      10Y  0.002780  10.147222\n",
       "25      11Y  0.003070  11.161111\n",
       "26      12Y  0.003740  12.175000\n",
       "27      15Y  0.004850  15.219444\n",
       "28      20Y  0.006045  20.291667\n",
       "29      25Y  0.006730  25.366667\n",
       "30      30Y  0.007210  30.441667\n",
       "31      35Y  0.007585  35.516667\n",
       "32      40Y  0.007770  40.583333\n",
       "33      50Y  0.007475  50.730556"
      ]
     },
     "execution_count": 23,
     "metadata": {},
     "output_type": "execute_result"
    }
   ],
   "source": [
    "mdata.oiSwapQuotesDF['YearFrac'] = md.get_year_frac(today,mdata.oiSwapQuotesDF['Maturity'],ql.ModifiedFollowing)\n",
    "mdata.oiSwapQuotesDF"
   ]
  },
  {
   "cell_type": "code",
   "execution_count": 25,
   "metadata": {},
   "outputs": [
    {
     "data": {
      "text/plain": [
       "<Axes: xlabel='YearFrac'>"
      ]
     },
     "execution_count": 25,
     "metadata": {},
     "output_type": "execute_result"
    },
    {
     "data": {
      "image/png": "[encoded data removed]",
      "text/plain": [
       "<Figure size 640x480 with 1 Axes>"
      ]
     },
     "metadata": {},
     "output_type": "display_data"
    },
    {
     "data": {
      "image/png": "[encoded data removed]",
      "text/plain": [
       "<Figure size 640x480 with 1 Axes>"
      ]
     },
     "metadata": {},
     "output_type": "display_data"
    }
   ],
   "source": [
    "mdata.oiSwapQuotesDF[['YearFrac','Rate']].set_index('YearFrac').plot()\n",
    "mdata.depoQuotesDF[['YearFrac','Rate']].set_index('YearFrac').plot()"
   ]
  },
  {
   "cell_type": "code",
   "execution_count": null,
   "metadata": {},
   "outputs": [],
   "source": [
    "\n"
   ]
  },
  {
   "cell_type": "markdown",
   "metadata": {},
   "source": [
    "# Bootstrap zero yields from depo and OISwap"
   ]
  },
  {
   "cell_type": "code",
   "execution_count": 41,
   "metadata": {},
   "outputs": [],
   "source": [
    "oisZeroYields = bs.BootstrapOIS(mdata,mc)\n",
    "discountTermStructure = ql.RelinkableYieldTermStructureHandle()\n",
    "discountTermStructure.linkTo(oisZeroYields)\n",
    "forecastTermStructure = ql.RelinkableYieldTermStructureHandle()\n",
    "forecastTermStructure.linkTo(oisZeroYields)\n",
    "# swaps to be priced\n",
    "\n",
    "swapEngine = ql.DiscountingSwapEngine(discountTermStructure)\n",
    "def priceOISwap(numTermUnits,termUnit,index,mc):\n",
    "    nominal = 1000000\n",
    "    settlementDate = mc.calendar.advance(ql.Settings.instance().evaluationDate,mc.settlementDays,\n",
    "                                        ql.Days,mc.floatingEoniaConvention)\n",
    "    maturity = mc.calendar.advance(settlementDate,numTermUnits,termUnit,mc.fixedEoniaConvention)\n",
    "    \n",
    "  \n",
    "    fixedLegAdjustment = mc.fixedEoniaConvention\n",
    "    fixedLegDayCounter = mc.fixedEoniaDayCount\n",
    "    fixedLegTenor = ql.Period(1,ql.Years)\n",
    "    fixedRate = 0.0\n",
    "  \n",
    "    spread = 0.0    \n",
    "    floatingLegAdjustment = mc.floatingEoniaConvention\n",
    "    floatingLegDayCounter = mc.floatingEoniaDayCount\n",
    "    floatingLegTenor = ql.Period(1,ql.Years)\n",
    "   \n",
    "    fixedSchedule = ql.Schedule(settlementDate, maturity,\n",
    "                             fixedLegTenor, mc.calendar,\n",
    "                             fixedLegAdjustment, fixedLegAdjustment,\n",
    "                             ql.DateGeneration.Forward, False)\n",
    "    floatingSchedule = ql.Schedule(settlementDate, maturity,\n",
    "                                floatingLegTenor, mc.calendar,\n",
    "                                floatingLegAdjustment, floatingLegAdjustment,\n",
    "                                ql.DateGeneration.Forward, False)\n",
    "\n",
    "    spot = ql.VanillaSwap(ql.VanillaSwap.Payer, nominal,\n",
    "                       fixedSchedule, fixedRate, fixedLegDayCounter,\n",
    "                       floatingSchedule, index, spread,\n",
    "                       floatingLegDayCounter)\n",
    "    spot.setPricingEngine(swapEngine)\n",
    "    return spot.NPV(),spot.fairRate(),spot.fairSpread()\n",
    "\n",
    "\n"
   ]
  },
  {
   "cell_type": "code",
   "execution_count": 42,
   "metadata": {},
   "outputs": [
    {
     "name": "stdout",
     "output_type": "stream",
     "text": [
      "Market: Maturity: 1W\tQuoted Rate:-0.0560 %;Model: -0.0560 %;Error: 0.0000 %\n",
      "Market: Maturity: 2W\tQuoted Rate:-0.0558 %;Model: -0.0557 %;Error: -0.0000 %\n",
      "Market: Maturity: 1M\tQuoted Rate:-0.0630 %;Model: -0.0630 %;Error: -0.0000 %\n",
      "Market: Maturity: 2M\tQuoted Rate:-0.0730 %;Model: -0.0730 %;Error: 0.0000 %\n",
      "Market: Maturity: 3M\tQuoted Rate:-0.0810 %;Model: -0.0810 %;Error: -0.0000 %\n",
      "Market: Maturity: 4M\tQuoted Rate:-0.0870 %;Model: -0.0870 %;Error: 0.0000 %\n",
      "Market: Maturity: 5M\tQuoted Rate:-0.0930 %;Model: -0.0930 %;Error: 0.0000 %\n",
      "Market: Maturity: 6M\tQuoted Rate:-0.1000 %;Model: -0.1000 %;Error: -0.0000 %\n",
      "Market: Maturity: 7M\tQuoted Rate:-0.1040 %;Model: -0.1040 %;Error: -0.0000 %\n",
      "Market: Maturity: 8M\tQuoted Rate:-0.1080 %;Model: -0.1080 %;Error: 0.0000 %\n",
      "Market: Maturity: 9M\tQuoted Rate:-0.1110 %;Model: -0.1110 %;Error: -0.0000 %\n",
      "Market: Maturity: 10M\tQuoted Rate:-0.1140 %;Model: -0.1140 %;Error: -0.0000 %\n",
      "Market: Maturity: 11M\tQuoted Rate:-0.1150 %;Model: -0.1150 %;Error: -0.0000 %\n",
      "Market: Maturity: 12M\tQuoted Rate:-0.1190 %;Model: -0.1190 %;Error: 0.0000 %\n",
      "Market: Maturity: 18M\tQuoted Rate:-0.1300 %;Model: -0.1300 %;Error: 0.0000 %\n",
      "Market: Maturity: 2Y\tQuoted Rate:-0.1320 %;Model: -0.1320 %;Error: -0.0000 %\n",
      "Market: Maturity: 30M\tQuoted Rate:-0.1185 %;Model: -0.1185 %;Error: -0.0000 %\n",
      "Market: Maturity: 3Y\tQuoted Rate:-0.1030 %;Model: -0.1030 %;Error: 0.0000 %\n",
      "Market: Maturity: 4Y\tQuoted Rate:-0.0570 %;Model: -0.0570 %;Error: 0.0000 %\n",
      "Market: Maturity: 5Y\tQuoted Rate:-0.0020 %;Model: -0.0020 %;Error: 0.0000 %\n",
      "Market: Maturity: 6Y\tQuoted Rate:0.0530 %;Model: 0.0530 %;Error: 0.0000 %\n",
      "Market: Maturity: 7Y\tQuoted Rate:0.1100 %;Model: 0.1100 %;Error: 0.0000 %\n",
      "Market: Maturity: 8Y\tQuoted Rate:0.1710 %;Model: 0.1710 %;Error: 0.0000 %\n",
      "Market: Maturity: 9Y\tQuoted Rate:0.2260 %;Model: 0.2260 %;Error: 0.0000 %\n",
      "Market: Maturity: 10Y\tQuoted Rate:0.2780 %;Model: 0.2780 %;Error: 0.0000 %\n",
      "Market: Maturity: 11Y\tQuoted Rate:0.3070 %;Model: 0.3070 %;Error: 0.0000 %\n",
      "Market: Maturity: 12Y\tQuoted Rate:0.3740 %;Model: 0.3740 %;Error: 0.0000 %\n",
      "Market: Maturity: 15Y\tQuoted Rate:0.4850 %;Model: 0.4850 %;Error: -0.0000 %\n",
      "Market: Maturity: 20Y\tQuoted Rate:0.6045 %;Model: 0.6045 %;Error: 0.0000 %\n",
      "Market: Maturity: 25Y\tQuoted Rate:0.6730 %;Model: 0.6730 %;Error: 0.0000 %\n",
      "Market: Maturity: 30Y\tQuoted Rate:0.7210 %;Model: 0.7210 %;Error: 0.0000 %\n",
      "Market: Maturity: 35Y\tQuoted Rate:0.7585 %;Model: 0.7585 %;Error: 0.0000 %\n",
      "Market: Maturity: 40Y\tQuoted Rate:0.7770 %;Model: 0.7770 %;Error: -0.0000 %\n",
      "Market: Maturity: 50Y\tQuoted Rate:0.7475 %;Model: 0.7475 %;Error: 0.0000 %\n"
     ]
    }
   ],
   "source": [
    "oindex = ql.Eonia(forecastTermStructure)\n",
    "for item in sorted (mdata.oiSwapQuotes, key = lambda item : ql.Period(item.numTimeUnits,item.timeUnit)):\n",
    "    print(\"Market: \" + md.printOISwapDatum(item,4)\n",
    "    + \";Model: \" + md.formatRate(priceOISwap(item.numTimeUnits,item.timeUnit,oindex,mc)[1],4)\n",
    "    + \";Error: \" + md.formatRate(item.rate-priceOISwap(item.numTimeUnits,item.timeUnit,oindex,mc)[1],4))"
   ]
  },
  {
   "cell_type": "code",
   "execution_count": 43,
   "metadata": {},
   "outputs": [],
   "source": [
    "\n",
    "    \n",
    "    \n",
    "\n",
    "\n",
    " \n",
    "\n",
    "\n",
    "  "
   ]
  },
  {
   "cell_type": "code",
   "execution_count": 44,
   "metadata": {},
   "outputs": [
    {
     "name": "stderr",
     "output_type": "stream",
     "text": [
      "C:\\Users\\fhoefer\\AppData\\Local\\Temp\\ipykernel_8400\\786857171.py:11: UserWarning: color is redundantly defined by the 'color' keyword argument and the fmt string \"k\" (-> color=(0.0, 0.0, 0.0, 1)). The keyword argument will take precedence.\n",
      "  ax.plot(yearFracsOIS, [priceOISwap(item.numTimeUnits,item.timeUnit,oindex,mc)[1] for item in mdata.oiSwapQuotes],'k', label='OISwap Model Par Rate',color ='red')\n",
      "C:\\Users\\fhoefer\\AppData\\Local\\Temp\\ipykernel_8400\\786857171.py:12: UserWarning: color is redundantly defined by the 'color' keyword argument and the fmt string \"k\" (-> color=(0.0, 0.0, 0.0, 1)). The keyword argument will take precedence.\n",
      "  ax.plot(yearFracsOIS, [- math.log(oisZeroYields.discount(yf, True))/yf for yf in yearFracsOIS] ,'k', label='OISwap Yield Curve',color ='blue')\n"
     ]
    },
    {
     "data": {
      "text/plain": [
       "Text(0.5, 1.0, ' ')"
      ]
     },
     "execution_count": 44,
     "metadata": {},
     "output_type": "execute_result"
    },
    {
     "data": {
      "image/png": "[encoded data removed]",
      "text/plain": [
       "<Figure size 2000x2000 with 1 Axes>"
      ]
     },
     "metadata": {},
     "output_type": "display_data"
    }
   ],
   "source": [
    "fig = plt.figure(figsize=(20,20))\n",
    "ax = fig.add_subplot(211)\n",
    "ax.grid(True)\n",
    "\n",
    "yearFracsOIS = [ql.Actual360().yearFraction(today,mat) \n",
    "             for mat in [ ql.TARGET().adjust(today + x, ql.Following) \n",
    "             for x in [ql.Period(item.numTimeUnits,item.timeUnit) \n",
    "             for item in mdata.oiSwapQuotes]]]\n",
    "\n",
    "ax.plot(yearFracsOIS, [item.rate for item in mdata.oiSwapQuotes],'k--', label='OISwap Market Par Rate')\n",
    "ax.plot(yearFracsOIS, [priceOISwap(item.numTimeUnits,item.timeUnit,oindex,mc)[1] for item in mdata.oiSwapQuotes],'k', label='OISwap Model Par Rate',color ='red')\n",
    "ax.plot(yearFracsOIS, [- math.log(oisZeroYields.discount(yf, True))/yf for yf in yearFracsOIS] ,'k', label='OISwap Yield Curve',color ='blue')\n",
    "ax.set_xlabel('Maturity') \n",
    "ax.set_ylabel('Rate')\n",
    "legend = ax.legend(loc='upper right', shadow=True)\n",
    "ax.set_title(\" \", fontdict=None, loc=u'center')"
   ]
  },
  {
   "cell_type": "markdown",
   "metadata": {},
   "source": []
  },
  {
   "cell_type": "code",
   "execution_count": 45,
   "metadata": {},
   "outputs": [
    {
     "ename": "FileNotFoundError",
     "evalue": "[Errno 2] No such file or directory: 'MarketData\\\\CurvesFromBB\\\\EUR.OIS.xlsx'",
     "output_type": "error",
     "traceback": [
      "\u001b[1;31m---------------------------------------------------------------------------\u001b[0m",
      "\u001b[1;31mFileNotFoundError\u001b[0m                         Traceback (most recent call last)",
      "\u001b[1;32mc:\\Users\\fhoefer\\source\\repos\\fnotebooks\\QuantLib\\OISBoostrappTest.ipynb Cell 14\u001b[0m line \u001b[0;36m7\n\u001b[0;32m      <a href='vscode-notebook-cell:/c%3A/Users/fhoefer/source/repos/fnotebooks/QuantLib/OISBoostrappTest.ipynb#X14sZmlsZQ%3D%3D?line=0'>1</a>\u001b[0m yearFracsOIS \u001b[39m=\u001b[39m [ql\u001b[39m.\u001b[39mActual360()\u001b[39m.\u001b[39myearFraction(today,mat) \n\u001b[0;32m      <a href='vscode-notebook-cell:/c%3A/Users/fhoefer/source/repos/fnotebooks/QuantLib/OISBoostrappTest.ipynb#X14sZmlsZQ%3D%3D?line=1'>2</a>\u001b[0m              \u001b[39mfor\u001b[39;00m mat \u001b[39min\u001b[39;00m [ ql\u001b[39m.\u001b[39mTARGET()\u001b[39m.\u001b[39madjust(today \u001b[39m+\u001b[39m x, ql\u001b[39m.\u001b[39mFollowing) \n\u001b[0;32m      <a href='vscode-notebook-cell:/c%3A/Users/fhoefer/source/repos/fnotebooks/QuantLib/OISBoostrappTest.ipynb#X14sZmlsZQ%3D%3D?line=2'>3</a>\u001b[0m              \u001b[39mfor\u001b[39;00m x \u001b[39min\u001b[39;00m [ql\u001b[39m.\u001b[39mPeriod(item\u001b[39m.\u001b[39mnumTimeUnits,item\u001b[39m.\u001b[39mtimeUnit) \n\u001b[0;32m      <a href='vscode-notebook-cell:/c%3A/Users/fhoefer/source/repos/fnotebooks/QuantLib/OISBoostrappTest.ipynb#X14sZmlsZQ%3D%3D?line=3'>4</a>\u001b[0m              \u001b[39mfor\u001b[39;00m item \u001b[39min\u001b[39;00m mdata\u001b[39m.\u001b[39moiSwapQuotes]]]\n\u001b[1;32m----> <a href='vscode-notebook-cell:/c%3A/Users/fhoefer/source/repos/fnotebooks/QuantLib/OISBoostrappTest.ipynb#X14sZmlsZQ%3D%3D?line=6'>7</a>\u001b[0m wb \u001b[39m=\u001b[39m openpyxl\u001b[39m.\u001b[39mload_workbook(\u001b[39m\"\u001b[39m\u001b[39mMarketData\u001b[39m\u001b[39m\\\u001b[39m\u001b[39mCurvesFromBB\u001b[39m\u001b[39m\\\u001b[39m\u001b[39mEUR.OIS.xlsx\u001b[39m\u001b[39m\"\u001b[39m)\n\u001b[0;32m      <a href='vscode-notebook-cell:/c%3A/Users/fhoefer/source/repos/fnotebooks/QuantLib/OISBoostrappTest.ipynb#X14sZmlsZQ%3D%3D?line=7'>8</a>\u001b[0m ws \u001b[39m=\u001b[39m wb\u001b[39m.\u001b[39mget_sheet_by_name(\u001b[39m'\u001b[39m\u001b[39mBView DC (linear_s)\u001b[39m\u001b[39m'\u001b[39m)\n\u001b[0;32m      <a href='vscode-notebook-cell:/c%3A/Users/fhoefer/source/repos/fnotebooks/QuantLib/OISBoostrappTest.ipynb#X14sZmlsZQ%3D%3D?line=8'>9</a>\u001b[0m bblist \u001b[39m=\u001b[39m MarketData\u001b[39m.\u001b[39mReadExcel\u001b[39m.\u001b[39mget_list_from_cols([\u001b[39m'\u001b[39m\u001b[39mTerm\u001b[39m\u001b[39m'\u001b[39m,\u001b[39m'\u001b[39m\u001b[39mDf.Mid\u001b[39m\u001b[39m'\u001b[39m],ws) \n",
      "File \u001b[1;32m~\\AppData\\Local\\anaconda3\\Lib\\site-packages\\openpyxl\\reader\\excel.py:315\u001b[0m, in \u001b[0;36mload_workbook\u001b[1;34m(filename, read_only, keep_vba, data_only, keep_links)\u001b[0m\n\u001b[0;32m    288\u001b[0m \u001b[39mdef\u001b[39;00m \u001b[39mload_workbook\u001b[39m(filename, read_only\u001b[39m=\u001b[39m\u001b[39mFalse\u001b[39;00m, keep_vba\u001b[39m=\u001b[39mKEEP_VBA,\n\u001b[0;32m    289\u001b[0m                   data_only\u001b[39m=\u001b[39m\u001b[39mFalse\u001b[39;00m, keep_links\u001b[39m=\u001b[39m\u001b[39mTrue\u001b[39;00m):\n\u001b[0;32m    290\u001b[0m \u001b[39m    \u001b[39m\u001b[39m\"\"\"Open the given filename and return the workbook\u001b[39;00m\n\u001b[0;32m    291\u001b[0m \n\u001b[0;32m    292\u001b[0m \u001b[39m    :param filename: the path to open or a file-like object\u001b[39;00m\n\u001b[1;32m   (...)\u001b[0m\n\u001b[0;32m    313\u001b[0m \n\u001b[0;32m    314\u001b[0m \u001b[39m    \"\"\"\u001b[39;00m\n\u001b[1;32m--> 315\u001b[0m     reader \u001b[39m=\u001b[39m ExcelReader(filename, read_only, keep_vba,\n\u001b[0;32m    316\u001b[0m                         data_only, keep_links)\n\u001b[0;32m    317\u001b[0m     reader\u001b[39m.\u001b[39mread()\n\u001b[0;32m    318\u001b[0m     \u001b[39mreturn\u001b[39;00m reader\u001b[39m.\u001b[39mwb\n",
      "File \u001b[1;32m~\\AppData\\Local\\anaconda3\\Lib\\site-packages\\openpyxl\\reader\\excel.py:124\u001b[0m, in \u001b[0;36mExcelReader.__init__\u001b[1;34m(self, fn, read_only, keep_vba, data_only, keep_links)\u001b[0m\n\u001b[0;32m    122\u001b[0m \u001b[39mdef\u001b[39;00m \u001b[39m__init__\u001b[39m(\u001b[39mself\u001b[39m,  fn, read_only\u001b[39m=\u001b[39m\u001b[39mFalse\u001b[39;00m, keep_vba\u001b[39m=\u001b[39mKEEP_VBA,\n\u001b[0;32m    123\u001b[0m               data_only\u001b[39m=\u001b[39m\u001b[39mFalse\u001b[39;00m, keep_links\u001b[39m=\u001b[39m\u001b[39mTrue\u001b[39;00m):\n\u001b[1;32m--> 124\u001b[0m     \u001b[39mself\u001b[39m\u001b[39m.\u001b[39marchive \u001b[39m=\u001b[39m _validate_archive(fn)\n\u001b[0;32m    125\u001b[0m     \u001b[39mself\u001b[39m\u001b[39m.\u001b[39mvalid_files \u001b[39m=\u001b[39m \u001b[39mself\u001b[39m\u001b[39m.\u001b[39marchive\u001b[39m.\u001b[39mnamelist()\n\u001b[0;32m    126\u001b[0m     \u001b[39mself\u001b[39m\u001b[39m.\u001b[39mread_only \u001b[39m=\u001b[39m read_only\n",
      "File \u001b[1;32m~\\AppData\\Local\\anaconda3\\Lib\\site-packages\\openpyxl\\reader\\excel.py:96\u001b[0m, in \u001b[0;36m_validate_archive\u001b[1;34m(filename)\u001b[0m\n\u001b[0;32m     89\u001b[0m             msg \u001b[39m=\u001b[39m (\u001b[39m'\u001b[39m\u001b[39mopenpyxl does not support \u001b[39m\u001b[39m%s\u001b[39;00m\u001b[39m file format, \u001b[39m\u001b[39m'\u001b[39m\n\u001b[0;32m     90\u001b[0m                    \u001b[39m'\u001b[39m\u001b[39mplease check you can open \u001b[39m\u001b[39m'\u001b[39m\n\u001b[0;32m     91\u001b[0m                    \u001b[39m'\u001b[39m\u001b[39mit with Excel first. \u001b[39m\u001b[39m'\u001b[39m\n\u001b[0;32m     92\u001b[0m                    \u001b[39m'\u001b[39m\u001b[39mSupported formats are: \u001b[39m\u001b[39m%s\u001b[39;00m\u001b[39m'\u001b[39m) \u001b[39m%\u001b[39m (file_format,\n\u001b[0;32m     93\u001b[0m                                                    \u001b[39m'\u001b[39m\u001b[39m,\u001b[39m\u001b[39m'\u001b[39m\u001b[39m.\u001b[39mjoin(SUPPORTED_FORMATS))\n\u001b[0;32m     94\u001b[0m         \u001b[39mraise\u001b[39;00m InvalidFileException(msg)\n\u001b[1;32m---> 96\u001b[0m archive \u001b[39m=\u001b[39m ZipFile(filename, \u001b[39m'\u001b[39m\u001b[39mr\u001b[39m\u001b[39m'\u001b[39m)\n\u001b[0;32m     97\u001b[0m \u001b[39mreturn\u001b[39;00m archive\n",
      "File \u001b[1;32m~\\AppData\\Local\\anaconda3\\Lib\\zipfile.py:1284\u001b[0m, in \u001b[0;36mZipFile.__init__\u001b[1;34m(self, file, mode, compression, allowZip64, compresslevel, strict_timestamps, metadata_encoding)\u001b[0m\n\u001b[0;32m   1282\u001b[0m \u001b[39mwhile\u001b[39;00m \u001b[39mTrue\u001b[39;00m:\n\u001b[0;32m   1283\u001b[0m     \u001b[39mtry\u001b[39;00m:\n\u001b[1;32m-> 1284\u001b[0m         \u001b[39mself\u001b[39m\u001b[39m.\u001b[39mfp \u001b[39m=\u001b[39m io\u001b[39m.\u001b[39mopen(file, filemode)\n\u001b[0;32m   1285\u001b[0m     \u001b[39mexcept\u001b[39;00m \u001b[39mOSError\u001b[39;00m:\n\u001b[0;32m   1286\u001b[0m         \u001b[39mif\u001b[39;00m filemode \u001b[39min\u001b[39;00m modeDict:\n",
      "\u001b[1;31mFileNotFoundError\u001b[0m: [Errno 2] No such file or directory: 'MarketData\\\\CurvesFromBB\\\\EUR.OIS.xlsx'"
     ]
    }
   ],
   "source": [
    "yearFracsOIS = [ql.Actual360().yearFraction(today,mat) \n",
    "             for mat in [ ql.TARGET().adjust(today + x, ql.Following) \n",
    "             for x in [ql.Period(item.numTimeUnits,item.timeUnit) \n",
    "             for item in mdata.oiSwapQuotes]]]\n",
    "\n",
    "\n",
    "wb = openpyxl.load_workbook(\"MarketData\\CurvesFromBB\\EUR.OIS.xlsx\")\n",
    "ws = wb.get_sheet_by_name('BView DC (linear_s)')\n",
    "bblist = ReadExcel.get_list_from_cols(['Term','Df.Mid'],ws) \n",
    "bbzeroyield = []\n",
    "\n",
    "for item in bblist:      \n",
    "            numSettlementDays =0\n",
    "            matchResult = re.match(\"([0-9]{1,2}) ([a-zA-Z][a-zA-Z])\", item['Term'], flags=0)\n",
    "            if(matchResult):\n",
    "                timeUnit = md.map_BBtenor_to_quantlib(matchResult.group(2))\n",
    "                numTimeUnits = int(matchResult.group(1))\n",
    "                rate = item['Df.Mid']*100\n",
    "                bbzeroyield.append(md.Datum(numSettlementDays,timeUnit,numTimeUnits,rate/100))\n",
    "            else:\n",
    "                print(\"Could not parse \" + item['InstType'] + ' ' + 'Term' + \": \" +item['Term'] )\n",
    "\n",
    "yfData =[]\n",
    "dfData=[]\n",
    "error =[]\n",
    "for item in sorted (mdata.oiSwapQuotes, key = lambda item : ql.Period(item.numTimeUnits,item.timeUnit)):\n",
    "       term = md.printOISwapDatum(item,4)\n",
    "       yf = ql.Actual360().yearFraction(today,ql.TARGET().adjust(today + ql.Period(item.numTimeUnits,item.timeUnit), ql.Following)) \n",
    "       yfData.append(yf)\n",
    "       df = [bbitem.rate for bbitem in bbzeroyield if ((item.numTimeUnits == bbitem.numTimeUnits)&(item.timeUnit == bbitem.timeUnit))][0]\n",
    "       dfData.append(df)\n",
    "       err = df - oisZeroYields.discount(yf, True)\n",
    "       error.append(err)\n",
    "       print(\"Market: \" + term + ':  ')\n",
    "       print(\"   Discount Factor:    \" + str(oisZeroYields.discount(yf, True)))       \n",
    "       print(\"   BB Discount Factor: \" + str(df))\n",
    "       print(\"   Error: \" + str(err))"
   ]
  },
  {
   "cell_type": "code",
   "execution_count": null,
   "metadata": {},
   "outputs": [],
   "source": [
    "fig2 = plt.figure(figsize=(20,20))\n",
    "ax2 = fig2.add_subplot(211)\n",
    "ax2.grid(True)\n",
    "\n",
    "yearFracsOIS = [ql.Actual360().yearFraction(today,mat) \n",
    "             for mat in [ ql.TARGET().adjust(today + x, ql.Following) \n",
    "             for x in [ql.Period(item.numTimeUnits,item.timeUnit) \n",
    "             for item in mdata.oiSwapQuotes]]]\n",
    "\n",
    "ax2.plot(yfData, dfData,'k--', label='BB Discount Factors', color ='green')\n",
    "ax2.plot(yfData, [oisZeroYields.discount(yf, True) for yf in yfData] ,'k', label='QuantLib Discount Factors',color ='blue')\n",
    "ax2.set_xlabel('Maturity') \n",
    "ax2.set_ylabel('Rate')\n",
    "legend = ax2.legend(loc='upper right', shadow=True)\n",
    "ax2.set_title(\" \", fontdict=None, loc=u'center')"
   ]
  },
  {
   "cell_type": "code",
   "execution_count": null,
   "metadata": {
    "collapsed": true
   },
   "outputs": [],
   "source": []
  },
  {
   "cell_type": "code",
   "execution_count": null,
   "metadata": {
    "collapsed": true
   },
   "outputs": [],
   "source": []
  },
  {
   "cell_type": "code",
   "execution_count": null,
   "metadata": {
    "collapsed": true
   },
   "outputs": [],
   "source": []
  },
  {
   "cell_type": "code",
   "execution_count": null,
   "metadata": {
    "collapsed": true
   },
   "outputs": [],
   "source": []
  },
  {
   "cell_type": "code",
   "execution_count": null,
   "metadata": {
    "collapsed": true
   },
   "outputs": [],
   "source": []
  }
 ],
 "metadata": {
  "kernelspec": {
   "display_name": "Python 3 (ipykernel)",
   "language": "python",
   "name": "python3"
  },
  "language_info": {
   "codemirror_mode": {
    "name": "ipython",
    "version": 3
   },
   "file_extension": ".py",
   "mimetype": "text/x-python",
   "name": "python",
   "nbconvert_exporter": "python",
   "pygments_lexer": "ipython3",
   "version": "3.11.4"
  }
 },
 "nbformat": 4,
 "nbformat_minor": 1
}
