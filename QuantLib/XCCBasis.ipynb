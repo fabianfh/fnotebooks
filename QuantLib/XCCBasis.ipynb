{
 "cells": [
  {
   "cell_type": "markdown",
   "metadata": {},
   "source": [
    "# Cross-currency swaps"
   ]
  },
  {
   "cell_type": "markdown",
   "metadata": {},
   "source": [
    "At this time, there’s no instrument class in the library modeling cross-currency swaps. However, it’s possible to calculate their value by working with cashflows. Here is a short example."
   ]
  },
  {
   "cell_type": "code",
   "execution_count": 1,
   "metadata": {},
   "outputs": [],
   "source": [
    "import QuantLib as ql\n",
    "import pandas as pd\n",
    "\n",
    "today = ql.Date(27, ql.October, 2021)\n",
    "ql.Settings.instance().evaluationDate = today\n",
    "\n",
    "bps = 1e-4"
   ]
  },
  {
   "cell_type": "markdown",
   "metadata": {},
   "source": []
  },
  {
   "cell_type": "markdown",
   "metadata": {},
   "source": [
    "# Sample data"
   ]
  },
  {
   "cell_type": "markdown",
   "metadata": {},
   "source": []
  },
  {
   "cell_type": "code",
   "execution_count": 2,
   "metadata": {},
   "outputs": [],
   "source": [
    "sample_rates = pd.DataFrame(\n",
    "    [\n",
    "        (ql.Date(27, 10, 2021), 0.0229, 0.0893, -0.5490, -0.4869),\n",
    "        (ql.Date(27, 1, 2022), 0.0645, 0.1059, -0.5584, -0.5057),\n",
    "        (ql.Date(27, 4, 2022), 0.0414, 0.1602, -0.5480, -0.5236),\n",
    "        (ql.Date(27, 10, 2022), 0.1630, 0.2601, -0.5656, -0.5030),\n",
    "        (ql.Date(27, 10, 2023), 0.4639, 0.6281, -0.4365, -0.3468),\n",
    "        (ql.Date(27, 10, 2024), 0.7187, 0.9270, -0.3500, -0.2490),\n",
    "        (ql.Date(27, 10, 2025), 0.9056, 1.1257, -0.3041, -0.1590),\n",
    "        (ql.Date(27, 10, 2026), 1.0673, 1.2821, -0.2340, -0.0732),\n",
    "        (ql.Date(27, 10, 2027), 1.1615, 1.3978, -0.1690, -0.0331),\n",
    "        (ql.Date(27, 10, 2028), 1.2326, 1.4643, -0.1041, 0.0346),\n",
    "        (ql.Date(27, 10, 2029), 1.3050, 1.5589, -0.0070, 0.1263),\n",
    "        (ql.Date(27, 10, 2030), 1.3584, 1.5986, 0.0272, 0.1832),\n",
    "        (ql.Date(27, 10, 2031), 1.4023, 1.6488, 0.0744, 0.2599),\n",
    "        (ql.Date(27, 10, 2036), 1.5657, 1.8136, 0.3011, 0.4406),\n",
    "        (ql.Date(27, 10, 2041), 1.6191, 1.8749, 0.3882, 0.5331),\n",
    "        (ql.Date(27, 10, 2046), 1.6199, 1.8701, 0.3762, 0.5225),\n",
    "        (ql.Date(27, 10, 2051), 1.6208, 1.8496, 0.3401, 0.4926),\n",
    "    ],\n",
    "    columns=[\"date\", \"SOFR\", \"USDLibor3M\", \"ESTR\", \"Euribor3M\"],\n",
    ")"
   ]
  },
  {
   "cell_type": "code",
   "execution_count": 3,
   "metadata": {},
   "outputs": [],
   "source": [
    "def sample_curve(tag):\n",
    "    curve = ql.ZeroCurve(\n",
    "        sample_rates[\"date\"], sample_rates[tag] / 100, ql.Actual365Fixed()\n",
    "    )\n",
    "    return ql.YieldTermStructureHandle(curve)"
   ]
  },
  {
   "cell_type": "markdown",
   "metadata": {},
   "source": [
    "# Const-notional cross-currency swaps"
   ]
  },
  {
   "cell_type": "code",
   "execution_count": 4,
   "metadata": {},
   "outputs": [],
   "source": [
    "euribor3M_curve = sample_curve(\"Euribor3M\")\n",
    "euribor3M = ql.Euribor(ql.Period(3, ql.Months), euribor3M_curve)\n",
    "usdlibor3M_curve = sample_curve(\"USDLibor3M\")\n",
    "usdlibor3M = ql.USDLibor(ql.Period(3, ql.Months), usdlibor3M_curve)"
   ]
  },
  {
   "cell_type": "code",
   "execution_count": 6,
   "metadata": {},
   "outputs": [],
   "source": [
    "notional = 1_000_000\n",
    "fx_0 = 0.85\n",
    "spread = 50.0 * bps"
   ]
  },
  {
   "cell_type": "code",
   "execution_count": 7,
   "metadata": {},
   "outputs": [],
   "source": [
    "calendar = ql.UnitedStates(ql.UnitedStates.FederalReserve)\n",
    "start_date = calendar.advance(today, ql.Period(2, ql.Days))\n",
    "end_date = calendar.advance(start_date, ql.Period(5, ql.Years))\n",
    "tenor = ql.Period(3, ql.Months)\n",
    "rule = ql.DateGeneration.Forward\n",
    "convention = ql.Following\n",
    "end_of_month = False\n",
    "\n",
    "schedule = ql.Schedule(\n",
    "    start_date,\n",
    "    end_date,\n",
    "    tenor,\n",
    "    calendar,\n",
    "    convention,\n",
    "    convention,\n",
    "    rule,\n",
    "    end_of_month,\n",
    ")"
   ]
  },
  {
   "cell_type": "code",
   "execution_count": 8,
   "metadata": {},
   "outputs": [],
   "source": [
    "usd_leg = (\n",
    "    (ql.SimpleCashFlow(-notional, schedule[0]),)\n",
    "    + ql.IborLeg(\n",
    "        nominals=[notional],\n",
    "        schedule=schedule,\n",
    "        index=usdlibor3M,\n",
    "        spreads=[spread],\n",
    "    )\n",
    "    + (ql.SimpleCashFlow(notional, schedule[-1]),)\n",
    ")"
   ]
  },
  {
   "cell_type": "code",
   "execution_count": 10,
   "metadata": {},
   "outputs": [],
   "source": [
    "eur_leg = (\n",
    "    (ql.SimpleCashFlow(-notional * fx_0, schedule[0]),)\n",
    "    + ql.IborLeg(nominals=[notional * fx_0], schedule=schedule, index=euribor3M)\n",
    "    + (ql.SimpleCashFlow(notional * fx_0, schedule[-1]),)\n",
    ")"
   ]
  },
  {
   "cell_type": "markdown",
   "metadata": {},
   "source": [
    "Now, we can get the NPV of each leg in its own currency by discounting them with the corresponding overnight curve:"
   ]
  },
  {
   "cell_type": "code",
   "execution_count": 11,
   "metadata": {},
   "outputs": [
    {
     "data": {
      "text/plain": [
       "35427.65532574046"
      ]
     },
     "execution_count": 11,
     "metadata": {},
     "output_type": "execute_result"
    }
   ],
   "source": [
    "sofr_curve = sample_curve(\"SOFR\")\n",
    "usd_npv = ql.CashFlows.npv(usd_leg, sofr_curve, True)\n",
    "usd_npv"
   ]
  },
  {
   "cell_type": "code",
   "execution_count": 12,
   "metadata": {},
   "outputs": [
    {
     "data": {
      "text/plain": [
       "6908.723028828739"
      ]
     },
     "execution_count": 12,
     "metadata": {},
     "output_type": "execute_result"
    }
   ],
   "source": [
    "estr_curve = sample_curve(\"ESTR\")\n",
    "eur_npv = ql.CashFlows.npv(eur_leg, estr_curve, True)\n",
    "eur_npv"
   ]
  },
  {
   "cell_type": "code",
   "execution_count": 13,
   "metadata": {},
   "outputs": [
    {
     "data": {
      "text/plain": [
       "8127.90944568087"
      ]
     },
     "execution_count": 13,
     "metadata": {},
     "output_type": "execute_result"
    }
   ],
   "source": [
    "ql.CashFlows.npv(eur_leg, estr_curve, True) / fx_0"
   ]
  },
  {
   "cell_type": "code",
   "execution_count": 14,
   "metadata": {},
   "outputs": [],
   "source": [
    "def cashflow_data(leg):\n",
    "    data = []\n",
    "    for cf in sorted(leg, key=lambda c: c.date()):\n",
    "        coupon = ql.as_floating_rate_coupon(cf)\n",
    "        if coupon is None:\n",
    "            data.append((cf.date(), None, None, cf.amount()))\n",
    "        else:\n",
    "            data.append(\n",
    "                (\n",
    "                    coupon.date(),\n",
    "                    coupon.nominal(),\n",
    "                    coupon.rate(),\n",
    "                    coupon.amount(),\n",
    "                )\n",
    "            )\n",
    "    return pd.DataFrame(\n",
    "        data, columns=[\"date\", \"nominal\", \"rate\", \"amount\"]\n",
    "    ).style.format({\"amount\": \"{:.2f}\", \"nominal\": \"{:.2f}\", \"rate\": \"{:.2%}\"})\n"
   ]
  },
  {
   "cell_type": "markdown",
   "metadata": {},
   "source": [
    "\n",
    "Here are the cashflows in USD…\n",
    "\n"
   ]
  },
  {
   "cell_type": "code",
   "execution_count": 15,
   "metadata": {},
   "outputs": [
    {
     "data": {
      "text/html": [
       "<style type=\"text/css\">\n",
       "</style>\n",
       "<table id=\"T_502d9\">\n",
       "  <thead>\n",
       "    <tr>\n",
       "      <th class=\"blank level0\" >&nbsp;</th>\n",
       "      <th id=\"T_502d9_level0_col0\" class=\"col_heading level0 col0\" >date</th>\n",
       "      <th id=\"T_502d9_level0_col1\" class=\"col_heading level0 col1\" >nominal</th>\n",
       "      <th id=\"T_502d9_level0_col2\" class=\"col_heading level0 col2\" >rate</th>\n",
       "      <th id=\"T_502d9_level0_col3\" class=\"col_heading level0 col3\" >amount</th>\n",
       "    </tr>\n",
       "  </thead>\n",
       "  <tbody>\n",
       "    <tr>\n",
       "      <th id=\"T_502d9_level0_row0\" class=\"row_heading level0 row0\" >0</th>\n",
       "      <td id=\"T_502d9_row0_col0\" class=\"data row0 col0\" >October 29th, 2021</td>\n",
       "      <td id=\"T_502d9_row0_col1\" class=\"data row0 col1\" >nan</td>\n",
       "      <td id=\"T_502d9_row0_col2\" class=\"data row0 col2\" >nan%</td>\n",
       "      <td id=\"T_502d9_row0_col3\" class=\"data row0 col3\" >-1000000.00</td>\n",
       "    </tr>\n",
       "    <tr>\n",
       "      <th id=\"T_502d9_level0_row1\" class=\"row_heading level0 row1\" >1</th>\n",
       "      <td id=\"T_502d9_row1_col0\" class=\"data row1 col0\" >January 31st, 2022</td>\n",
       "      <td id=\"T_502d9_row1_col1\" class=\"data row1 col1\" >1000000.00</td>\n",
       "      <td id=\"T_502d9_row1_col2\" class=\"data row1 col2\" >0.61%</td>\n",
       "      <td id=\"T_502d9_row1_col3\" class=\"data row1 col3\" >1585.56</td>\n",
       "    </tr>\n",
       "    <tr>\n",
       "      <th id=\"T_502d9_level0_row2\" class=\"row_heading level0 row2\" >2</th>\n",
       "      <td id=\"T_502d9_row2_col0\" class=\"data row2 col0\" >April 29th, 2022</td>\n",
       "      <td id=\"T_502d9_row2_col1\" class=\"data row2 col1\" >1000000.00</td>\n",
       "      <td id=\"T_502d9_row2_col2\" class=\"data row2 col2\" >0.72%</td>\n",
       "      <td id=\"T_502d9_row2_col3\" class=\"data row2 col3\" >1750.57</td>\n",
       "    </tr>\n",
       "    <tr>\n",
       "      <th id=\"T_502d9_level0_row3\" class=\"row_heading level0 row3\" >3</th>\n",
       "      <td id=\"T_502d9_row3_col0\" class=\"data row3 col0\" >July 29th, 2022</td>\n",
       "      <td id=\"T_502d9_row3_col1\" class=\"data row3 col1\" >1000000.00</td>\n",
       "      <td id=\"T_502d9_row3_col2\" class=\"data row3 col2\" >0.81%</td>\n",
       "      <td id=\"T_502d9_row3_col3\" class=\"data row3 col3\" >2040.59</td>\n",
       "    </tr>\n",
       "    <tr>\n",
       "      <th id=\"T_502d9_level0_row4\" class=\"row_heading level0 row4\" >4</th>\n",
       "      <td id=\"T_502d9_row4_col0\" class=\"data row4 col0\" >October 31st, 2022</td>\n",
       "      <td id=\"T_502d9_row4_col1\" class=\"data row4 col1\" >1000000.00</td>\n",
       "      <td id=\"T_502d9_row4_col2\" class=\"data row4 col2\" >0.91%</td>\n",
       "      <td id=\"T_502d9_row4_col3\" class=\"data row4 col3\" >2386.92</td>\n",
       "    </tr>\n",
       "    <tr>\n",
       "      <th id=\"T_502d9_level0_row5\" class=\"row_heading level0 row5\" >5</th>\n",
       "      <td id=\"T_502d9_row5_col0\" class=\"data row5 col0\" >January 30th, 2023</td>\n",
       "      <td id=\"T_502d9_row5_col1\" class=\"data row5 col1\" >1000000.00</td>\n",
       "      <td id=\"T_502d9_row5_col2\" class=\"data row5 col2\" >1.22%</td>\n",
       "      <td id=\"T_502d9_row5_col3\" class=\"data row5 col3\" >3080.34</td>\n",
       "    </tr>\n",
       "    <tr>\n",
       "      <th id=\"T_502d9_level0_row6\" class=\"row_heading level0 row6\" >6</th>\n",
       "      <td id=\"T_502d9_row6_col0\" class=\"data row6 col0\" >May 1st, 2023</td>\n",
       "      <td id=\"T_502d9_row6_col1\" class=\"data row6 col1\" >1000000.00</td>\n",
       "      <td id=\"T_502d9_row6_col2\" class=\"data row6 col2\" >1.40%</td>\n",
       "      <td id=\"T_502d9_row6_col3\" class=\"data row6 col3\" >3541.30</td>\n",
       "    </tr>\n",
       "    <tr>\n",
       "      <th id=\"T_502d9_level0_row7\" class=\"row_heading level0 row7\" >7</th>\n",
       "      <td id=\"T_502d9_row7_col0\" class=\"data row7 col0\" >July 31st, 2023</td>\n",
       "      <td id=\"T_502d9_row7_col1\" class=\"data row7 col1\" >1000000.00</td>\n",
       "      <td id=\"T_502d9_row7_col2\" class=\"data row7 col2\" >1.58%</td>\n",
       "      <td id=\"T_502d9_row7_col3\" class=\"data row7 col3\" >3999.86</td>\n",
       "    </tr>\n",
       "    <tr>\n",
       "      <th id=\"T_502d9_level0_row8\" class=\"row_heading level0 row8\" >8</th>\n",
       "      <td id=\"T_502d9_row8_col0\" class=\"data row8 col0\" >October 30th, 2023</td>\n",
       "      <td id=\"T_502d9_row8_col1\" class=\"data row8 col1\" >1000000.00</td>\n",
       "      <td id=\"T_502d9_row8_col2\" class=\"data row8 col2\" >1.76%</td>\n",
       "      <td id=\"T_502d9_row8_col3\" class=\"data row8 col3\" >4444.64</td>\n",
       "    </tr>\n",
       "    <tr>\n",
       "      <th id=\"T_502d9_level0_row9\" class=\"row_heading level0 row9\" >9</th>\n",
       "      <td id=\"T_502d9_row9_col0\" class=\"data row9 col0\" >January 29th, 2024</td>\n",
       "      <td id=\"T_502d9_row9_col1\" class=\"data row9 col1\" >1000000.00</td>\n",
       "      <td id=\"T_502d9_row9_col2\" class=\"data row9 col2\" >1.79%</td>\n",
       "      <td id=\"T_502d9_row9_col3\" class=\"data row9 col3\" >4518.96</td>\n",
       "    </tr>\n",
       "    <tr>\n",
       "      <th id=\"T_502d9_level0_row10\" class=\"row_heading level0 row10\" >10</th>\n",
       "      <td id=\"T_502d9_row10_col0\" class=\"data row10 col0\" >April 29th, 2024</td>\n",
       "      <td id=\"T_502d9_row10_col1\" class=\"data row10 col1\" >1000000.00</td>\n",
       "      <td id=\"T_502d9_row10_col2\" class=\"data row10 col2\" >1.93%</td>\n",
       "      <td id=\"T_502d9_row10_col3\" class=\"data row10 col3\" >4890.80</td>\n",
       "    </tr>\n",
       "    <tr>\n",
       "      <th id=\"T_502d9_level0_row11\" class=\"row_heading level0 row11\" >11</th>\n",
       "      <td id=\"T_502d9_row11_col0\" class=\"data row11 col0\" >July 29th, 2024</td>\n",
       "      <td id=\"T_502d9_row11_col1\" class=\"data row11 col1\" >1000000.00</td>\n",
       "      <td id=\"T_502d9_row11_col2\" class=\"data row11 col2\" >2.08%</td>\n",
       "      <td id=\"T_502d9_row11_col3\" class=\"data row11 col3\" >5262.77</td>\n",
       "    </tr>\n",
       "    <tr>\n",
       "      <th id=\"T_502d9_level0_row12\" class=\"row_heading level0 row12\" >12</th>\n",
       "      <td id=\"T_502d9_row12_col0\" class=\"data row12 col0\" >October 29th, 2024</td>\n",
       "      <td id=\"T_502d9_row12_col1\" class=\"data row12 col1\" >1000000.00</td>\n",
       "      <td id=\"T_502d9_row12_col2\" class=\"data row12 col2\" >2.22%</td>\n",
       "      <td id=\"T_502d9_row12_col3\" class=\"data row12 col3\" >5682.53</td>\n",
       "    </tr>\n",
       "    <tr>\n",
       "      <th id=\"T_502d9_level0_row13\" class=\"row_heading level0 row13\" >13</th>\n",
       "      <td id=\"T_502d9_row13_col0\" class=\"data row13 col0\" >January 29th, 2025</td>\n",
       "      <td id=\"T_502d9_row13_col1\" class=\"data row13 col1\" >1000000.00</td>\n",
       "      <td id=\"T_502d9_row13_col2\" class=\"data row13 col2\" >2.06%</td>\n",
       "      <td id=\"T_502d9_row13_col3\" class=\"data row13 col3\" >5257.82</td>\n",
       "    </tr>\n",
       "    <tr>\n",
       "      <th id=\"T_502d9_level0_row14\" class=\"row_heading level0 row14\" >14</th>\n",
       "      <td id=\"T_502d9_row14_col0\" class=\"data row14 col0\" >April 29th, 2025</td>\n",
       "      <td id=\"T_502d9_row14_col1\" class=\"data row14 col1\" >1000000.00</td>\n",
       "      <td id=\"T_502d9_row14_col2\" class=\"data row14 col2\" >2.16%</td>\n",
       "      <td id=\"T_502d9_row14_col3\" class=\"data row14 col3\" >5388.64</td>\n",
       "    </tr>\n",
       "    <tr>\n",
       "      <th id=\"T_502d9_level0_row15\" class=\"row_heading level0 row15\" >15</th>\n",
       "      <td id=\"T_502d9_row15_col0\" class=\"data row15 col0\" >July 29th, 2025</td>\n",
       "      <td id=\"T_502d9_row15_col1\" class=\"data row15 col1\" >1000000.00</td>\n",
       "      <td id=\"T_502d9_row15_col2\" class=\"data row15 col2\" >2.25%</td>\n",
       "      <td id=\"T_502d9_row15_col3\" class=\"data row15 col3\" >5695.32</td>\n",
       "    </tr>\n",
       "    <tr>\n",
       "      <th id=\"T_502d9_level0_row16\" class=\"row_heading level0 row16\" >16</th>\n",
       "      <td id=\"T_502d9_row16_col0\" class=\"data row16 col0\" >October 29th, 2025</td>\n",
       "      <td id=\"T_502d9_row16_col1\" class=\"data row16 col1\" >1000000.00</td>\n",
       "      <td id=\"T_502d9_row16_col2\" class=\"data row16 col2\" >2.35%</td>\n",
       "      <td id=\"T_502d9_row16_col3\" class=\"data row16 col3\" >6000.94</td>\n",
       "    </tr>\n",
       "    <tr>\n",
       "      <th id=\"T_502d9_level0_row17\" class=\"row_heading level0 row17\" >17</th>\n",
       "      <td id=\"T_502d9_row17_col0\" class=\"data row17 col0\" >January 29th, 2026</td>\n",
       "      <td id=\"T_502d9_row17_col1\" class=\"data row17 col1\" >1000000.00</td>\n",
       "      <td id=\"T_502d9_row17_col2\" class=\"data row17 col2\" >2.27%</td>\n",
       "      <td id=\"T_502d9_row17_col3\" class=\"data row17 col3\" >5807.00</td>\n",
       "    </tr>\n",
       "    <tr>\n",
       "      <th id=\"T_502d9_level0_row18\" class=\"row_heading level0 row18\" >18</th>\n",
       "      <td id=\"T_502d9_row18_col0\" class=\"data row18 col0\" >April 29th, 2026</td>\n",
       "      <td id=\"T_502d9_row18_col1\" class=\"data row18 col1\" >1000000.00</td>\n",
       "      <td id=\"T_502d9_row18_col2\" class=\"data row18 col2\" >2.35%</td>\n",
       "      <td id=\"T_502d9_row18_col3\" class=\"data row18 col3\" >5873.71</td>\n",
       "    </tr>\n",
       "    <tr>\n",
       "      <th id=\"T_502d9_level0_row19\" class=\"row_heading level0 row19\" >19</th>\n",
       "      <td id=\"T_502d9_row19_col0\" class=\"data row19 col0\" >July 29th, 2026</td>\n",
       "      <td id=\"T_502d9_row19_col1\" class=\"data row19 col1\" >1000000.00</td>\n",
       "      <td id=\"T_502d9_row19_col2\" class=\"data row19 col2\" >2.43%</td>\n",
       "      <td id=\"T_502d9_row19_col3\" class=\"data row19 col3\" >6133.38</td>\n",
       "    </tr>\n",
       "    <tr>\n",
       "      <th id=\"T_502d9_level0_row20\" class=\"row_heading level0 row20\" >20</th>\n",
       "      <td id=\"T_502d9_row20_col0\" class=\"data row20 col0\" >October 29th, 2026</td>\n",
       "      <td id=\"T_502d9_row20_col1\" class=\"data row20 col1\" >1000000.00</td>\n",
       "      <td id=\"T_502d9_row20_col2\" class=\"data row20 col2\" >2.50%</td>\n",
       "      <td id=\"T_502d9_row20_col3\" class=\"data row20 col3\" >6388.32</td>\n",
       "    </tr>\n",
       "    <tr>\n",
       "      <th id=\"T_502d9_level0_row21\" class=\"row_heading level0 row21\" >21</th>\n",
       "      <td id=\"T_502d9_row21_col0\" class=\"data row21 col0\" >October 29th, 2026</td>\n",
       "      <td id=\"T_502d9_row21_col1\" class=\"data row21 col1\" >nan</td>\n",
       "      <td id=\"T_502d9_row21_col2\" class=\"data row21 col2\" >nan%</td>\n",
       "      <td id=\"T_502d9_row21_col3\" class=\"data row21 col3\" >1000000.00</td>\n",
       "    </tr>\n",
       "  </tbody>\n",
       "</table>\n"
      ],
      "text/plain": [
       "<pandas.io.formats.style.Styler at 0x20fbabb6250>"
      ]
     },
     "execution_count": 15,
     "metadata": {},
     "output_type": "execute_result"
    }
   ],
   "source": [
    "cashflow_data(usd_leg)"
   ]
  },
  {
   "cell_type": "code",
   "execution_count": 16,
   "metadata": {},
   "outputs": [
    {
     "data": {
      "text/html": [
       "<style type=\"text/css\">\n",
       "</style>\n",
       "<table id=\"T_76ad3\">\n",
       "  <thead>\n",
       "    <tr>\n",
       "      <th class=\"blank level0\" >&nbsp;</th>\n",
       "      <th id=\"T_76ad3_level0_col0\" class=\"col_heading level0 col0\" >date</th>\n",
       "      <th id=\"T_76ad3_level0_col1\" class=\"col_heading level0 col1\" >nominal</th>\n",
       "      <th id=\"T_76ad3_level0_col2\" class=\"col_heading level0 col2\" >rate</th>\n",
       "      <th id=\"T_76ad3_level0_col3\" class=\"col_heading level0 col3\" >amount</th>\n",
       "    </tr>\n",
       "  </thead>\n",
       "  <tbody>\n",
       "    <tr>\n",
       "      <th id=\"T_76ad3_level0_row0\" class=\"row_heading level0 row0\" >0</th>\n",
       "      <td id=\"T_76ad3_row0_col0\" class=\"data row0 col0\" >October 29th, 2021</td>\n",
       "      <td id=\"T_76ad3_row0_col1\" class=\"data row0 col1\" >nan</td>\n",
       "      <td id=\"T_76ad3_row0_col2\" class=\"data row0 col2\" >nan%</td>\n",
       "      <td id=\"T_76ad3_row0_col3\" class=\"data row0 col3\" >-850000.00</td>\n",
       "    </tr>\n",
       "    <tr>\n",
       "      <th id=\"T_76ad3_level0_row1\" class=\"row_heading level0 row1\" >1</th>\n",
       "      <td id=\"T_76ad3_row1_col0\" class=\"data row1 col0\" >January 31st, 2022</td>\n",
       "      <td id=\"T_76ad3_row1_col1\" class=\"data row1 col1\" >850000.00</td>\n",
       "      <td id=\"T_76ad3_row1_col2\" class=\"data row1 col2\" >-0.50%</td>\n",
       "      <td id=\"T_76ad3_row1_col3\" class=\"data row1 col3\" >-1108.91</td>\n",
       "    </tr>\n",
       "    <tr>\n",
       "      <th id=\"T_76ad3_level0_row2\" class=\"row_heading level0 row2\" >2</th>\n",
       "      <td id=\"T_76ad3_row2_col0\" class=\"data row2 col0\" >April 29th, 2022</td>\n",
       "      <td id=\"T_76ad3_row2_col1\" class=\"data row2 col1\" >850000.00</td>\n",
       "      <td id=\"T_76ad3_row2_col2\" class=\"data row2 col2\" >-0.53%</td>\n",
       "      <td id=\"T_76ad3_row2_col3\" class=\"data row2 col3\" >-1109.57</td>\n",
       "    </tr>\n",
       "    <tr>\n",
       "      <th id=\"T_76ad3_level0_row3\" class=\"row_heading level0 row3\" >3</th>\n",
       "      <td id=\"T_76ad3_row3_col0\" class=\"data row3 col0\" >July 29th, 2022</td>\n",
       "      <td id=\"T_76ad3_row3_col1\" class=\"data row3 col1\" >850000.00</td>\n",
       "      <td id=\"T_76ad3_row3_col2\" class=\"data row3 col2\" >-0.49%</td>\n",
       "      <td id=\"T_76ad3_row3_col3\" class=\"data row3 col3\" >-1042.88</td>\n",
       "    </tr>\n",
       "    <tr>\n",
       "      <th id=\"T_76ad3_level0_row4\" class=\"row_heading level0 row4\" >4</th>\n",
       "      <td id=\"T_76ad3_row4_col0\" class=\"data row4 col0\" >October 31st, 2022</td>\n",
       "      <td id=\"T_76ad3_row4_col1\" class=\"data row4 col1\" >850000.00</td>\n",
       "      <td id=\"T_76ad3_row4_col2\" class=\"data row4 col2\" >-0.46%</td>\n",
       "      <td id=\"T_76ad3_row4_col3\" class=\"data row4 col3\" >-1020.88</td>\n",
       "    </tr>\n",
       "    <tr>\n",
       "      <th id=\"T_76ad3_level0_row5\" class=\"row_heading level0 row5\" >5</th>\n",
       "      <td id=\"T_76ad3_row5_col0\" class=\"data row5 col0\" >January 30th, 2023</td>\n",
       "      <td id=\"T_76ad3_row5_col1\" class=\"data row5 col1\" >850000.00</td>\n",
       "      <td id=\"T_76ad3_row5_col2\" class=\"data row5 col2\" >-0.30%</td>\n",
       "      <td id=\"T_76ad3_row5_col3\" class=\"data row5 col3\" >-644.90</td>\n",
       "    </tr>\n",
       "    <tr>\n",
       "      <th id=\"T_76ad3_level0_row6\" class=\"row_heading level0 row6\" >6</th>\n",
       "      <td id=\"T_76ad3_row6_col0\" class=\"data row6 col0\" >May 1st, 2023</td>\n",
       "      <td id=\"T_76ad3_row6_col1\" class=\"data row6 col1\" >850000.00</td>\n",
       "      <td id=\"T_76ad3_row6_col2\" class=\"data row6 col2\" >-0.22%</td>\n",
       "      <td id=\"T_76ad3_row6_col3\" class=\"data row6 col3\" >-479.05</td>\n",
       "    </tr>\n",
       "    <tr>\n",
       "      <th id=\"T_76ad3_level0_row7\" class=\"row_heading level0 row7\" >7</th>\n",
       "      <td id=\"T_76ad3_row7_col0\" class=\"data row7 col0\" >July 31st, 2023</td>\n",
       "      <td id=\"T_76ad3_row7_col1\" class=\"data row7 col1\" >850000.00</td>\n",
       "      <td id=\"T_76ad3_row7_col2\" class=\"data row7 col2\" >-0.15%</td>\n",
       "      <td id=\"T_76ad3_row7_col3\" class=\"data row7 col3\" >-314.08</td>\n",
       "    </tr>\n",
       "    <tr>\n",
       "      <th id=\"T_76ad3_level0_row8\" class=\"row_heading level0 row8\" >8</th>\n",
       "      <td id=\"T_76ad3_row8_col0\" class=\"data row8 col0\" >October 30th, 2023</td>\n",
       "      <td id=\"T_76ad3_row8_col1\" class=\"data row8 col1\" >850000.00</td>\n",
       "      <td id=\"T_76ad3_row8_col2\" class=\"data row8 col2\" >-0.07%</td>\n",
       "      <td id=\"T_76ad3_row8_col3\" class=\"data row8 col3\" >-158.20</td>\n",
       "    </tr>\n",
       "    <tr>\n",
       "      <th id=\"T_76ad3_level0_row9\" class=\"row_heading level0 row9\" >9</th>\n",
       "      <td id=\"T_76ad3_row9_col0\" class=\"data row9 col0\" >January 29th, 2024</td>\n",
       "      <td id=\"T_76ad3_row9_col1\" class=\"data row9 col1\" >850000.00</td>\n",
       "      <td id=\"T_76ad3_row9_col2\" class=\"data row9 col2\" >-0.12%</td>\n",
       "      <td id=\"T_76ad3_row9_col3\" class=\"data row9 col3\" >-266.58</td>\n",
       "    </tr>\n",
       "    <tr>\n",
       "      <th id=\"T_76ad3_level0_row10\" class=\"row_heading level0 row10\" >10</th>\n",
       "      <td id=\"T_76ad3_row10_col0\" class=\"data row10 col0\" >April 29th, 2024</td>\n",
       "      <td id=\"T_76ad3_row10_col1\" class=\"data row10 col1\" >850000.00</td>\n",
       "      <td id=\"T_76ad3_row10_col2\" class=\"data row10 col2\" >-0.08%</td>\n",
       "      <td id=\"T_76ad3_row10_col3\" class=\"data row10 col3\" >-163.55</td>\n",
       "    </tr>\n",
       "    <tr>\n",
       "      <th id=\"T_76ad3_level0_row11\" class=\"row_heading level0 row11\" >11</th>\n",
       "      <td id=\"T_76ad3_row11_col0\" class=\"data row11 col0\" >July 29th, 2024</td>\n",
       "      <td id=\"T_76ad3_row11_col1\" class=\"data row11 col1\" >850000.00</td>\n",
       "      <td id=\"T_76ad3_row11_col2\" class=\"data row11 col2\" >-0.03%</td>\n",
       "      <td id=\"T_76ad3_row11_col3\" class=\"data row11 col3\" >-60.50</td>\n",
       "    </tr>\n",
       "    <tr>\n",
       "      <th id=\"T_76ad3_level0_row12\" class=\"row_heading level0 row12\" >12</th>\n",
       "      <td id=\"T_76ad3_row12_col0\" class=\"data row12 col0\" >October 29th, 2024</td>\n",
       "      <td id=\"T_76ad3_row12_col1\" class=\"data row12 col1\" >850000.00</td>\n",
       "      <td id=\"T_76ad3_row12_col2\" class=\"data row12 col2\" >0.02%</td>\n",
       "      <td id=\"T_76ad3_row12_col3\" class=\"data row12 col3\" >42.55</td>\n",
       "    </tr>\n",
       "    <tr>\n",
       "      <th id=\"T_76ad3_level0_row13\" class=\"row_heading level0 row13\" >13</th>\n",
       "      <td id=\"T_76ad3_row13_col0\" class=\"data row13 col0\" >January 29th, 2025</td>\n",
       "      <td id=\"T_76ad3_row13_col1\" class=\"data row13 col1\" >850000.00</td>\n",
       "      <td id=\"T_76ad3_row13_col2\" class=\"data row13 col2\" >0.04%</td>\n",
       "      <td id=\"T_76ad3_row13_col3\" class=\"data row13 col3\" >96.24</td>\n",
       "    </tr>\n",
       "    <tr>\n",
       "      <th id=\"T_76ad3_level0_row14\" class=\"row_heading level0 row14\" >14</th>\n",
       "      <td id=\"T_76ad3_row14_col0\" class=\"data row14 col0\" >April 29th, 2025</td>\n",
       "      <td id=\"T_76ad3_row14_col1\" class=\"data row14 col1\" >850000.00</td>\n",
       "      <td id=\"T_76ad3_row14_col2\" class=\"data row14 col2\" >0.09%</td>\n",
       "      <td id=\"T_76ad3_row14_col3\" class=\"data row14 col3\" >188.22</td>\n",
       "    </tr>\n",
       "    <tr>\n",
       "      <th id=\"T_76ad3_level0_row15\" class=\"row_heading level0 row15\" >15</th>\n",
       "      <td id=\"T_76ad3_row15_col0\" class=\"data row15 col0\" >July 29th, 2025</td>\n",
       "      <td id=\"T_76ad3_row15_col1\" class=\"data row15 col1\" >850000.00</td>\n",
       "      <td id=\"T_76ad3_row15_col2\" class=\"data row15 col2\" >0.13%</td>\n",
       "      <td id=\"T_76ad3_row15_col3\" class=\"data row15 col3\" >284.92</td>\n",
       "    </tr>\n",
       "    <tr>\n",
       "      <th id=\"T_76ad3_level0_row16\" class=\"row_heading level0 row16\" >16</th>\n",
       "      <td id=\"T_76ad3_row16_col0\" class=\"data row16 col0\" >October 29th, 2025</td>\n",
       "      <td id=\"T_76ad3_row16_col1\" class=\"data row16 col1\" >850000.00</td>\n",
       "      <td id=\"T_76ad3_row16_col2\" class=\"data row16 col2\" >0.18%</td>\n",
       "      <td id=\"T_76ad3_row16_col3\" class=\"data row16 col3\" >383.98</td>\n",
       "    </tr>\n",
       "    <tr>\n",
       "      <th id=\"T_76ad3_level0_row17\" class=\"row_heading level0 row17\" >17</th>\n",
       "      <td id=\"T_76ad3_row17_col0\" class=\"data row17 col0\" >January 29th, 2026</td>\n",
       "      <td id=\"T_76ad3_row17_col1\" class=\"data row17 col1\" >850000.00</td>\n",
       "      <td id=\"T_76ad3_row17_col2\" class=\"data row17 col2\" >0.20%</td>\n",
       "      <td id=\"T_76ad3_row17_col3\" class=\"data row17 col3\" >443.61</td>\n",
       "    </tr>\n",
       "    <tr>\n",
       "      <th id=\"T_76ad3_level0_row18\" class=\"row_heading level0 row18\" >18</th>\n",
       "      <td id=\"T_76ad3_row18_col0\" class=\"data row18 col0\" >April 29th, 2026</td>\n",
       "      <td id=\"T_76ad3_row18_col1\" class=\"data row18 col1\" >850000.00</td>\n",
       "      <td id=\"T_76ad3_row18_col2\" class=\"data row18 col2\" >0.25%</td>\n",
       "      <td id=\"T_76ad3_row18_col3\" class=\"data row18 col3\" >523.68</td>\n",
       "    </tr>\n",
       "    <tr>\n",
       "      <th id=\"T_76ad3_level0_row19\" class=\"row_heading level0 row19\" >19</th>\n",
       "      <td id=\"T_76ad3_row19_col0\" class=\"data row19 col0\" >July 29th, 2026</td>\n",
       "      <td id=\"T_76ad3_row19_col1\" class=\"data row19 col1\" >850000.00</td>\n",
       "      <td id=\"T_76ad3_row19_col2\" class=\"data row19 col2\" >0.29%</td>\n",
       "      <td id=\"T_76ad3_row19_col3\" class=\"data row19 col3\" >619.73</td>\n",
       "    </tr>\n",
       "    <tr>\n",
       "      <th id=\"T_76ad3_level0_row20\" class=\"row_heading level0 row20\" >20</th>\n",
       "      <td id=\"T_76ad3_row20_col0\" class=\"data row20 col0\" >October 29th, 2026</td>\n",
       "      <td id=\"T_76ad3_row20_col1\" class=\"data row20 col1\" >850000.00</td>\n",
       "      <td id=\"T_76ad3_row20_col2\" class=\"data row20 col2\" >0.33%</td>\n",
       "      <td id=\"T_76ad3_row20_col3\" class=\"data row20 col3\" >708.11</td>\n",
       "    </tr>\n",
       "    <tr>\n",
       "      <th id=\"T_76ad3_level0_row21\" class=\"row_heading level0 row21\" >21</th>\n",
       "      <td id=\"T_76ad3_row21_col0\" class=\"data row21 col0\" >October 29th, 2026</td>\n",
       "      <td id=\"T_76ad3_row21_col1\" class=\"data row21 col1\" >nan</td>\n",
       "      <td id=\"T_76ad3_row21_col2\" class=\"data row21 col2\" >nan%</td>\n",
       "      <td id=\"T_76ad3_row21_col3\" class=\"data row21 col3\" >850000.00</td>\n",
       "    </tr>\n",
       "  </tbody>\n",
       "</table>\n"
      ],
      "text/plain": [
       "<pandas.io.formats.style.Styler at 0x20fbc680210>"
      ]
     },
     "execution_count": 16,
     "metadata": {},
     "output_type": "execute_result"
    }
   ],
   "source": [
    "cashflow_data(eur_leg)"
   ]
  },
  {
   "cell_type": "code",
   "execution_count": 17,
   "metadata": {},
   "outputs": [
    {
     "data": {
      "text/plain": [
       "27299.74588005959"
      ]
     },
     "execution_count": 17,
     "metadata": {},
     "output_type": "execute_result"
    }
   ],
   "source": [
    "NPV = usd_npv - eur_npv / fx_0\n",
    "NPV"
   ]
  },
  {
   "cell_type": "markdown",
   "metadata": {},
   "source": [
    "# Mark-to-market cross-currency swaps"
   ]
  },
  {
   "cell_type": "markdown",
   "metadata": {},
   "source": [
    "In this more common kind of cross-currency swaps, the notionals are rebalanced at each coupon date so that their value remain the same (according, of course, to the value of the FX rate at each coupon start).\n",
    "\n",
    "In order to model this rebalancing feature we will need to estimate the FX rates in the future, the corresponding notionals in Euro for the floating cashflows, and the amounts exchanged due to rebalancing.\n",
    "\n",
    "The future FX rates can be forecast from the discount curves, since they model the cost of money. We’ll write a convenience function to extract it at any given date:"
   ]
  },
  {
   "cell_type": "code",
   "execution_count": 18,
   "metadata": {},
   "outputs": [],
   "source": [
    "def FX(date):\n",
    "    return fx_0 * sofr_curve.discount(date) / estr_curve.discount(date)"
   ]
  },
  {
   "cell_type": "code",
   "execution_count": 24,
   "metadata": {},
   "outputs": [],
   "source": [
    "start_dates = list(schedule)[:-1]\n",
    "\n",
    "notionals = [notional * FX(d) for d in start_dates]\n",
    "\n",
    "\n",
    "rebalancing_cashflows = []\n",
    "for i in range(len(notionals) - 1):\n",
    "    rebalancing_cashflows.append(\n",
    "        ql.SimpleCashFlow(notionals[i] - notionals[i + 1], schedule[i + 1])\n",
    "    )"
   ]
  },
  {
   "cell_type": "code",
   "execution_count": 27,
   "metadata": {},
   "outputs": [
    {
     "name": "stdout",
     "output_type": "stream",
     "text": [
      "[Date(29,10,2021), Date(31,1,2022), Date(29,4,2022), Date(29,7,2022), Date(31,10,2022), Date(30,1,2023), Date(1,5,2023), Date(31,7,2023), Date(30,10,2023), Date(29,1,2024), Date(29,4,2024), Date(29,7,2024), Date(29,10,2024), Date(29,1,2025), Date(29,4,2025), Date(29,7,2025), Date(29,10,2025), Date(29,1,2026), Date(29,4,2026), Date(29,7,2026)]\n",
      "[849973.3123427323, 848611.8977686284, 847471.7102737654, 845782.8807591915, 843745.972788649, 841756.2314215006, 839591.8474141428, 837254.1930492707, 834745.2933863958, 832084.2529027408, 829258.650724047, 826270.2226822922, 823088.945483854, 819922.5791544188, 816695.2396430873, 813303.1670498879, 809752.6285092995, 806492.6715342533, 803225.8167783241, 799845.5319662248]\n",
      "[<QuantLib.QuantLib.SimpleCashFlow; proxy of <Swig Object of type 'ext::shared_ptr< SimpleCashFlow > *' at 0x0000020FBC9EA7F0> >, <QuantLib.QuantLib.SimpleCashFlow; proxy of <Swig Object of type 'ext::shared_ptr< SimpleCashFlow > *' at 0x0000020FBC9EA400> >, <QuantLib.QuantLib.SimpleCashFlow; proxy of <Swig Object of type 'ext::shared_ptr< SimpleCashFlow > *' at 0x0000020FBC9EA3D0> >, <QuantLib.QuantLib.SimpleCashFlow; proxy of <Swig Object of type 'ext::shared_ptr< SimpleCashFlow > *' at 0x0000020FBC9EA3A0> >, <QuantLib.QuantLib.SimpleCashFlow; proxy of <Swig Object of type 'ext::shared_ptr< SimpleCashFlow > *' at 0x0000020FBC9EA370> >, <QuantLib.QuantLib.SimpleCashFlow; proxy of <Swig Object of type 'ext::shared_ptr< SimpleCashFlow > *' at 0x0000020FBC9EA340> >, <QuantLib.QuantLib.SimpleCashFlow; proxy of <Swig Object of type 'ext::shared_ptr< SimpleCashFlow > *' at 0x0000020FBC9EA310> >, <QuantLib.QuantLib.SimpleCashFlow; proxy of <Swig Object of type 'ext::shared_ptr< SimpleCashFlow > *' at 0x0000020FBC9EA2E0> >, <QuantLib.QuantLib.SimpleCashFlow; proxy of <Swig Object of type 'ext::shared_ptr< SimpleCashFlow > *' at 0x0000020FBC9EA2B0> >, <QuantLib.QuantLib.SimpleCashFlow; proxy of <Swig Object of type 'ext::shared_ptr< SimpleCashFlow > *' at 0x0000020FBC9EA280> >, <QuantLib.QuantLib.SimpleCashFlow; proxy of <Swig Object of type 'ext::shared_ptr< SimpleCashFlow > *' at 0x0000020FBC9EA250> >, <QuantLib.QuantLib.SimpleCashFlow; proxy of <Swig Object of type 'ext::shared_ptr< SimpleCashFlow > *' at 0x0000020FBC9EA220> >, <QuantLib.QuantLib.SimpleCashFlow; proxy of <Swig Object of type 'ext::shared_ptr< SimpleCashFlow > *' at 0x0000020FBC9EA1F0> >, <QuantLib.QuantLib.SimpleCashFlow; proxy of <Swig Object of type 'ext::shared_ptr< SimpleCashFlow > *' at 0x0000020FBC9E9FE0> >, <QuantLib.QuantLib.SimpleCashFlow; proxy of <Swig Object of type 'ext::shared_ptr< SimpleCashFlow > *' at 0x0000020FBC9E9FB0> >, <QuantLib.QuantLib.SimpleCashFlow; proxy of <Swig Object of type 'ext::shared_ptr< SimpleCashFlow > *' at 0x0000020FBC9E9F80> >, <QuantLib.QuantLib.SimpleCashFlow; proxy of <Swig Object of type 'ext::shared_ptr< SimpleCashFlow > *' at 0x0000020FBC9E9F50> >, <QuantLib.QuantLib.SimpleCashFlow; proxy of <Swig Object of type 'ext::shared_ptr< SimpleCashFlow > *' at 0x0000020FBC9E9F20> >, <QuantLib.QuantLib.SimpleCashFlow; proxy of <Swig Object of type 'ext::shared_ptr< SimpleCashFlow > *' at 0x0000020FBC9E9EF0> >]\n"
     ]
    }
   ],
   "source": [
    "print(start_dates)\n",
    "print(notionals)\n",
    "print(rebalancing_cashflows)"
   ]
  },
  {
   "cell_type": "markdown",
   "metadata": {},
   "source": [
    "Finally, we can create the two legs and price them. The USD leg is as before, since its notional doesn’t change:"
   ]
  },
  {
   "cell_type": "code",
   "execution_count": 28,
   "metadata": {},
   "outputs": [],
   "source": [
    "usd_leg = (\n",
    "    (ql.SimpleCashFlow(-notional, schedule[0]),)\n",
    "    + ql.IborLeg(\n",
    "        nominals=[notional],\n",
    "        schedule=schedule,\n",
    "        index=usdlibor3M,\n",
    "        spreads=[spread],\n",
    "    )\n",
    "    + (ql.SimpleCashFlow(notional, schedule[-1]),)\n",
    ")"
   ]
  },
  {
   "cell_type": "code",
   "execution_count": 30,
   "metadata": {},
   "outputs": [],
   "source": [
    "eur_leg = (\n",
    "    [ql.SimpleCashFlow(-notionals[0], schedule[0])]\n",
    "    + list(ql.IborLeg(nominals=notionals, schedule=schedule, index=euribor3M))\n",
    "    + rebalancing_cashflows\n",
    "    + [ql.SimpleCashFlow(notionals[-1], schedule[-1])]\n",
    ")"
   ]
  },
  {
   "cell_type": "code",
   "execution_count": 31,
   "metadata": {},
   "outputs": [
    {
     "data": {
      "text/html": [
       "<style type=\"text/css\">\n",
       "</style>\n",
       "<table id=\"T_9af4c\">\n",
       "  <thead>\n",
       "    <tr>\n",
       "      <th class=\"blank level0\" >&nbsp;</th>\n",
       "      <th id=\"T_9af4c_level0_col0\" class=\"col_heading level0 col0\" >date</th>\n",
       "      <th id=\"T_9af4c_level0_col1\" class=\"col_heading level0 col1\" >nominal</th>\n",
       "      <th id=\"T_9af4c_level0_col2\" class=\"col_heading level0 col2\" >rate</th>\n",
       "      <th id=\"T_9af4c_level0_col3\" class=\"col_heading level0 col3\" >amount</th>\n",
       "    </tr>\n",
       "  </thead>\n",
       "  <tbody>\n",
       "    <tr>\n",
       "      <th id=\"T_9af4c_level0_row0\" class=\"row_heading level0 row0\" >0</th>\n",
       "      <td id=\"T_9af4c_row0_col0\" class=\"data row0 col0\" >October 29th, 2021</td>\n",
       "      <td id=\"T_9af4c_row0_col1\" class=\"data row0 col1\" >nan</td>\n",
       "      <td id=\"T_9af4c_row0_col2\" class=\"data row0 col2\" >nan%</td>\n",
       "      <td id=\"T_9af4c_row0_col3\" class=\"data row0 col3\" >-849973.31</td>\n",
       "    </tr>\n",
       "    <tr>\n",
       "      <th id=\"T_9af4c_level0_row1\" class=\"row_heading level0 row1\" >1</th>\n",
       "      <td id=\"T_9af4c_row1_col0\" class=\"data row1 col0\" >January 31st, 2022</td>\n",
       "      <td id=\"T_9af4c_row1_col1\" class=\"data row1 col1\" >849973.31</td>\n",
       "      <td id=\"T_9af4c_row1_col2\" class=\"data row1 col2\" >-0.50%</td>\n",
       "      <td id=\"T_9af4c_row1_col3\" class=\"data row1 col3\" >-1108.87</td>\n",
       "    </tr>\n",
       "    <tr>\n",
       "      <th id=\"T_9af4c_level0_row2\" class=\"row_heading level0 row2\" >2</th>\n",
       "      <td id=\"T_9af4c_row2_col0\" class=\"data row2 col0\" >January 31st, 2022</td>\n",
       "      <td id=\"T_9af4c_row2_col1\" class=\"data row2 col1\" >nan</td>\n",
       "      <td id=\"T_9af4c_row2_col2\" class=\"data row2 col2\" >nan%</td>\n",
       "      <td id=\"T_9af4c_row2_col3\" class=\"data row2 col3\" >1361.41</td>\n",
       "    </tr>\n",
       "    <tr>\n",
       "      <th id=\"T_9af4c_level0_row3\" class=\"row_heading level0 row3\" >3</th>\n",
       "      <td id=\"T_9af4c_row3_col0\" class=\"data row3 col0\" >April 29th, 2022</td>\n",
       "      <td id=\"T_9af4c_row3_col1\" class=\"data row3 col1\" >848611.90</td>\n",
       "      <td id=\"T_9af4c_row3_col2\" class=\"data row3 col2\" >-0.53%</td>\n",
       "      <td id=\"T_9af4c_row3_col3\" class=\"data row3 col3\" >-1107.76</td>\n",
       "    </tr>\n",
       "    <tr>\n",
       "      <th id=\"T_9af4c_level0_row4\" class=\"row_heading level0 row4\" >4</th>\n",
       "      <td id=\"T_9af4c_row4_col0\" class=\"data row4 col0\" >April 29th, 2022</td>\n",
       "      <td id=\"T_9af4c_row4_col1\" class=\"data row4 col1\" >nan</td>\n",
       "      <td id=\"T_9af4c_row4_col2\" class=\"data row4 col2\" >nan%</td>\n",
       "      <td id=\"T_9af4c_row4_col3\" class=\"data row4 col3\" >1140.19</td>\n",
       "    </tr>\n",
       "    <tr>\n",
       "      <th id=\"T_9af4c_level0_row5\" class=\"row_heading level0 row5\" >5</th>\n",
       "      <td id=\"T_9af4c_row5_col0\" class=\"data row5 col0\" >July 29th, 2022</td>\n",
       "      <td id=\"T_9af4c_row5_col1\" class=\"data row5 col1\" >847471.71</td>\n",
       "      <td id=\"T_9af4c_row5_col2\" class=\"data row5 col2\" >-0.49%</td>\n",
       "      <td id=\"T_9af4c_row5_col3\" class=\"data row5 col3\" >-1039.78</td>\n",
       "    </tr>\n",
       "    <tr>\n",
       "      <th id=\"T_9af4c_level0_row6\" class=\"row_heading level0 row6\" >6</th>\n",
       "      <td id=\"T_9af4c_row6_col0\" class=\"data row6 col0\" >July 29th, 2022</td>\n",
       "      <td id=\"T_9af4c_row6_col1\" class=\"data row6 col1\" >nan</td>\n",
       "      <td id=\"T_9af4c_row6_col2\" class=\"data row6 col2\" >nan%</td>\n",
       "      <td id=\"T_9af4c_row6_col3\" class=\"data row6 col3\" >1688.83</td>\n",
       "    </tr>\n",
       "    <tr>\n",
       "      <th id=\"T_9af4c_level0_row7\" class=\"row_heading level0 row7\" >7</th>\n",
       "      <td id=\"T_9af4c_row7_col0\" class=\"data row7 col0\" >October 31st, 2022</td>\n",
       "      <td id=\"T_9af4c_row7_col1\" class=\"data row7 col1\" >845782.88</td>\n",
       "      <td id=\"T_9af4c_row7_col2\" class=\"data row7 col2\" >-0.46%</td>\n",
       "      <td id=\"T_9af4c_row7_col3\" class=\"data row7 col3\" >-1015.82</td>\n",
       "    </tr>\n",
       "    <tr>\n",
       "      <th id=\"T_9af4c_level0_row8\" class=\"row_heading level0 row8\" >8</th>\n",
       "      <td id=\"T_9af4c_row8_col0\" class=\"data row8 col0\" >October 31st, 2022</td>\n",
       "      <td id=\"T_9af4c_row8_col1\" class=\"data row8 col1\" >nan</td>\n",
       "      <td id=\"T_9af4c_row8_col2\" class=\"data row8 col2\" >nan%</td>\n",
       "      <td id=\"T_9af4c_row8_col3\" class=\"data row8 col3\" >2036.91</td>\n",
       "    </tr>\n",
       "    <tr>\n",
       "      <th id=\"T_9af4c_level0_row9\" class=\"row_heading level0 row9\" >9</th>\n",
       "      <td id=\"T_9af4c_row9_col0\" class=\"data row9 col0\" >January 30th, 2023</td>\n",
       "      <td id=\"T_9af4c_row9_col1\" class=\"data row9 col1\" >843745.97</td>\n",
       "      <td id=\"T_9af4c_row9_col2\" class=\"data row9 col2\" >-0.30%</td>\n",
       "      <td id=\"T_9af4c_row9_col3\" class=\"data row9 col3\" >-640.16</td>\n",
       "    </tr>\n",
       "    <tr>\n",
       "      <th id=\"T_9af4c_level0_row10\" class=\"row_heading level0 row10\" >10</th>\n",
       "      <td id=\"T_9af4c_row10_col0\" class=\"data row10 col0\" >January 30th, 2023</td>\n",
       "      <td id=\"T_9af4c_row10_col1\" class=\"data row10 col1\" >nan</td>\n",
       "      <td id=\"T_9af4c_row10_col2\" class=\"data row10 col2\" >nan%</td>\n",
       "      <td id=\"T_9af4c_row10_col3\" class=\"data row10 col3\" >1989.74</td>\n",
       "    </tr>\n",
       "    <tr>\n",
       "      <th id=\"T_9af4c_level0_row11\" class=\"row_heading level0 row11\" >11</th>\n",
       "      <td id=\"T_9af4c_row11_col0\" class=\"data row11 col0\" >May 1st, 2023</td>\n",
       "      <td id=\"T_9af4c_row11_col1\" class=\"data row11 col1\" >841756.23</td>\n",
       "      <td id=\"T_9af4c_row11_col2\" class=\"data row11 col2\" >-0.22%</td>\n",
       "      <td id=\"T_9af4c_row11_col3\" class=\"data row11 col3\" >-474.40</td>\n",
       "    </tr>\n",
       "    <tr>\n",
       "      <th id=\"T_9af4c_level0_row12\" class=\"row_heading level0 row12\" >12</th>\n",
       "      <td id=\"T_9af4c_row12_col0\" class=\"data row12 col0\" >May 1st, 2023</td>\n",
       "      <td id=\"T_9af4c_row12_col1\" class=\"data row12 col1\" >nan</td>\n",
       "      <td id=\"T_9af4c_row12_col2\" class=\"data row12 col2\" >nan%</td>\n",
       "      <td id=\"T_9af4c_row12_col3\" class=\"data row12 col3\" >2164.38</td>\n",
       "    </tr>\n",
       "    <tr>\n",
       "      <th id=\"T_9af4c_level0_row13\" class=\"row_heading level0 row13\" >13</th>\n",
       "      <td id=\"T_9af4c_row13_col0\" class=\"data row13 col0\" >July 31st, 2023</td>\n",
       "      <td id=\"T_9af4c_row13_col1\" class=\"data row13 col1\" >839591.85</td>\n",
       "      <td id=\"T_9af4c_row13_col2\" class=\"data row13 col2\" >-0.15%</td>\n",
       "      <td id=\"T_9af4c_row13_col3\" class=\"data row13 col3\" >-310.23</td>\n",
       "    </tr>\n",
       "    <tr>\n",
       "      <th id=\"T_9af4c_level0_row14\" class=\"row_heading level0 row14\" >14</th>\n",
       "      <td id=\"T_9af4c_row14_col0\" class=\"data row14 col0\" >July 31st, 2023</td>\n",
       "      <td id=\"T_9af4c_row14_col1\" class=\"data row14 col1\" >nan</td>\n",
       "      <td id=\"T_9af4c_row14_col2\" class=\"data row14 col2\" >nan%</td>\n",
       "      <td id=\"T_9af4c_row14_col3\" class=\"data row14 col3\" >2337.65</td>\n",
       "    </tr>\n",
       "    <tr>\n",
       "      <th id=\"T_9af4c_level0_row15\" class=\"row_heading level0 row15\" >15</th>\n",
       "      <td id=\"T_9af4c_row15_col0\" class=\"data row15 col0\" >October 30th, 2023</td>\n",
       "      <td id=\"T_9af4c_row15_col1\" class=\"data row15 col1\" >837254.19</td>\n",
       "      <td id=\"T_9af4c_row15_col2\" class=\"data row15 col2\" >-0.07%</td>\n",
       "      <td id=\"T_9af4c_row15_col3\" class=\"data row15 col3\" >-155.83</td>\n",
       "    </tr>\n",
       "    <tr>\n",
       "      <th id=\"T_9af4c_level0_row16\" class=\"row_heading level0 row16\" >16</th>\n",
       "      <td id=\"T_9af4c_row16_col0\" class=\"data row16 col0\" >October 30th, 2023</td>\n",
       "      <td id=\"T_9af4c_row16_col1\" class=\"data row16 col1\" >nan</td>\n",
       "      <td id=\"T_9af4c_row16_col2\" class=\"data row16 col2\" >nan%</td>\n",
       "      <td id=\"T_9af4c_row16_col3\" class=\"data row16 col3\" >2508.90</td>\n",
       "    </tr>\n",
       "    <tr>\n",
       "      <th id=\"T_9af4c_level0_row17\" class=\"row_heading level0 row17\" >17</th>\n",
       "      <td id=\"T_9af4c_row17_col0\" class=\"data row17 col0\" >January 29th, 2024</td>\n",
       "      <td id=\"T_9af4c_row17_col1\" class=\"data row17 col1\" >834745.29</td>\n",
       "      <td id=\"T_9af4c_row17_col2\" class=\"data row17 col2\" >-0.12%</td>\n",
       "      <td id=\"T_9af4c_row17_col3\" class=\"data row17 col3\" >-261.80</td>\n",
       "    </tr>\n",
       "    <tr>\n",
       "      <th id=\"T_9af4c_level0_row18\" class=\"row_heading level0 row18\" >18</th>\n",
       "      <td id=\"T_9af4c_row18_col0\" class=\"data row18 col0\" >January 29th, 2024</td>\n",
       "      <td id=\"T_9af4c_row18_col1\" class=\"data row18 col1\" >nan</td>\n",
       "      <td id=\"T_9af4c_row18_col2\" class=\"data row18 col2\" >nan%</td>\n",
       "      <td id=\"T_9af4c_row18_col3\" class=\"data row18 col3\" >2661.04</td>\n",
       "    </tr>\n",
       "    <tr>\n",
       "      <th id=\"T_9af4c_level0_row19\" class=\"row_heading level0 row19\" >19</th>\n",
       "      <td id=\"T_9af4c_row19_col0\" class=\"data row19 col0\" >April 29th, 2024</td>\n",
       "      <td id=\"T_9af4c_row19_col1\" class=\"data row19 col1\" >832084.25</td>\n",
       "      <td id=\"T_9af4c_row19_col2\" class=\"data row19 col2\" >-0.08%</td>\n",
       "      <td id=\"T_9af4c_row19_col3\" class=\"data row19 col3\" >-160.10</td>\n",
       "    </tr>\n",
       "    <tr>\n",
       "      <th id=\"T_9af4c_level0_row20\" class=\"row_heading level0 row20\" >20</th>\n",
       "      <td id=\"T_9af4c_row20_col0\" class=\"data row20 col0\" >April 29th, 2024</td>\n",
       "      <td id=\"T_9af4c_row20_col1\" class=\"data row20 col1\" >nan</td>\n",
       "      <td id=\"T_9af4c_row20_col2\" class=\"data row20 col2\" >nan%</td>\n",
       "      <td id=\"T_9af4c_row20_col3\" class=\"data row20 col3\" >2825.60</td>\n",
       "    </tr>\n",
       "    <tr>\n",
       "      <th id=\"T_9af4c_level0_row21\" class=\"row_heading level0 row21\" >21</th>\n",
       "      <td id=\"T_9af4c_row21_col0\" class=\"data row21 col0\" >July 29th, 2024</td>\n",
       "      <td id=\"T_9af4c_row21_col1\" class=\"data row21 col1\" >829258.65</td>\n",
       "      <td id=\"T_9af4c_row21_col2\" class=\"data row21 col2\" >-0.03%</td>\n",
       "      <td id=\"T_9af4c_row21_col3\" class=\"data row21 col3\" >-59.02</td>\n",
       "    </tr>\n",
       "    <tr>\n",
       "      <th id=\"T_9af4c_level0_row22\" class=\"row_heading level0 row22\" >22</th>\n",
       "      <td id=\"T_9af4c_row22_col0\" class=\"data row22 col0\" >July 29th, 2024</td>\n",
       "      <td id=\"T_9af4c_row22_col1\" class=\"data row22 col1\" >nan</td>\n",
       "      <td id=\"T_9af4c_row22_col2\" class=\"data row22 col2\" >nan%</td>\n",
       "      <td id=\"T_9af4c_row22_col3\" class=\"data row22 col3\" >2988.43</td>\n",
       "    </tr>\n",
       "    <tr>\n",
       "      <th id=\"T_9af4c_level0_row23\" class=\"row_heading level0 row23\" >23</th>\n",
       "      <td id=\"T_9af4c_row23_col0\" class=\"data row23 col0\" >October 29th, 2024</td>\n",
       "      <td id=\"T_9af4c_row23_col1\" class=\"data row23 col1\" >826270.22</td>\n",
       "      <td id=\"T_9af4c_row23_col2\" class=\"data row23 col2\" >0.02%</td>\n",
       "      <td id=\"T_9af4c_row23_col3\" class=\"data row23 col3\" >41.36</td>\n",
       "    </tr>\n",
       "    <tr>\n",
       "      <th id=\"T_9af4c_level0_row24\" class=\"row_heading level0 row24\" >24</th>\n",
       "      <td id=\"T_9af4c_row24_col0\" class=\"data row24 col0\" >October 29th, 2024</td>\n",
       "      <td id=\"T_9af4c_row24_col1\" class=\"data row24 col1\" >nan</td>\n",
       "      <td id=\"T_9af4c_row24_col2\" class=\"data row24 col2\" >nan%</td>\n",
       "      <td id=\"T_9af4c_row24_col3\" class=\"data row24 col3\" >3181.28</td>\n",
       "    </tr>\n",
       "    <tr>\n",
       "      <th id=\"T_9af4c_level0_row25\" class=\"row_heading level0 row25\" >25</th>\n",
       "      <td id=\"T_9af4c_row25_col0\" class=\"data row25 col0\" >January 29th, 2025</td>\n",
       "      <td id=\"T_9af4c_row25_col1\" class=\"data row25 col1\" >823088.95</td>\n",
       "      <td id=\"T_9af4c_row25_col2\" class=\"data row25 col2\" >0.04%</td>\n",
       "      <td id=\"T_9af4c_row25_col3\" class=\"data row25 col3\" >93.19</td>\n",
       "    </tr>\n",
       "    <tr>\n",
       "      <th id=\"T_9af4c_level0_row26\" class=\"row_heading level0 row26\" >26</th>\n",
       "      <td id=\"T_9af4c_row26_col0\" class=\"data row26 col0\" >January 29th, 2025</td>\n",
       "      <td id=\"T_9af4c_row26_col1\" class=\"data row26 col1\" >nan</td>\n",
       "      <td id=\"T_9af4c_row26_col2\" class=\"data row26 col2\" >nan%</td>\n",
       "      <td id=\"T_9af4c_row26_col3\" class=\"data row26 col3\" >3166.37</td>\n",
       "    </tr>\n",
       "    <tr>\n",
       "      <th id=\"T_9af4c_level0_row27\" class=\"row_heading level0 row27\" >27</th>\n",
       "      <td id=\"T_9af4c_row27_col0\" class=\"data row27 col0\" >April 29th, 2025</td>\n",
       "      <td id=\"T_9af4c_row27_col1\" class=\"data row27 col1\" >819922.58</td>\n",
       "      <td id=\"T_9af4c_row27_col2\" class=\"data row27 col2\" >0.09%</td>\n",
       "      <td id=\"T_9af4c_row27_col3\" class=\"data row27 col3\" >181.56</td>\n",
       "    </tr>\n",
       "    <tr>\n",
       "      <th id=\"T_9af4c_level0_row28\" class=\"row_heading level0 row28\" >28</th>\n",
       "      <td id=\"T_9af4c_row28_col0\" class=\"data row28 col0\" >April 29th, 2025</td>\n",
       "      <td id=\"T_9af4c_row28_col1\" class=\"data row28 col1\" >nan</td>\n",
       "      <td id=\"T_9af4c_row28_col2\" class=\"data row28 col2\" >nan%</td>\n",
       "      <td id=\"T_9af4c_row28_col3\" class=\"data row28 col3\" >3227.34</td>\n",
       "    </tr>\n",
       "    <tr>\n",
       "      <th id=\"T_9af4c_level0_row29\" class=\"row_heading level0 row29\" >29</th>\n",
       "      <td id=\"T_9af4c_row29_col0\" class=\"data row29 col0\" >July 29th, 2025</td>\n",
       "      <td id=\"T_9af4c_row29_col1\" class=\"data row29 col1\" >816695.24</td>\n",
       "      <td id=\"T_9af4c_row29_col2\" class=\"data row29 col2\" >0.13%</td>\n",
       "      <td id=\"T_9af4c_row29_col3\" class=\"data row29 col3\" >273.75</td>\n",
       "    </tr>\n",
       "    <tr>\n",
       "      <th id=\"T_9af4c_level0_row30\" class=\"row_heading level0 row30\" >30</th>\n",
       "      <td id=\"T_9af4c_row30_col0\" class=\"data row30 col0\" >July 29th, 2025</td>\n",
       "      <td id=\"T_9af4c_row30_col1\" class=\"data row30 col1\" >nan</td>\n",
       "      <td id=\"T_9af4c_row30_col2\" class=\"data row30 col2\" >nan%</td>\n",
       "      <td id=\"T_9af4c_row30_col3\" class=\"data row30 col3\" >3392.07</td>\n",
       "    </tr>\n",
       "    <tr>\n",
       "      <th id=\"T_9af4c_level0_row31\" class=\"row_heading level0 row31\" >31</th>\n",
       "      <td id=\"T_9af4c_row31_col0\" class=\"data row31 col0\" >October 29th, 2025</td>\n",
       "      <td id=\"T_9af4c_row31_col1\" class=\"data row31 col1\" >813303.17</td>\n",
       "      <td id=\"T_9af4c_row31_col2\" class=\"data row31 col2\" >0.18%</td>\n",
       "      <td id=\"T_9af4c_row31_col3\" class=\"data row31 col3\" >367.40</td>\n",
       "    </tr>\n",
       "    <tr>\n",
       "      <th id=\"T_9af4c_level0_row32\" class=\"row_heading level0 row32\" >32</th>\n",
       "      <td id=\"T_9af4c_row32_col0\" class=\"data row32 col0\" >October 29th, 2025</td>\n",
       "      <td id=\"T_9af4c_row32_col1\" class=\"data row32 col1\" >nan</td>\n",
       "      <td id=\"T_9af4c_row32_col2\" class=\"data row32 col2\" >nan%</td>\n",
       "      <td id=\"T_9af4c_row32_col3\" class=\"data row32 col3\" >3550.54</td>\n",
       "    </tr>\n",
       "    <tr>\n",
       "      <th id=\"T_9af4c_level0_row33\" class=\"row_heading level0 row33\" >33</th>\n",
       "      <td id=\"T_9af4c_row33_col0\" class=\"data row33 col0\" >January 29th, 2026</td>\n",
       "      <td id=\"T_9af4c_row33_col1\" class=\"data row33 col1\" >809752.63</td>\n",
       "      <td id=\"T_9af4c_row33_col2\" class=\"data row33 col2\" >0.20%</td>\n",
       "      <td id=\"T_9af4c_row33_col3\" class=\"data row33 col3\" >422.60</td>\n",
       "    </tr>\n",
       "    <tr>\n",
       "      <th id=\"T_9af4c_level0_row34\" class=\"row_heading level0 row34\" >34</th>\n",
       "      <td id=\"T_9af4c_row34_col0\" class=\"data row34 col0\" >January 29th, 2026</td>\n",
       "      <td id=\"T_9af4c_row34_col1\" class=\"data row34 col1\" >nan</td>\n",
       "      <td id=\"T_9af4c_row34_col2\" class=\"data row34 col2\" >nan%</td>\n",
       "      <td id=\"T_9af4c_row34_col3\" class=\"data row34 col3\" >3259.96</td>\n",
       "    </tr>\n",
       "    <tr>\n",
       "      <th id=\"T_9af4c_level0_row35\" class=\"row_heading level0 row35\" >35</th>\n",
       "      <td id=\"T_9af4c_row35_col0\" class=\"data row35 col0\" >April 29th, 2026</td>\n",
       "      <td id=\"T_9af4c_row35_col1\" class=\"data row35 col1\" >806492.67</td>\n",
       "      <td id=\"T_9af4c_row35_col2\" class=\"data row35 col2\" >0.25%</td>\n",
       "      <td id=\"T_9af4c_row35_col3\" class=\"data row35 col3\" >496.88</td>\n",
       "    </tr>\n",
       "    <tr>\n",
       "      <th id=\"T_9af4c_level0_row36\" class=\"row_heading level0 row36\" >36</th>\n",
       "      <td id=\"T_9af4c_row36_col0\" class=\"data row36 col0\" >April 29th, 2026</td>\n",
       "      <td id=\"T_9af4c_row36_col1\" class=\"data row36 col1\" >nan</td>\n",
       "      <td id=\"T_9af4c_row36_col2\" class=\"data row36 col2\" >nan%</td>\n",
       "      <td id=\"T_9af4c_row36_col3\" class=\"data row36 col3\" >3266.85</td>\n",
       "    </tr>\n",
       "    <tr>\n",
       "      <th id=\"T_9af4c_level0_row37\" class=\"row_heading level0 row37\" >37</th>\n",
       "      <td id=\"T_9af4c_row37_col0\" class=\"data row37 col0\" >July 29th, 2026</td>\n",
       "      <td id=\"T_9af4c_row37_col1\" class=\"data row37 col1\" >803225.82</td>\n",
       "      <td id=\"T_9af4c_row37_col2\" class=\"data row37 col2\" >0.29%</td>\n",
       "      <td id=\"T_9af4c_row37_col3\" class=\"data row37 col3\" >585.63</td>\n",
       "    </tr>\n",
       "    <tr>\n",
       "      <th id=\"T_9af4c_level0_row38\" class=\"row_heading level0 row38\" >38</th>\n",
       "      <td id=\"T_9af4c_row38_col0\" class=\"data row38 col0\" >July 29th, 2026</td>\n",
       "      <td id=\"T_9af4c_row38_col1\" class=\"data row38 col1\" >nan</td>\n",
       "      <td id=\"T_9af4c_row38_col2\" class=\"data row38 col2\" >nan%</td>\n",
       "      <td id=\"T_9af4c_row38_col3\" class=\"data row38 col3\" >3380.28</td>\n",
       "    </tr>\n",
       "    <tr>\n",
       "      <th id=\"T_9af4c_level0_row39\" class=\"row_heading level0 row39\" >39</th>\n",
       "      <td id=\"T_9af4c_row39_col0\" class=\"data row39 col0\" >October 29th, 2026</td>\n",
       "      <td id=\"T_9af4c_row39_col1\" class=\"data row39 col1\" >799845.53</td>\n",
       "      <td id=\"T_9af4c_row39_col2\" class=\"data row39 col2\" >0.33%</td>\n",
       "      <td id=\"T_9af4c_row39_col3\" class=\"data row39 col3\" >666.33</td>\n",
       "    </tr>\n",
       "    <tr>\n",
       "      <th id=\"T_9af4c_level0_row40\" class=\"row_heading level0 row40\" >40</th>\n",
       "      <td id=\"T_9af4c_row40_col0\" class=\"data row40 col0\" >October 29th, 2026</td>\n",
       "      <td id=\"T_9af4c_row40_col1\" class=\"data row40 col1\" >nan</td>\n",
       "      <td id=\"T_9af4c_row40_col2\" class=\"data row40 col2\" >nan%</td>\n",
       "      <td id=\"T_9af4c_row40_col3\" class=\"data row40 col3\" >799845.53</td>\n",
       "    </tr>\n",
       "  </tbody>\n",
       "</table>\n"
      ],
      "text/plain": [
       "<pandas.io.formats.style.Styler at 0x20fbab908d0>"
      ]
     },
     "execution_count": 31,
     "metadata": {},
     "output_type": "execute_result"
    }
   ],
   "source": [
    "cashflow_data(eur_leg)"
   ]
  },
  {
   "cell_type": "code",
   "execution_count": 32,
   "metadata": {},
   "outputs": [
    {
     "data": {
      "text/plain": [
       "35427.65532574046"
      ]
     },
     "execution_count": 32,
     "metadata": {},
     "output_type": "execute_result"
    }
   ],
   "source": [
    "usd_npv = ql.CashFlows.npv(usd_leg, sofr_curve, True)\n",
    "usd_npv"
   ]
  },
  {
   "cell_type": "code",
   "execution_count": 33,
   "metadata": {},
   "outputs": [
    {
     "data": {
      "text/plain": [
       "6678.7560644123005"
      ]
     },
     "execution_count": 33,
     "metadata": {},
     "output_type": "execute_result"
    }
   ],
   "source": [
    "eur_npv = ql.CashFlows.npv(eur_leg, estr_curve, True)\n",
    "eur_npv"
   ]
  },
  {
   "cell_type": "code",
   "execution_count": 34,
   "metadata": {},
   "outputs": [
    {
     "data": {
      "text/plain": [
       "27570.29524996128"
      ]
     },
     "execution_count": 34,
     "metadata": {},
     "output_type": "execute_result"
    }
   ],
   "source": [
    "NPV = usd_npv - eur_npv / fx_0\n",
    "NPV"
   ]
  },
  {
   "cell_type": "code",
   "execution_count": null,
   "metadata": {},
   "outputs": [],
   "source": []
  }
 ],
 "metadata": {
  "kernelspec": {
   "display_name": "venv",
   "language": "python",
   "name": "python3"
  },
  "language_info": {
   "codemirror_mode": {
    "name": "ipython",
    "version": 3
   },
   "file_extension": ".py",
   "mimetype": "text/x-python",
   "name": "python",
   "nbconvert_exporter": "python",
   "pygments_lexer": "ipython3",
   "version": "3.11.4"
  },
  "orig_nbformat": 4
 },
 "nbformat": 4,
 "nbformat_minor": 2
}
