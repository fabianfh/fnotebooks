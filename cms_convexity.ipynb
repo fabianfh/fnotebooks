{
 "cells": [
  {
   "cell_type": "markdown",
   "metadata": {},
   "source": [
    "# Change of Measure,Convexity and Linear Rate Model\n",
    "\n",
    "Wolfram Boenkost, Wolfgang M. Schmidt: Notes on convexity and quanto adjustments for interest rates and related options \n",
    "https://d-nb.info/989681769/34\n"
   ]
  },
  {
   "cell_type": "code",
   "execution_count": 10,
   "metadata": {},
   "outputs": [
    {
     "name": "stderr",
     "output_type": "stream",
     "text": [
      "UsageError: Line magic function `%` not found.\n"
     ]
    }
   ],
   "source": [
    "\n",
    "import matplotlib.pyplot as plt\n",
    "from mpl_toolkits.mplot3d import Axes3D\n",
    "import numpy as np\n",
    "import scipy.stats\n",
    "from scipy.interpolate import interp1d\n",
    "import math\n",
    "import scipy.integrate as integrate\n",
    "from scipy.stats import norm\n",
    "from scipy.stats import lognorm\n",
    "% matplotlib inline"
   ]
  },
  {
   "cell_type": "markdown",
   "metadata": {},
   "source": [
    "# Model free part"
   ]
  },
  {
   "cell_type": "markdown",
   "metadata": {},
   "source": [
    "## Tradable Securities\n",
    "\n",
    "- Zerobonds  $P(t,T_i)$ where $t < T_0 < ... < T_n$ \n",
    "\n",
    "- Annuity factor $PV01(t,T_0,T_n) = \\sum_{i=1}^n \\Delta_i P(t,T_i)$   where $\\Delta_i = T_i -T_{i-1}$ \n"
   ]
  },
  {
   "cell_type": "code",
   "execution_count": 8,
   "metadata": {},
   "outputs": [],
   "source": [
    "def ccrate(t,T):\n",
    "    return 0.04879018\n",
    "\n",
    "def P(t,T):\n",
    "    delta = T-t\n",
    "    if delta <=0:\n",
    "        return 1.0\n",
    "    return math.exp(-ccrate(t,T)*delta)\n",
    "\n",
    "def PV01(t,schedule):\n",
    "    retVal=0\n",
    "    for i in np.arange(1,len(schedule),1):\n",
    "        delta = schedule[i] - schedule[i-1] \n",
    "        retVal += delta * P(t,schedule[i])\n",
    "    return retVal\n",
    "\n",
    "def C(t,schedule):\n",
    "    floatLeg = P(0,schedule[0])-P(0,schedule[len(schedule)-1]) # single curve\n",
    "    return floatLeg/PV01(t,schedule)"
   ]
  },
  {
   "cell_type": "markdown",
   "metadata": {},
   "source": [
    "\n",
    "Choose annuity factor as numeraire and $Q_{Swap}$ such that  $\\frac{P(t,T)}{PV01(t,T_0,T_n)}$ is $Q_{Swap}$-Martingale $t<T_0$\n",
    "\n",
    "- Par rate of a swap $C(t,T_0,T_n)=\\frac{P(t,T_0) - P(t,T_n)}{PV01(t,T_0,T_n)}$ is $ Q_{Swap}$-Martingale\n",
    "\n",
    "- Under $Q_{Swap}$ the expectation of the (future) par rate is the forward par rate\n",
    "\n",
    "$E^{Q_{Swap}}( C(T_0,T_0,T_n)|\\mathcal{F_t})=E^{Q_{Swap}}(\\frac{P(T_0,T_0) - P(T_0,T_n)}{PV01(T_0,T_0,T_n)}| \\mathcal{F_t})= \\frac{P(t,T_0) - P(t,T_n)}{PV01(t,T_0,T_n)} = C(t,T_0,T_n)$\n"
   ]
  },
  {
   "cell_type": "markdown",
   "metadata": {},
   "source": [
    "\n",
    "## Payoff CMS-Floater\n",
    "$X = \\Delta C(T_0,T_0,T_n)$ paid @ time p  where $t<T_0<=p$\n",
    "- $ V_t(X) =V_t(\\Delta C(T_0,T_0,T_n)@ p) = P(t,p) E^{Q_p}(\\Delta C(T_0,T_0,T_n)  @ p|\\mathcal{F_t})$ \n",
    "- where $Q_p$ is p-Forward measure   i.e. such that $\\frac{P(t,T)}{P(t,p)} Q_p$-Martingale $t<T<p$\n",
    "\n",
    "## Problem: distribution of X under $Q_p$ is unknown, but known under $Q_{swap}$\n",
    "\n",
    "\n",
    "\n"
   ]
  },
  {
   "cell_type": "markdown",
   "metadata": {},
   "source": [
    "#### Measure transformation between $Q_{p}$ and $Q_{Swap}$\n",
    "\n",
    "$ M(t,T_0,T_n)=\\left. \\frac{dQ_{Swap}}{dQ_p}\\right|_{t}=E^{Q_{Swap}}(\\frac{P(T_0,p)}{PV01(T_0,T_0,T_n)}|\\mathcal{F_t}) = \\frac{P(t,p)}{PV01(t,T_0,T_n)} $ is a $Q_{Swap}$-Matringale (Radon-Nykodym)\n",
    "\n"
   ]
  },
  {
   "cell_type": "markdown",
   "metadata": {},
   "source": [
    "## Assume linear rate model\n",
    "\n",
    "\n",
    "$ M(t,T_0,T_n)=\\left. \\frac{dQ_{Swap}}{dQ_p}\\right|_{t} = \\frac{P(t,p)}{PV01(t,T_0,T_n)}= \\alpha + \\beta_p C(t,T_0,T_n)$\n",
    "\n",
    "- $\\beta_p$ such that $\\frac{P(.,T)}{PV01(.,T_0,T_n)}$ is $Q_{swap}$-Martingale\n",
    "- $\\alpha$ such that $1=\\frac{\\sum_{i=1}^n \\Delta_i P(t,T_i)}{PV01_{T_0}}$\n"
   ]
  },
  {
   "cell_type": "markdown",
   "metadata": {},
   "source": [
    "\n",
    "\n",
    "\n",
    "$E^{Q_{p}}(C(T_0,T_0,T_n)|\\mathcal{F_t})=  \\frac{1}{M(t)} E^{Q_{Swap}}(M(T_0) C(T_0,T_0,T_n)|\\mathcal{F_t}) = \\frac{1}{\\alpha +\\beta_p C(t,T_0,T_n)}\n",
    "E^{Q_{Swap}}(C(T_0,T_0,T_n)  (\\alpha +\\beta_p C(T_0,T_0,T_n)|\\mathcal{F_t})\n",
    "=\\frac{1}{\\alpha +\\beta_p C(t,T_0,T_n)}(\n",
    "\\alpha  E^{Q_{Swap}}(C(T_0,T_0,T_n)|\\mathcal{F_t}) + \\beta_p (E^{Q_{Swap}} C(T_0,T_0,T_n)^2|\\mathcal{F_t}))\n",
    "=\\frac{1}{\\alpha +\\beta_p C(t,T_0,T_n)}(\n",
    "\\alpha  C(t,T_0,T_n) + \\beta_p (Var^{Q_{Swap}} (C(T_0,T_0,T_n)|\\mathcal{F_t})+ C(t,T_0,T_n)^2)\n",
    "=\\frac{1}{\\alpha +\\beta_p C(t,T_0,T_n)}(\n",
    "(\\alpha  + \\beta_p C(t,T_0,T_n))C(t,T_0,T_n) + \\beta_p (Var^{Q_{Swap}} (C(T_0,T_0,T_n)|\\mathcal{F_t})$\n",
    "\n",
    "$=C(t,T_0,T_n) + \\frac{\\beta_p Var^{Q_{Swap}}(C(T_0,T_0,T_n)|\\mathcal{F_t})}{\\alpha +\\beta_p C(t,T_0,T_n)}=C(t,T_0,T_n)( 1 + \\frac{\\beta_p Var^{Q_{Swap}}(C(T_0,T_0,T_n)|\\mathcal{F_t})}{C(t,T_0,T_n)(\\alpha +\\beta_p C(t,T_0,T_n))})$\n",
    "\n",
    "\n"
   ]
  },
  {
   "cell_type": "code",
   "execution_count": 9,
   "metadata": {},
   "outputs": [],
   "source": [
    "def alpha(schedule):\n",
    "    deltas = schedule[1:] - schedule[:len(schedule)-1]\n",
    "    return 1.0/deltas.sum()\n",
    "\n",
    "\n",
    "\n",
    "\n",
    "\n",
    "def beta(t,schedule,p):\n",
    "    return (P(t,schedule[0]+ p)/PV01(t,schedule) - alpha(schedule))/C(t,schedule)"
   ]
  },
  {
   "cell_type": "markdown",
   "metadata": {},
   "source": [
    "\n",
    "####  Black\n",
    "\n",
    "$C(T_0,T_0,T_n) = C(0,T_0,T_n) exp(-\\frac{\\sigma^2}{2}T_1+\\sigma W_{T_1})$\n",
    "- $ Var^{Q_{Swap}}(C(T_0,T_0,T_n)) = C(0,T_0,T_n)^2 (exp( \\sigma^2 T_0)-1)$\n",
    "- $E^{Q_{p}}(C(T_0,T_0,T_n)|\\mathcal{F_0})= C(0,T_0,T_n)( 1 + \\frac{\\beta_p C(0,T_0,T_n) (exp( \\sigma^2 T_0)-1)}{(\\alpha +\\beta_p C(0,T_0,T_n))})$\n",
    "\n",
    "\n",
    "\n",
    "#### Expectation Bachelier\n",
    "\n",
    "$C(T_0,T_0,T_n) = C(0,T_0,T_n) \\sigma W_{T_0}$\n",
    "- $ Var^{Q_{Swap}}(C(T_0,T_0,T_n)) = C(0,T_0,T_n)^2 (\\sigma^2 T_0-1)$\n",
    "- $E^{Q_{p}}(C(T_0,T_0,T_n)|\\mathcal{F_0})= C(0,T_0,T_n)( 1 + \\frac{\\beta_p C(0,T_0,T_n) ( \\sigma^2 T_0-1)}{(\\alpha +\\beta_p C(0,T_0,T_n))})$\n",
    "\n"
   ]
  },
  {
   "cell_type": "code",
   "execution_count": 2,
   "metadata": {},
   "outputs": [],
   "source": [
    "\n",
    "SwapFrequency =1\n",
    "p=1\n",
    "sigma =0.2\n",
    "\n",
    "\n",
    "    \n"
   ]
  },
  {
   "cell_type": "code",
   "execution_count": 3,
   "metadata": {},
   "outputs": [
    {
     "name": "stdout",
     "output_type": "stream",
     "text": [
      "|5.019|5.039|5.071\n",
      "|5.038|5.079|5.144\n",
      "|5.058|5.121|5.22\n",
      "|5.079|5.164|5.3\n",
      "|5.101|5.209|5.383\n",
      "|5.123|5.257|5.469\n",
      "|5.147|5.306|5.559\n",
      "|5.171|5.357|5.652\n",
      "|5.197|5.41|5.749\n",
      "|5.223|5.465|5.85\n"
     ]
    }
   ],
   "source": [
    "def ForwardAdjusted(today,schedule,p,sigma):    \n",
    "    fixingTime =schedule[0]\n",
    "    maturityTime =schedule[len(schedule)-1]\n",
    "    num =  C(today,schedule) *  ( alpha(schedule) + C(today,schedule) * beta(today,schedule,p))\n",
    "    #print(\"num:\" + str(num))\n",
    "    #print(\"schedule:\" + str(schedule))\n",
    "    denom = beta(today,schedule,p)    \n",
    "    #print(\"denom:\" + str(denom))\n",
    "    varianz = C(today,schedule)*C(today,schedule) * (math.exp(sigma*sigma * fixingTime)-1)\n",
    "    #print(\"varianz:\" + str(varianz))\n",
    "    return C(today,schedule) * (1 + denom/num * varianz)\n",
    "\n",
    "\n",
    "for cmsTenor in [1,2,3,4,5,6,7,8,9,10]:\n",
    "    msg=\"\"\n",
    "    for swapTenor in  [5,10,20]:\n",
    "        schedule = np.arange(cmsTenor, cmsTenor + swapTenor+ SwapFrequency,SwapFrequency)\n",
    "        pv01 = PV01(0,schedule)\n",
    "        forward = C(0,schedule)\n",
    "        forwardAdjusted = ForwardAdjusted(0,schedule,p,sigma)\n",
    "        msg = msg + '|' + str(round(forwardAdjusted*100,3))\n",
    "    print(msg)\n"
   ]
  },
  {
   "cell_type": "code",
   "execution_count": 4,
   "metadata": {},
   "outputs": [
    {
     "ename": "NameError",
     "evalue": "name 'SwapTenor' is not defined",
     "output_type": "error",
     "traceback": [
      "\u001b[1;31m---------------------------------------------------------------------------\u001b[0m",
      "\u001b[1;31mNameError\u001b[0m                                 Traceback (most recent call last)",
      "\u001b[1;32m~\\AppData\\Local\\Temp/ipykernel_18716/1185885229.py\u001b[0m in \u001b[0;36m<module>\u001b[1;34m\u001b[0m\n\u001b[0;32m      1\u001b[0m \u001b[0mxrange\u001b[0m \u001b[1;33m=\u001b[0m \u001b[0mnp\u001b[0m\u001b[1;33m.\u001b[0m\u001b[0marange\u001b[0m\u001b[1;33m(\u001b[0m\u001b[1;36m0\u001b[0m\u001b[1;33m,\u001b[0m\u001b[1;36m30\u001b[0m\u001b[1;33m,\u001b[0m\u001b[1;36m1\u001b[0m\u001b[1;33m)\u001b[0m\u001b[1;33m\u001b[0m\u001b[1;33m\u001b[0m\u001b[0m\n\u001b[0;32m      2\u001b[0m \u001b[1;33m\u001b[0m\u001b[0m\n\u001b[1;32m----> 3\u001b[1;33m \u001b[0mplt\u001b[0m\u001b[1;33m.\u001b[0m\u001b[0mplot\u001b[0m\u001b[1;33m(\u001b[0m\u001b[0mxrange\u001b[0m\u001b[1;33m,\u001b[0m\u001b[1;33m[\u001b[0m\u001b[0mForwardAdjusted\u001b[0m\u001b[1;33m(\u001b[0m\u001b[1;36m0\u001b[0m\u001b[1;33m,\u001b[0m\u001b[0mnp\u001b[0m\u001b[1;33m.\u001b[0m\u001b[0marange\u001b[0m\u001b[1;33m(\u001b[0m\u001b[0mtime\u001b[0m\u001b[1;33m,\u001b[0m\u001b[0mtime\u001b[0m \u001b[1;33m+\u001b[0m \u001b[0mSwapTenor\u001b[0m\u001b[1;33m+\u001b[0m \u001b[0mSwapFrequency\u001b[0m\u001b[1;33m,\u001b[0m\u001b[0mSwapFrequency\u001b[0m\u001b[1;33m)\u001b[0m\u001b[1;33m,\u001b[0m\u001b[0mp\u001b[0m\u001b[1;33m,\u001b[0m\u001b[1;36m0.2\u001b[0m\u001b[1;33m)\u001b[0m \u001b[1;32mfor\u001b[0m \u001b[0mtime\u001b[0m \u001b[1;32min\u001b[0m \u001b[0mxrange\u001b[0m\u001b[1;33m]\u001b[0m\u001b[1;33m,\u001b[0m\u001b[0mlabel\u001b[0m\u001b[1;33m=\u001b[0m\u001b[1;34m\"sigma=0.2\"\u001b[0m\u001b[1;33m)\u001b[0m\u001b[1;33m\u001b[0m\u001b[1;33m\u001b[0m\u001b[0m\n\u001b[0m\u001b[0;32m      4\u001b[0m \u001b[0mplt\u001b[0m\u001b[1;33m.\u001b[0m\u001b[0mplot\u001b[0m\u001b[1;33m(\u001b[0m\u001b[0mxrange\u001b[0m\u001b[1;33m,\u001b[0m\u001b[1;33m[\u001b[0m\u001b[0mForwardAdjusted\u001b[0m\u001b[1;33m(\u001b[0m\u001b[1;36m0\u001b[0m\u001b[1;33m,\u001b[0m\u001b[0mnp\u001b[0m\u001b[1;33m.\u001b[0m\u001b[0marange\u001b[0m\u001b[1;33m(\u001b[0m\u001b[0mtime\u001b[0m\u001b[1;33m,\u001b[0m\u001b[0mtime\u001b[0m \u001b[1;33m+\u001b[0m \u001b[0mSwapTenor\u001b[0m\u001b[1;33m+\u001b[0m \u001b[0mSwapFrequency\u001b[0m\u001b[1;33m,\u001b[0m\u001b[0mSwapFrequency\u001b[0m\u001b[1;33m)\u001b[0m\u001b[1;33m,\u001b[0m\u001b[0mp\u001b[0m\u001b[1;33m,\u001b[0m\u001b[1;36m0.15\u001b[0m\u001b[1;33m)\u001b[0m \u001b[1;32mfor\u001b[0m \u001b[0mtime\u001b[0m \u001b[1;32min\u001b[0m \u001b[0mxrange\u001b[0m\u001b[1;33m]\u001b[0m\u001b[1;33m,\u001b[0m\u001b[0mlabel\u001b[0m\u001b[1;33m=\u001b[0m\u001b[1;34m\"sigma=0.15\"\u001b[0m\u001b[1;33m)\u001b[0m\u001b[1;33m\u001b[0m\u001b[1;33m\u001b[0m\u001b[0m\n\u001b[0;32m      5\u001b[0m \u001b[0mplt\u001b[0m\u001b[1;33m.\u001b[0m\u001b[0mplot\u001b[0m\u001b[1;33m(\u001b[0m\u001b[0mxrange\u001b[0m\u001b[1;33m,\u001b[0m\u001b[1;33m[\u001b[0m\u001b[0mForwardAdjusted\u001b[0m\u001b[1;33m(\u001b[0m\u001b[1;36m0\u001b[0m\u001b[1;33m,\u001b[0m\u001b[0mnp\u001b[0m\u001b[1;33m.\u001b[0m\u001b[0marange\u001b[0m\u001b[1;33m(\u001b[0m\u001b[0mtime\u001b[0m\u001b[1;33m,\u001b[0m\u001b[0mtime\u001b[0m \u001b[1;33m+\u001b[0m \u001b[0mSwapTenor\u001b[0m\u001b[1;33m+\u001b[0m \u001b[0mSwapFrequency\u001b[0m\u001b[1;33m,\u001b[0m\u001b[0mSwapFrequency\u001b[0m\u001b[1;33m)\u001b[0m\u001b[1;33m,\u001b[0m\u001b[0mp\u001b[0m\u001b[1;33m,\u001b[0m\u001b[1;36m0.1\u001b[0m\u001b[1;33m)\u001b[0m \u001b[1;32mfor\u001b[0m \u001b[0mtime\u001b[0m \u001b[1;32min\u001b[0m \u001b[0mxrange\u001b[0m\u001b[1;33m]\u001b[0m\u001b[1;33m,\u001b[0m\u001b[0mlabel\u001b[0m\u001b[1;33m=\u001b[0m\u001b[1;34m\"sigma=0.1\"\u001b[0m\u001b[1;33m)\u001b[0m\u001b[1;33m\u001b[0m\u001b[1;33m\u001b[0m\u001b[0m\n",
      "\u001b[1;32m~\\AppData\\Local\\Temp/ipykernel_18716/1185885229.py\u001b[0m in \u001b[0;36m<listcomp>\u001b[1;34m(.0)\u001b[0m\n\u001b[0;32m      1\u001b[0m \u001b[0mxrange\u001b[0m \u001b[1;33m=\u001b[0m \u001b[0mnp\u001b[0m\u001b[1;33m.\u001b[0m\u001b[0marange\u001b[0m\u001b[1;33m(\u001b[0m\u001b[1;36m0\u001b[0m\u001b[1;33m,\u001b[0m\u001b[1;36m30\u001b[0m\u001b[1;33m,\u001b[0m\u001b[1;36m1\u001b[0m\u001b[1;33m)\u001b[0m\u001b[1;33m\u001b[0m\u001b[1;33m\u001b[0m\u001b[0m\n\u001b[0;32m      2\u001b[0m \u001b[1;33m\u001b[0m\u001b[0m\n\u001b[1;32m----> 3\u001b[1;33m \u001b[0mplt\u001b[0m\u001b[1;33m.\u001b[0m\u001b[0mplot\u001b[0m\u001b[1;33m(\u001b[0m\u001b[0mxrange\u001b[0m\u001b[1;33m,\u001b[0m\u001b[1;33m[\u001b[0m\u001b[0mForwardAdjusted\u001b[0m\u001b[1;33m(\u001b[0m\u001b[1;36m0\u001b[0m\u001b[1;33m,\u001b[0m\u001b[0mnp\u001b[0m\u001b[1;33m.\u001b[0m\u001b[0marange\u001b[0m\u001b[1;33m(\u001b[0m\u001b[0mtime\u001b[0m\u001b[1;33m,\u001b[0m\u001b[0mtime\u001b[0m \u001b[1;33m+\u001b[0m \u001b[0mSwapTenor\u001b[0m\u001b[1;33m+\u001b[0m \u001b[0mSwapFrequency\u001b[0m\u001b[1;33m,\u001b[0m\u001b[0mSwapFrequency\u001b[0m\u001b[1;33m)\u001b[0m\u001b[1;33m,\u001b[0m\u001b[0mp\u001b[0m\u001b[1;33m,\u001b[0m\u001b[1;36m0.2\u001b[0m\u001b[1;33m)\u001b[0m \u001b[1;32mfor\u001b[0m \u001b[0mtime\u001b[0m \u001b[1;32min\u001b[0m \u001b[0mxrange\u001b[0m\u001b[1;33m]\u001b[0m\u001b[1;33m,\u001b[0m\u001b[0mlabel\u001b[0m\u001b[1;33m=\u001b[0m\u001b[1;34m\"sigma=0.2\"\u001b[0m\u001b[1;33m)\u001b[0m\u001b[1;33m\u001b[0m\u001b[1;33m\u001b[0m\u001b[0m\n\u001b[0m\u001b[0;32m      4\u001b[0m \u001b[0mplt\u001b[0m\u001b[1;33m.\u001b[0m\u001b[0mplot\u001b[0m\u001b[1;33m(\u001b[0m\u001b[0mxrange\u001b[0m\u001b[1;33m,\u001b[0m\u001b[1;33m[\u001b[0m\u001b[0mForwardAdjusted\u001b[0m\u001b[1;33m(\u001b[0m\u001b[1;36m0\u001b[0m\u001b[1;33m,\u001b[0m\u001b[0mnp\u001b[0m\u001b[1;33m.\u001b[0m\u001b[0marange\u001b[0m\u001b[1;33m(\u001b[0m\u001b[0mtime\u001b[0m\u001b[1;33m,\u001b[0m\u001b[0mtime\u001b[0m \u001b[1;33m+\u001b[0m \u001b[0mSwapTenor\u001b[0m\u001b[1;33m+\u001b[0m \u001b[0mSwapFrequency\u001b[0m\u001b[1;33m,\u001b[0m\u001b[0mSwapFrequency\u001b[0m\u001b[1;33m)\u001b[0m\u001b[1;33m,\u001b[0m\u001b[0mp\u001b[0m\u001b[1;33m,\u001b[0m\u001b[1;36m0.15\u001b[0m\u001b[1;33m)\u001b[0m \u001b[1;32mfor\u001b[0m \u001b[0mtime\u001b[0m \u001b[1;32min\u001b[0m \u001b[0mxrange\u001b[0m\u001b[1;33m]\u001b[0m\u001b[1;33m,\u001b[0m\u001b[0mlabel\u001b[0m\u001b[1;33m=\u001b[0m\u001b[1;34m\"sigma=0.15\"\u001b[0m\u001b[1;33m)\u001b[0m\u001b[1;33m\u001b[0m\u001b[1;33m\u001b[0m\u001b[0m\n\u001b[0;32m      5\u001b[0m \u001b[0mplt\u001b[0m\u001b[1;33m.\u001b[0m\u001b[0mplot\u001b[0m\u001b[1;33m(\u001b[0m\u001b[0mxrange\u001b[0m\u001b[1;33m,\u001b[0m\u001b[1;33m[\u001b[0m\u001b[0mForwardAdjusted\u001b[0m\u001b[1;33m(\u001b[0m\u001b[1;36m0\u001b[0m\u001b[1;33m,\u001b[0m\u001b[0mnp\u001b[0m\u001b[1;33m.\u001b[0m\u001b[0marange\u001b[0m\u001b[1;33m(\u001b[0m\u001b[0mtime\u001b[0m\u001b[1;33m,\u001b[0m\u001b[0mtime\u001b[0m \u001b[1;33m+\u001b[0m \u001b[0mSwapTenor\u001b[0m\u001b[1;33m+\u001b[0m \u001b[0mSwapFrequency\u001b[0m\u001b[1;33m,\u001b[0m\u001b[0mSwapFrequency\u001b[0m\u001b[1;33m)\u001b[0m\u001b[1;33m,\u001b[0m\u001b[0mp\u001b[0m\u001b[1;33m,\u001b[0m\u001b[1;36m0.1\u001b[0m\u001b[1;33m)\u001b[0m \u001b[1;32mfor\u001b[0m \u001b[0mtime\u001b[0m \u001b[1;32min\u001b[0m \u001b[0mxrange\u001b[0m\u001b[1;33m]\u001b[0m\u001b[1;33m,\u001b[0m\u001b[0mlabel\u001b[0m\u001b[1;33m=\u001b[0m\u001b[1;34m\"sigma=0.1\"\u001b[0m\u001b[1;33m)\u001b[0m\u001b[1;33m\u001b[0m\u001b[1;33m\u001b[0m\u001b[0m\n",
      "\u001b[1;31mNameError\u001b[0m: name 'SwapTenor' is not defined"
     ]
    }
   ],
   "source": [
    "xrange = np.arange(0,30,1)\n",
    "\n",
    "plt.plot(xrange,[ForwardAdjusted(0,np.arange(time,time + SwapTenor+ SwapFrequency,SwapFrequency),p,0.2) for time in xrange],label=\"sigma=0.2\")\n",
    "plt.plot(xrange,[ForwardAdjusted(0,np.arange(time,time + SwapTenor+ SwapFrequency,SwapFrequency),p,0.15) for time in xrange],label=\"sigma=0.15\")\n",
    "plt.plot(xrange,[ForwardAdjusted(0,np.arange(time,time + SwapTenor+ SwapFrequency,SwapFrequency),p,0.1) for time in xrange],label=\"sigma=0.1\")\n",
    "plt.plot(xrange,[C(0,np.arange(time,time + SwapTenor+ SwapFrequency,SwapFrequency)) for time in xrange],label=\"sigma=0\")\n",
    "plt.show()\n"
   ]
  },
  {
   "cell_type": "markdown",
   "metadata": {},
   "source": [
    "### Calculate the RN-derivative by orthogonal projection\n",
    "\n",
    "$(\\frac{M(T_0,T_0,T_n)}{M(t,T_0,T_n)}-\\alpha_0(t,T_0,T_n) - \\alpha_1(t,T_0,T_n) C(T_0,T_0,T_n)) \\bot span\\{1,C(T_0,T_0,T_n)\\}$\n",
    "\n",
    "\n",
    "\n",
    "$\\left(\\begin{matrix} 0\\\\0 \\end{matrix}\\right) =E^{Q_{Swap}}(\\left(\\begin{matrix}1 & 0\\\\0 &C(T_0,T_0,T_n)\\end{matrix}\\right)\\left(\\begin{matrix} \\frac{M(T_0,T_0,T_n)}{M(t,T_0,T_n)}-\\alpha_0(t,T_0,T_n) - \\alpha_1(t,T_0,T_n) C(T_0,T_0,T_n)\\\\\\frac{M(T_0,T_0,T_n)}{M(t,T_0,T_n)}-\\alpha_0(t,T_0,T_n) - \\alpha_1(t,T_0,T_n) C(T_0,T_0,T_n) \\end{matrix}\\right)|\\mathcal{F_t})$\n",
    "\n",
    "$\\left(\\begin{matrix} 0\\\\0 \\end{matrix}\\right) =\\left(\\begin{matrix} E^{Q_{Swap}}(\\frac{M(T_0,T_0,T_n)}{M(t,T_0,T_n)}|\\mathcal{F_t})-\\alpha_0(t,T_0,T_n)- \\alpha_1(t,T_0,T_n)C(t,T_0,T_n)\\\\E^{Q_{Swap}}(\\frac{M(T_0,T_0,T_n)}{M(t,T_0,T_n)} C(T_0,T_0,T_n)|\\mathcal{F_t})- \\alpha_0(t,T_0,T_n) C(t,T_0,T_n) - \\alpha_1(t,T_0,T_n) E^{Q_{Swap}}( C(T_0,T_0,T_n)^2|\\mathcal{F_t}) \\end{matrix}\\right)$"
   ]
  },
  {
   "cell_type": "code",
   "execution_count": null,
   "metadata": {
    "collapsed": true
   },
   "outputs": [],
   "source": []
  },
  {
   "cell_type": "markdown",
   "metadata": {},
   "source": [
    "### Solve for $\\alpha_1,\\alpha_2$\n",
    "\n",
    "$\\left(\\begin{matrix} 1\\\\E^{Q_{Swap}}(\\frac{M(T_0,T_0,T_n)}{M(t,T_0,T_n)}C(T_0,T_0,T_n)|\\mathcal{F_t}) \\end{matrix}\\right) =\\left(\\begin{matrix} 1 & C(t,T_0,T_n)\\\\C(t,T_0,T_n) & E^{Q_{T_2}}(L(T_1,T_2)^2|\\mathcal{F_t}) \\end{matrix}\\right) \\left(\\begin{matrix} \\alpha_0(t,T_0,T_n)\\\\\\alpha_1(t,T_0,T_n) \\end{matrix}\\right)$\n",
    "\n",
    "$\\left(\\begin{matrix} \\alpha_0(t,T_0,T_n)\\\\\\alpha_1(t,T_0,T_n) \\end{matrix}\\right) = \\left(\\begin{matrix} 1 & C(t,T_0,T_n)\\\\C(t,T_0,T_n) & E^{Q_{T_2}}(C(T_0,T_0,T_n)^2|\\mathcal{F_t}) \\end{matrix}\\right)^{-1} \\left(\\begin{matrix} 1\\\\E^{Q_{Swap}}(\\frac{M(T_0,T_0,T_n)}{M(t,T_0,T_n)}C(T_0,T_0,T_n)|\\mathcal{F_t}) \\end{matrix}\\right)$\n",
    "\n",
    "$\\left(\\begin{matrix} \\alpha_0(t,T_0,T_n)\\\\\\alpha_1(t,T_0,T_n) \\end{matrix}\\right) =\\frac{1}{Var^{Q_{Swap}}(C(T_0,T_0,T_n)|\\mathcal{F_t})} \\left(\\begin{matrix} E^{Q_{T_2}}(C(T_0,T_0,T_n)^2|\\mathcal{F_t})  & - C(t,T_0,T_n)\\\\ - C(t,T_0,T_n) & 1\\end{matrix}\\right) \\left(\\begin{matrix} 1\\\\E^{Q_{Swap}}(\\frac{M(T_0,T_0,T_n)}{M(t,T_0,T_n)}C(T_0,T_0,T_n)|\\mathcal{F_t}) \\end{matrix}\\right)$\n",
    "\n"
   ]
  },
  {
   "cell_type": "markdown",
   "metadata": {},
   "source": [
    "\n"
   ]
  },
  {
   "cell_type": "markdown",
   "metadata": {},
   "source": []
  },
  {
   "cell_type": "markdown",
   "metadata": {
    "collapsed": true
   },
   "source": [
    "\n",
    "\n"
   ]
  },
  {
   "cell_type": "markdown",
   "metadata": {},
   "source": []
  },
  {
   "cell_type": "markdown",
   "metadata": {},
   "source": []
  },
  {
   "cell_type": "markdown",
   "metadata": {
    "collapsed": true
   },
   "source": [
    "\n",
    "\n",
    "\n"
   ]
  },
  {
   "cell_type": "markdown",
   "metadata": {},
   "source": []
  },
  {
   "cell_type": "markdown",
   "metadata": {},
   "source": []
  },
  {
   "cell_type": "code",
   "execution_count": null,
   "metadata": {},
   "outputs": [],
   "source": [
    "\n",
    "\n",
    "\n"
   ]
  },
  {
   "cell_type": "markdown",
   "metadata": {},
   "source": [
    "\n",
    "\n",
    "\n"
   ]
  },
  {
   "cell_type": "markdown",
   "metadata": {},
   "source": [
    "# Analytic"
   ]
  },
  {
   "cell_type": "code",
   "execution_count": null,
   "metadata": {
    "collapsed": true
   },
   "outputs": [],
   "source": []
  },
  {
   "cell_type": "markdown",
   "metadata": {},
   "source": []
  },
  {
   "cell_type": "code",
   "execution_count": null,
   "metadata": {},
   "outputs": [],
   "source": []
  },
  {
   "cell_type": "markdown",
   "metadata": {},
   "source": [
    "# Distribution  of $L(T_1,T_2) under Q^{T_1}$"
   ]
  },
  {
   "cell_type": "markdown",
   "metadata": {},
   "source": [
    "\n",
    "$Q^{T_1}(L(T_1,T_2) \\in A |\\mathcal{F_t}) =E^{Q_{T_2}}(\\frac{M(T)}{M(t)} 1_{L(T_1,T_2) \\in A} |\\mathcal{F_t}) = E^{Q_{T_2}}(E^{Q_{T_2}}(\\frac{M(T)}{M(t)}|L(T_1,T_2), \\mathcal{F_t}) 1_{L(T_1,T_2) \\in A} |\\mathcal{F_t}) \\approx E^{Q_{T_2}}((\\alpha_0(t,T)+ \\alpha_1(t,T)L(T_1,T_2)) 1_{L(T_1,T_2) \\in A} |\\mathcal{F_t}) =\\int_A((\\alpha_0(t,T) + \\alpha_1(t,T) s) \\cdot p^{Q^{T_2}}(s) ds)$\n",
    "\n",
    "$ p^{Q^{T_1}}(s) =(\\alpha_0(t,T) + \\alpha_1(t,T) s) \\cdot p^{Q^{T_2}}(s)$\n",
    "\n",
    "$\\left(\\begin{matrix} \\alpha_0(t,T_1)\\\\\\alpha_1(t,T_1) \\end{matrix}\\right)\n",
    "=\\left(\\begin{matrix} 1- \\frac{1}{ (1 + \\Delta L(t,T_1,T_2))} \\\\ \\frac{\\Delta }{ (1 + \\Delta L(t,T_1,T_2))} \\end{matrix}\\right)$\n",
    "\n"
   ]
  },
  {
   "cell_type": "code",
   "execution_count": null,
   "metadata": {},
   "outputs": [],
   "source": []
  },
  {
   "cell_type": "code",
   "execution_count": 42,
   "metadata": {},
   "outputs": [
    {
     "data": {
      "image/png": "[encoded data removed]",
      "text/plain": [
       "<matplotlib.figure.Figure at 0xab8de2cc>"
      ]
     },
     "metadata": {},
     "output_type": "display_data"
    }
   ],
   "source": [
    "def alpha_0(t,T1,T2):\n",
    "    if t>T:\n",
    "        return np.nan\n",
    "    num = 1\n",
    "    denom =  1+ (T2-T1) * Forward(1,T1,T2)\n",
    "    return 1- num/denom\n",
    "\n",
    "def alpha_1(t,T1,T2):\n",
    "    if t>T:\n",
    "        return np.nan\n",
    "    num = T2-T1\n",
    "    denom =  1+ (T2-T1)  * Forward(1,T1,T2)\n",
    "    return num/denom\n",
    "\n",
    "\n",
    "\n",
    "def L(T1,T2):   \n",
    "    mu = math.log(Forward(0,T1,T2)) - sigma*sigma*T1/2\n",
    "    l = lognorm(s=sigma*sigma*T1, loc=0, scale=math.exp(mu))\n",
    "    return l\n",
    "   \n",
    "T1=10\n",
    "T2=T1+delta\n",
    "\n",
    "\n",
    "plt.plot(np.arange(0,0.2,0.001), [L(T1,T2).pdf(s) for s in np.arange(0,0.2,0.001)],label=\"Q^C_T\")\n",
    "for vola in [0,0.1,0.2,0.4]:\n",
    "    plt.plot(np.arange(0,0.2,0.001), [(alpha_0(0,T1,T2) +alpha_1(0,T1,T2)*s) \n",
    "                                    for s in np.arange(0,0.2,0.001)],label=\"\")\n",
    "\n",
    "    "
   ]
  },
  {
   "cell_type": "code",
   "execution_count": null,
   "metadata": {
    "collapsed": true
   },
   "outputs": [],
   "source": []
  },
  {
   "cell_type": "markdown",
   "metadata": {},
   "source": [
    "\n"
   ]
  },
  {
   "cell_type": "code",
   "execution_count": 44,
   "metadata": {
    "collapsed": true
   },
   "outputs": [],
   "source": []
  },
  {
   "cell_type": "code",
   "execution_count": null,
   "metadata": {},
   "outputs": [],
   "source": [
    "\n",
    "\n"
   ]
  },
  {
   "cell_type": "code",
   "execution_count": null,
   "metadata": {},
   "outputs": [],
   "source": [
    "\n",
    "\n",
    "\n",
    "\n",
    "\n",
    "\n"
   ]
  },
  {
   "cell_type": "code",
   "execution_count": null,
   "metadata": {},
   "outputs": [],
   "source": [
    "\n"
   ]
  },
  {
   "cell_type": "code",
   "execution_count": null,
   "metadata": {},
   "outputs": [],
   "source": []
  },
  {
   "cell_type": "code",
   "execution_count": null,
   "metadata": {
    "collapsed": true
   },
   "outputs": [],
   "source": []
  }
 ],
 "metadata": {
  "kernelspec": {
   "display_name": "Python 3",
   "language": "python",
   "name": "python3"
  },
  "language_info": {
   "codemirror_mode": {
    "name": "ipython",
    "version": 3
   },
   "file_extension": ".py",
   "mimetype": "text/x-python",
   "name": "python",
   "nbconvert_exporter": "python",
   "pygments_lexer": "ipython3",
   "version": "3.8.12"
  }
 },
 "nbformat": 4,
 "nbformat_minor": 1
}
