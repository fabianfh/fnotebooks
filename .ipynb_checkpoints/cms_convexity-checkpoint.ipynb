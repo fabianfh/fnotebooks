{
 "cells": [
  {
   "cell_type": "markdown",
   "metadata": {},
   "source": [
    "# CMS and Linear Rate Model\n",
    "\n",
    "Wolfram Boenkost, Wolfgang M. Schmidt: Notes on convexity and quanto adjustments for interest rates and related options \n",
    "https://d-nb.info/989681769/34\n"
   ]
  },
  {
   "cell_type": "code",
   "execution_count": 2,
   "metadata": {},
   "outputs": [],
   "source": [
    "\n",
    "import matplotlib.pyplot as plt\n",
    "from mpl_toolkits.mplot3d import Axes3D\n",
    "import numpy as np\n",
    "import scipy.stats\n",
    "from scipy.interpolate import interp1d\n",
    "import math\n",
    "import scipy.integrate as integrate\n",
    "from scipy.stats import norm\n",
    "from scipy.stats import lognorm\n",
    "import pandas as pd\n",
    "%matplotlib inline"
   ]
  },
  {
   "cell_type": "markdown",
   "metadata": {},
   "source": [
    "# Model free part"
   ]
  },
  {
   "cell_type": "markdown",
   "metadata": {},
   "source": [
    "## Tradable Securities\n",
    "\n",
    "\n",
    "Zerobonds  $P(t,T_i)$ where $t < T_0 < ... < T_n$ \n",
    "\n",
    "\n"
   ]
  },
  {
   "cell_type": "code",
   "execution_count": 3,
   "metadata": {},
   "outputs": [],
   "source": [
    "\n",
    "\n",
    "def ccrate(t,T):\n",
    "    return 0.04879018\n",
    "\n",
    "def P(t,T):\n",
    "    delta = T-t\n",
    "    if delta <=0:\n",
    "        return 1.0\n",
    "    return math.exp(-ccrate(t,T)*delta)\n",
    "\n",
    "\n"
   ]
  },
  {
   "cell_type": "markdown",
   "metadata": {},
   "source": [
    "# Numeraire pair\n",
    "Choose annuity factor  $PV01(t;T_0,...,T_n) = \\sum_{i=1}^n \\Delta_i P(t,T_i)$   where $\\Delta_i = T_i -T_{i-1}$ as numeraire \n",
    "and $Q_{Swap}$ such that  $\\frac{P(t,T)}{PV01(t;T_0,...,T_n)}$ is $Q_{Swap}$-Martingale $t<T_0$.\n",
    "Note that:\n",
    "\n",
    "- Par rate of a swap (with fixed schedule $T_0,T_1,...,T_n$):  $C(t;T_0,...,T_n)=\\frac{P(t,T_0) - P(t,T_n)}{PV01(t;T_0,...,T_n)}$ is $ Q_{Swap}$-Martingale\n",
    "\n",
    "- Under $Q_{Swap}$ the expectation of the (future) par rate is the forward par rate $E^{Q_{Swap}}( C(T_0;T_0,...,T_n)|\\mathcal{F_t})=E^{Q_{Swap}}(\\frac{P(T_0,T_0) - P(T_0,T_n)}{PV01(T_0,T_0,T_n)}| \\mathcal{F_t})= \\frac{P(t,T_0) - P(t,T_n)}{PV01(t,T_0,T_n)} = C(t;T_0,...,T_n)$\n"
   ]
  },
  {
   "cell_type": "code",
   "execution_count": 14,
   "metadata": {},
   "outputs": [
    {
     "data": {
      "text/html": [
       "<div>\n",
       "<style scoped>\n",
       "    .dataframe tbody tr th:only-of-type {\n",
       "        vertical-align: middle;\n",
       "    }\n",
       "\n",
       "    .dataframe tbody tr th {\n",
       "        vertical-align: top;\n",
       "    }\n",
       "\n",
       "    .dataframe thead th {\n",
       "        text-align: right;\n",
       "    }\n",
       "</style>\n",
       "<table border=\"1\" class=\"dataframe\">\n",
       "  <thead>\n",
       "    <tr style=\"text-align: right;\">\n",
       "      <th></th>\n",
       "      <th>Maturity</th>\n",
       "      <th>Par rate</th>\n",
       "    </tr>\n",
       "  </thead>\n",
       "  <tbody>\n",
       "    <tr>\n",
       "      <th>0</th>\n",
       "      <td>2</td>\n",
       "      <td>0.05</td>\n",
       "    </tr>\n",
       "    <tr>\n",
       "      <th>1</th>\n",
       "      <td>3</td>\n",
       "      <td>0.05</td>\n",
       "    </tr>\n",
       "    <tr>\n",
       "      <th>2</th>\n",
       "      <td>4</td>\n",
       "      <td>0.05</td>\n",
       "    </tr>\n",
       "    <tr>\n",
       "      <th>3</th>\n",
       "      <td>5</td>\n",
       "      <td>0.05</td>\n",
       "    </tr>\n",
       "    <tr>\n",
       "      <th>4</th>\n",
       "      <td>6</td>\n",
       "      <td>0.05</td>\n",
       "    </tr>\n",
       "    <tr>\n",
       "      <th>5</th>\n",
       "      <td>7</td>\n",
       "      <td>0.05</td>\n",
       "    </tr>\n",
       "    <tr>\n",
       "      <th>6</th>\n",
       "      <td>8</td>\n",
       "      <td>0.05</td>\n",
       "    </tr>\n",
       "    <tr>\n",
       "      <th>7</th>\n",
       "      <td>9</td>\n",
       "      <td>0.05</td>\n",
       "    </tr>\n",
       "    <tr>\n",
       "      <th>8</th>\n",
       "      <td>10</td>\n",
       "      <td>0.05</td>\n",
       "    </tr>\n",
       "    <tr>\n",
       "      <th>9</th>\n",
       "      <td>11</td>\n",
       "      <td>0.05</td>\n",
       "    </tr>\n",
       "    <tr>\n",
       "      <th>10</th>\n",
       "      <td>12</td>\n",
       "      <td>0.05</td>\n",
       "    </tr>\n",
       "    <tr>\n",
       "      <th>11</th>\n",
       "      <td>13</td>\n",
       "      <td>0.05</td>\n",
       "    </tr>\n",
       "    <tr>\n",
       "      <th>12</th>\n",
       "      <td>14</td>\n",
       "      <td>0.05</td>\n",
       "    </tr>\n",
       "    <tr>\n",
       "      <th>13</th>\n",
       "      <td>15</td>\n",
       "      <td>0.05</td>\n",
       "    </tr>\n",
       "    <tr>\n",
       "      <th>14</th>\n",
       "      <td>16</td>\n",
       "      <td>0.05</td>\n",
       "    </tr>\n",
       "    <tr>\n",
       "      <th>15</th>\n",
       "      <td>17</td>\n",
       "      <td>0.05</td>\n",
       "    </tr>\n",
       "    <tr>\n",
       "      <th>16</th>\n",
       "      <td>18</td>\n",
       "      <td>0.05</td>\n",
       "    </tr>\n",
       "    <tr>\n",
       "      <th>17</th>\n",
       "      <td>19</td>\n",
       "      <td>0.05</td>\n",
       "    </tr>\n",
       "  </tbody>\n",
       "</table>\n",
       "</div>"
      ],
      "text/plain": [
       "    Maturity  Par rate\n",
       "0          2      0.05\n",
       "1          3      0.05\n",
       "2          4      0.05\n",
       "3          5      0.05\n",
       "4          6      0.05\n",
       "5          7      0.05\n",
       "6          8      0.05\n",
       "7          9      0.05\n",
       "8         10      0.05\n",
       "9         11      0.05\n",
       "10        12      0.05\n",
       "11        13      0.05\n",
       "12        14      0.05\n",
       "13        15      0.05\n",
       "14        16      0.05\n",
       "15        17      0.05\n",
       "16        18      0.05\n",
       "17        19      0.05"
      ]
     },
     "execution_count": 14,
     "metadata": {},
     "output_type": "execute_result"
    }
   ],
   "source": [
    "def PV01(t,schedule):\n",
    "    retVal=0\n",
    "    for i in np.arange(1,len(schedule),1):\n",
    "        delta = schedule[i] - schedule[i-1] \n",
    "        retVal += delta * P(t,schedule[i])\n",
    "    return retVal\n",
    "\n",
    "def C(t,schedule):\n",
    "    floatLeg = P(0,schedule[0])-P(0,schedule[len(schedule)-1]) # single curve\n",
    "    return floatLeg/PV01(t,schedule)\n",
    "\n",
    "swapCurve= pd.DataFrame({\"Maturity\" : range(2,20),\"Par rate\" : [C(0,np.arange(0, mat,1)) for mat in range(2,20)]})\n",
    "swapCurve\n"
   ]
  },
  {
   "cell_type": "markdown",
   "metadata": {},
   "source": [
    "\n",
    "## Payoff CMS-Floater\n",
    "- $X = \\Delta C(T_0;T_0,...,T_n)$ paid @ time p  where $t<T_0<=p$\n",
    "- We are interested in premium $ V_t(X) =V_t(\\Delta C(T_0;T_0,...,T_n)@ p) = P(t,p) E^{Q_p}(\\Delta C(T_0;T_0,...,T_n)  @ p|\\mathcal{F_t})$ where $Q_p$ is p-Forward measure   i.e. such that $\\frac{P(t,T)}{P(t,p)} Q_p$-Martingale $t<T<p$\n",
    "\n",
    "## Problem: distribution of X under $Q_p$ is unknown, but known under $Q_{swap}$\n",
    "\n",
    "\n",
    "\n"
   ]
  },
  {
   "cell_type": "markdown",
   "metadata": {},
   "source": [
    "#### Measure transformation between $Q_{p}$ and $Q_{Swap}$\n",
    "\n",
    "$ M(t,T_0,T_n)=\\left. \\frac{dQ_{Swap}}{dQ_p}\\right|_{t}=E^{Q_{Swap}}(\\frac{P(T_0,p)}{PV01(T_0,T_0,T_n)}|\\mathcal{F_t}) = \\frac{P(t,p)}{PV01(t,T_0,T_n)} $ is a $Q_{Swap}$-Matringale \n",
    "\n"
   ]
  },
  {
   "cell_type": "markdown",
   "metadata": {},
   "source": [
    "## Assume linear rate model (LRM)\n",
    "\n",
    "\n",
    "$ M(t,T_0,T_n)=\\left. \\frac{dQ_{Swap}}{dQ_p}\\right|_{t} = \\frac{P(t,p)}{PV01(t,T_0,T_n)} \\approx \\alpha + \\beta_p C(t,T_0,T_n)$\n",
    "\n",
    "- $\\beta_p$ such that $\\frac{P(.,T)}{PV01(.,T_0,T_n)}$ is $Q_{swap}$-Martingale $\\implies$ $\\beta_p =\\frac{\\frac{P(t,p)}{PV01(t,T_0,T_n)}-\\alpha}{C(t,T_0,T_n)}$\n",
    "- $\\alpha$ such that $1=\\frac{\\sum_{i=1}^n \\Delta_i P(t,T_i)}{PV01_{T_0}}$ $\\implies$ $\\alpha =\\frac{1}{\\sum_{i=1}^{n} \\Delta_i}$\n",
    "\n",
    "\n"
   ]
  },
  {
   "cell_type": "code",
   "execution_count": 125,
   "metadata": {},
   "outputs": [],
   "source": [
    "def alpha(schedule):\n",
    "    deltas = schedule[1:] - schedule[:len(schedule)-1]\n",
    "    return 1.0/deltas.sum()\n",
    "\n",
    "def beta(t,T0, schedule,p):\n",
    "    return (P(t,T0+ p)/PV01(t,schedule) - alpha(schedule))/C(t,schedule)"
   ]
  },
  {
   "cell_type": "markdown",
   "metadata": {},
   "source": [
    "\n",
    "\n",
    "\n",
    "$E^{Q_{p}}(C(T_0,T_0,T_n)|\\mathcal{F_t})=  \\frac{1}{M(t)} E^{Q_{Swap}}(M(T_0) C(T_0,T_0,T_n)|\\mathcal{F_t})$\n",
    "\n",
    "$= \\frac{1}{\\alpha +\\beta_p C(t,T_0,T_n)} E^{Q_{Swap}}(C(T_0,T_0,T_n)  (\\alpha +\\beta_p C(T_0,T_0,T_n)|\\mathcal{F_t})$\n",
    "\n",
    "$ =\\frac{1}{\\alpha +\\beta_p C(t,T_0,T_n)}(\\alpha  E^{Q_{Swap}}(C(T_0,T_0,T_n)|\\mathcal{F_t}) + \\beta_p (E^{Q_{Swap}} C(T_0,T_0,T_n)^2|\\mathcal{F_t}))$\n",
    "\n",
    "$=\\frac{1}{\\alpha +\\beta_p C(t,T_0,T_n)}(\\alpha  C(t,T_0,T_n) + \\beta_p (Var^{Q_{Swap}} (C(T_0,T_0,T_n)|\\mathcal{F_t})+ C(t,T_0,T_n)^2)$ because of martingale property\n",
    "\n",
    "$=\\frac{1}{\\alpha +\\beta_p C(t,T_0,T_n)}(\n",
    "(\\alpha  + \\beta_p C(t,T_0,T_n))C(t,T_0,T_n) + \\beta_p (Var^{Q_{Swap}} (C(T_0,T_0,T_n)|\\mathcal{F_t})$\n",
    "\n",
    "$=C(t,T_0,T_n) + \\frac{\\beta_p Var^{Q_{Swap}}(C(T_0,T_0,T_n)|\\mathcal{F_t})}{\\alpha +\\beta_p C(t,T_0,T_n)}=C(t,T_0,T_n)( 1 + \\frac{\\beta_p Var^{Q_{Swap}}(C(T_0,T_0,T_n)|\\mathcal{F_t})}{C(t,T_0,T_n)(\\alpha +\\beta_p C(t,T_0,T_n))})$\n",
    "\n",
    "\n"
   ]
  },
  {
   "cell_type": "markdown",
   "metadata": {},
   "source": [
    "\n",
    "## Assume model for underlying\n",
    "####  Black76:  $C(t,T_0,T_n) = C(0,T_0,T_n) exp(-\\frac{\\sigma^2}{2}t+\\sigma W_{t})$ where $t \\le T_0$\n",
    "- $ Var^{Q_{Swap}}(C(T_0,T_0,T_n)) = C(0,T_0,T_n)^2 (exp( \\sigma^2 T_0)-1)$\n"
   ]
  },
  {
   "cell_type": "code",
   "execution_count": 126,
   "metadata": {},
   "outputs": [],
   "source": [
    "def Variance_GBM(t,S,sigma):\n",
    "    return S**2 * (math.exp(sigma**2 * t) - 1)"
   ]
  },
  {
   "cell_type": "markdown",
   "metadata": {},
   "source": [
    "\n",
    "\n",
    "\n",
    "\n",
    "#### Bachelier : $C(t,T_0,T_n) = C(0,T_0,T_n) \\sigma W_{T_0}$\n",
    "- $ Var^{Q_{Swap}}(C(T_0,T_0,T_n)) = C(0,T_0,T_n)^2 (\\sigma^2 T_0-1)$\n",
    "\n",
    "\n"
   ]
  },
  {
   "cell_type": "code",
   "execution_count": 127,
   "metadata": {},
   "outputs": [],
   "source": [
    "\n",
    "SwapFrequency =1 \n",
    "p=1 # pay at end of period\n",
    "sigma =0.2\n",
    "\n",
    "def ForwardParRate(t,schedule):\n",
    "    floatLeg = P(0,schedule[0])-P(0,schedule[len(schedule)-1])\n",
    "    #print(floatLeg)\n",
    "    return floatLeg/PV01(t,schedule)"
   ]
  },
  {
   "cell_type": "code",
   "execution_count": 128,
   "metadata": {},
   "outputs": [],
   "source": [
    "def ForwardParRateAdjusted(today,schedule,p,sigma):    \n",
    "    timeToFixing =schedule[0]\n",
    "    #print(\"timeToFixing:\" + str(timeToFixing))\n",
    "    C0 =  ForwardParRate(today,schedule)\n",
    "    #print(\"C0:\" + str(C0))\n",
    "    var = Variance_GBM(timeToFixing,C0,sigma)\n",
    "    #print(\"var:\" + str(var))\n",
    "    alpha_ = alpha(schedule)\n",
    "    #print(\"alpha_:\" + str(alpha_))\n",
    "    beta_ = beta(0,timeToFixing,schedule,p)\n",
    "    #print(\"beta_:\" + str(beta_))\n",
    "    \n",
    "    factor = 1 + (beta_ * var)/(alpha_ + beta_ * C0)/C0\n",
    "    return C0 * factor\n",
    "\n",
    "\n",
    "\n",
    "\n"
   ]
  },
  {
   "cell_type": "code",
   "execution_count": 129,
   "metadata": {},
   "outputs": [
    {
     "name": "stdout",
     "output_type": "stream",
     "text": [
      "|5.019|5.039|5.071\n",
      "|5.038|5.079|5.144\n",
      "|5.058|5.121|5.22\n",
      "|5.079|5.164|5.3\n",
      "|5.101|5.209|5.383\n",
      "|5.123|5.257|5.469\n",
      "|5.147|5.306|5.559\n",
      "|5.171|5.357|5.652\n",
      "|5.197|5.41|5.749\n",
      "|5.223|5.465|5.85\n"
     ]
    }
   ],
   "source": [
    "for cmsTenor in [1,2,3,4,5,6,7,8,9,10]:\n",
    "    msg=\"\"\n",
    "    for swapTenor in  [5,10,20]:\n",
    "        schedule = np.arange(cmsTenor, cmsTenor + swapTenor+ SwapFrequency,SwapFrequency)\n",
    "        pv01 = PV01(0,schedule)\n",
    "        forward = ForwardParRate(0,schedule)\n",
    "        forwardAdjusted = ForwardParRateAdjusted(0,schedule,p,sigma)\n",
    "        msg = msg + '|' + str(round(forwardAdjusted*100,3))\n",
    "    print(msg)"
   ]
  },
  {
   "cell_type": "code",
   "execution_count": 130,
   "metadata": {},
   "outputs": [
    {
     "data": {
      "text/html": [
       "<div>\n",
       "<style scoped>\n",
       "    .dataframe tbody tr th:only-of-type {\n",
       "        vertical-align: middle;\n",
       "    }\n",
       "\n",
       "    .dataframe tbody tr th {\n",
       "        vertical-align: top;\n",
       "    }\n",
       "\n",
       "    .dataframe thead th {\n",
       "        text-align: right;\n",
       "    }\n",
       "</style>\n",
       "<table border=\"1\" class=\"dataframe\">\n",
       "  <thead>\n",
       "    <tr style=\"text-align: right;\">\n",
       "      <th></th>\n",
       "      <th>CMS5/sigma=.2</th>\n",
       "    </tr>\n",
       "  </thead>\n",
       "  <tbody>\n",
       "    <tr>\n",
       "      <th>0</th>\n",
       "      <td>[1, 2, 3, 4, 5, 6]</td>\n",
       "    </tr>\n",
       "    <tr>\n",
       "      <th>1</th>\n",
       "      <td>[2, 3, 4, 5, 6, 7]</td>\n",
       "    </tr>\n",
       "    <tr>\n",
       "      <th>2</th>\n",
       "      <td>[3, 4, 5, 6, 7, 8]</td>\n",
       "    </tr>\n",
       "    <tr>\n",
       "      <th>3</th>\n",
       "      <td>[4, 5, 6, 7, 8, 9]</td>\n",
       "    </tr>\n",
       "    <tr>\n",
       "      <th>4</th>\n",
       "      <td>[5, 6, 7, 8, 9, 10]</td>\n",
       "    </tr>\n",
       "    <tr>\n",
       "      <th>5</th>\n",
       "      <td>[6, 7, 8, 9, 10, 11]</td>\n",
       "    </tr>\n",
       "    <tr>\n",
       "      <th>6</th>\n",
       "      <td>[7, 8, 9, 10, 11, 12]</td>\n",
       "    </tr>\n",
       "    <tr>\n",
       "      <th>7</th>\n",
       "      <td>[8, 9, 10, 11, 12, 13]</td>\n",
       "    </tr>\n",
       "    <tr>\n",
       "      <th>8</th>\n",
       "      <td>[9, 10, 11, 12, 13, 14]</td>\n",
       "    </tr>\n",
       "    <tr>\n",
       "      <th>9</th>\n",
       "      <td>[10, 11, 12, 13, 14, 15]</td>\n",
       "    </tr>\n",
       "  </tbody>\n",
       "</table>\n",
       "</div>"
      ],
      "text/plain": [
       "              CMS5/sigma=.2\n",
       "0        [1, 2, 3, 4, 5, 6]\n",
       "1        [2, 3, 4, 5, 6, 7]\n",
       "2        [3, 4, 5, 6, 7, 8]\n",
       "3        [4, 5, 6, 7, 8, 9]\n",
       "4       [5, 6, 7, 8, 9, 10]\n",
       "5      [6, 7, 8, 9, 10, 11]\n",
       "6     [7, 8, 9, 10, 11, 12]\n",
       "7    [8, 9, 10, 11, 12, 13]\n",
       "8   [9, 10, 11, 12, 13, 14]\n",
       "9  [10, 11, 12, 13, 14, 15]"
      ]
     },
     "execution_count": 130,
     "metadata": {},
     "output_type": "execute_result"
    }
   ],
   "source": [
    "df = pd.DataFrame(\n",
    "    {\"CMS5/sigma=.2\": [np.arange(cmsTenor, cmsTenor + 5+ SwapFrequency,SwapFrequency) for cmsTenor in [1,2,3,4,5,6,7,8,9,10]]})\n",
    "df\n",
    "#df[[\"CMS5/sigma=.2\"]].apply(lambda schedule: schedule[0], axis=1)\n"
   ]
  },
  {
   "cell_type": "code",
   "execution_count": null,
   "metadata": {},
   "outputs": [],
   "source": []
  },
  {
   "cell_type": "code",
   "execution_count": null,
   "metadata": {},
   "outputs": [],
   "source": [
    "\n",
    "\n"
   ]
  },
  {
   "cell_type": "code",
   "execution_count": 131,
   "metadata": {},
   "outputs": [],
   "source": [
    "\n",
    "swaprateFixing = np.array([1,2,3,4,5,6,7,8,9,10]) \n",
    "swapTenor5 = [ForwardParRateAdjusted(0,np.arange(cmsTenor, cmsTenor + 5 + SwapFrequency,SwapFrequency),p,sigma) for  cmsTenor in [1,2,3,4,5,6,7,8,9,10] ]\n",
    "swapTenor10 = [ForwardParRateAdjusted(0,np.arange(cmsTenor, cmsTenor + 10 + SwapFrequency,SwapFrequency),p,sigma) for  cmsTenor in [1,2,3,4,5,6,7,8,9,10] ]\n",
    "swapTenor20 = [ForwardParRateAdjusted(0,np.arange(cmsTenor, cmsTenor + 20 + SwapFrequency,SwapFrequency),p,sigma) for  cmsTenor in [1,2,3,4,5,6,7,8,9,10] ]\n",
    "\n",
    "dict = { \"t_0\": swaprateFixing,\"t_Cf\": swaprateFixing + p, \"CMS5Y\" : swapTenor5,\"CMS10Y\" :swapTenor10, \"CMS20Y\" : swapTenor20 }\n",
    "df = pd.DataFrame(dict)"
   ]
  },
  {
   "cell_type": "code",
   "execution_count": 132,
   "metadata": {},
   "outputs": [
    {
     "data": {
      "image/png": "[encoded data removed]",
      "text/plain": [
       "<Figure size 432x288 with 1 Axes>"
      ]
     },
     "metadata": {
      "needs_background": "light"
     },
     "output_type": "display_data"
    }
   ],
   "source": [
    "xrange = np.arange(0,30,1)\n",
    "\n",
    "plt.plot(df[\"t_0\"],df[\"CMS5Y\"],label=\"sigma=0.2\")\n",
    "plt.plot(df[\"t_0\"],df[\"CMS10Y\"],label=\"sigma=0.2\")\n",
    "plt.plot(df[\"t_0\"],df[\"CMS20Y\"],label=\"sigma=0.2\")\n",
    "plt.show()\n"
   ]
  },
  {
   "cell_type": "markdown",
   "metadata": {},
   "source": [
    "## Approx. Distribution  of $C(T_0;T_0,...,T_n)$ under $Q_{p}$\n",
    "\n",
    "\n",
    "$Q_{p}(C(T_0;T_0,...,T_n) \\in A |\\mathcal{F_t}) = E^{Q_{p}}(1_{[C(T_0;T_0,...,T_n) \\in A]} |\\mathcal{F_t}) $\n",
    "\n",
    "$ = E^{Q_{swap}}(\\frac{M(T_0)}{M(t)} \\cdot 1_{[C(T_0;T_0,...,T_n) \\in A]} |\\mathcal{F_t})$ where $M(t) = M(t,T_0,T_n)=\\left. \\frac{dQ_{Swap}}{dQ_p}\\right|_{t} = \\frac{P(t,p)}{PV01(t,T_0,T_n)} \\approx \\alpha + \\beta_p C(t,T_0,T_n)$\n",
    "\n",
    "$= \\frac{PV01(t,T_0,T_n)}{P(t,p)} E^{Q_{swap}}(\\frac{P(T_0,p)}{PV01(T_0,T_0,T_n)}  \\cdot 1_{[C(T_0;T_0,...,T_n) \\in A]} |\\mathcal{F_t})$\n",
    "\n",
    "$= \\frac{PV01(t,T_0,T_n)}{P(t,p)} E^{Q_{swap}}(\\alpha + \\beta_p C(T_0,T_0,T_n) 1_{[C(T_0;T_0,...,T_n) \\in A]} |\\mathcal{F_t})$\n",
    "\n",
    "\n",
    "\n",
    "$= \\frac{PV01(t,T_0,T_n)}{P(t,p)} \\int \\alpha + \\beta_p C(T_0,T_0,T_n) \\cdot Q^{swap}[C(T_0,T_0,T_n) \\in ds] $\n",
    "\n",
    "\n",
    "$= \\frac{PV01(t,T_0,T_n)}{P(t,p)} \\int \\alpha + \\beta_p s \\cdot p^{Q^{swap}}(s) ds$\n",
    "\n",
    "\n",
    "\n"
   ]
  },
  {
   "cell_type": "markdown",
   "metadata": {},
   "source": [
    "\n",
    "\n",
    "\n",
    "\n",
    "\n",
    "\n",
    "\n"
   ]
  },
  {
   "cell_type": "code",
   "execution_count": 147,
   "metadata": {},
   "outputs": [
    {
     "data": {
      "text/plain": [
       "<matplotlib.legend.Legend at 0x1af8be538b0>"
      ]
     },
     "execution_count": 147,
     "metadata": {},
     "output_type": "execute_result"
    },
    {
     "data": {
      "image/png": "[encoded data removed]",
      "text/plain": [
       "<Figure size 432x288 with 1 Axes>"
      ]
     },
     "metadata": {
      "needs_background": "light"
     },
     "output_type": "display_data"
    }
   ],
   "source": [
    "schedule= np.arange(cmsTenor, cmsTenor + swapTenor+ SwapFrequency,SwapFrequency)\n",
    "\n",
    "S_0 = ForwardParRate(0,schedule)\n",
    "\n",
    "def S(t,sigma):   \n",
    "    mu = math.log(S_0) - sigma*sigma*t/2\n",
    "    sigma = sigma*sigma*t\n",
    "    l = lognorm(s=sigma, loc=0, scale=math.exp(mu))\n",
    "    return l\n",
    "   \n",
    "T0=schedule[0]\n",
    "\n",
    "xs=np.arange(0,0.1,0.001)\n",
    "plt.plot(xs, [S(T0,sigma).pdf(s) for s in xs],label=\"Q_p\")\n",
    "\n",
    "factor = 1/(alpha(schedule) + beta(0,T0, schedule,p)* S_0)\n",
    "plt.plot(xs, [factor*S(T,sigma).pdf(s)*(alpha(schedule) + beta(T0,T0, schedule,p)*s) for s in xs],label=\"Qadj\")\n",
    "plt.legend()\n",
    "\n"
   ]
  },
  {
   "cell_type": "code",
   "execution_count": 146,
   "metadata": {},
   "outputs": [
    {
     "data": {
      "text/plain": [
       "(1.0000000000000002, 3.5061994680614456e-10)"
      ]
     },
     "execution_count": 146,
     "metadata": {},
     "output_type": "execute_result"
    }
   ],
   "source": [
    "\n",
    "\n",
    "integrate.quad(S(T0,sigma).pdf, 0, T)"
   ]
  },
  {
   "cell_type": "code",
   "execution_count": null,
   "metadata": {},
   "outputs": [],
   "source": []
  },
  {
   "cell_type": "markdown",
   "metadata": {},
   "source": [
    "## Exact. Distribution  of $C(T_0;T_0,...,T_n)$ under $Q_{p}$"
   ]
  },
  {
   "cell_type": "code",
   "execution_count": null,
   "metadata": {},
   "outputs": [],
   "source": []
  },
  {
   "cell_type": "code",
   "execution_count": null,
   "metadata": {},
   "outputs": [],
   "source": []
  },
  {
   "cell_type": "markdown",
   "metadata": {},
   "source": [
    "### Calculate the RN-derivative by orthogonal projection\n",
    "\n",
    "$(\\frac{M(T_0,T_0,T_n)}{M(t,T_0,T_n)}-\\alpha_0(t,T_0,T_n) - \\alpha_1(t,T_0,T_n) C(T_0,T_0,T_n)) \\bot span\\{1,C(T_0,T_0,T_n)\\}$\n",
    "\n",
    "\n",
    "\n",
    "$\\left(\\begin{matrix} 0\\\\0 \\end{matrix}\\right) =E^{Q_{Swap}}(\\left(\\begin{matrix}1 & 0\\\\0 &C(T_0,T_0,T_n)\\end{matrix}\\right)\\left(\\begin{matrix} \\frac{M(T_0,T_0,T_n)}{M(t,T_0,T_n)}-\\alpha_0(t,T_0,T_n) - \\alpha_1(t,T_0,T_n) C(T_0,T_0,T_n)\\\\\\frac{M(T_0,T_0,T_n)}{M(t,T_0,T_n)}-\\alpha_0(t,T_0,T_n) - \\alpha_1(t,T_0,T_n) C(T_0,T_0,T_n) \\end{matrix}\\right)|\\mathcal{F_t})$\n",
    "\n",
    "$\\left(\\begin{matrix} 0\\\\0 \\end{matrix}\\right) =\\left(\\begin{matrix} E^{Q_{Swap}}(\\frac{M(T_0,T_0,T_n)}{M(t,T_0,T_n)}|\\mathcal{F_t})-\\alpha_0(t,T_0,T_n)- \\alpha_1(t,T_0,T_n)C(t,T_0,T_n)\\\\E^{Q_{Swap}}(\\frac{M(T_0,T_0,T_n)}{M(t,T_0,T_n)} C(T_0,T_0,T_n)|\\mathcal{F_t})- \\alpha_0(t,T_0,T_n) C(t,T_0,T_n) - \\alpha_1(t,T_0,T_n) E^{Q_{Swap}}( C(T_0,T_0,T_n)^2|\\mathcal{F_t}) \\end{matrix}\\right)$"
   ]
  },
  {
   "cell_type": "code",
   "execution_count": null,
   "metadata": {
    "collapsed": true
   },
   "outputs": [],
   "source": []
  },
  {
   "cell_type": "markdown",
   "metadata": {},
   "source": [
    "### Solve for $\\alpha_1,\\alpha_2$\n",
    "\n",
    "$\\left(\\begin{matrix} 1\\\\E^{Q_{Swap}}(\\frac{M(T_0,T_0,T_n)}{M(t,T_0,T_n)}C(T_0,T_0,T_n)|\\mathcal{F_t}) \\end{matrix}\\right) =\\left(\\begin{matrix} 1 & C(t,T_0,T_n)\\\\C(t,T_0,T_n) & E^{Q_{T_2}}(L(T_1,T_2)^2|\\mathcal{F_t}) \\end{matrix}\\right) \\left(\\begin{matrix} \\alpha_0(t,T_0,T_n)\\\\\\alpha_1(t,T_0,T_n) \\end{matrix}\\right)$\n",
    "\n",
    "$\\left(\\begin{matrix} \\alpha_0(t,T_0,T_n)\\\\\\alpha_1(t,T_0,T_n) \\end{matrix}\\right) = \\left(\\begin{matrix} 1 & C(t,T_0,T_n)\\\\C(t,T_0,T_n) & E^{Q_{T_2}}(C(T_0,T_0,T_n)^2|\\mathcal{F_t}) \\end{matrix}\\right)^{-1} \\left(\\begin{matrix} 1\\\\E^{Q_{Swap}}(\\frac{M(T_0,T_0,T_n)}{M(t,T_0,T_n)}C(T_0,T_0,T_n)|\\mathcal{F_t}) \\end{matrix}\\right)$\n",
    "\n",
    "$\\left(\\begin{matrix} \\alpha_0(t,T_0,T_n)\\\\\\alpha_1(t,T_0,T_n) \\end{matrix}\\right) =\\frac{1}{Var^{Q_{Swap}}(C(T_0,T_0,T_n)|\\mathcal{F_t})} \\left(\\begin{matrix} E^{Q_{T_2}}(C(T_0,T_0,T_n)^2|\\mathcal{F_t})  & - C(t,T_0,T_n)\\\\ - C(t,T_0,T_n) & 1\\end{matrix}\\right) \\left(\\begin{matrix} 1\\\\E^{Q_{Swap}}(\\frac{M(T_0,T_0,T_n)}{M(t,T_0,T_n)}C(T_0,T_0,T_n)|\\mathcal{F_t}) \\end{matrix}\\right)$\n",
    "\n"
   ]
  },
  {
   "cell_type": "markdown",
   "metadata": {},
   "source": [
    "\n"
   ]
  },
  {
   "cell_type": "markdown",
   "metadata": {},
   "source": []
  },
  {
   "cell_type": "markdown",
   "metadata": {
    "collapsed": true
   },
   "source": [
    "\n",
    "\n"
   ]
  },
  {
   "cell_type": "markdown",
   "metadata": {},
   "source": []
  },
  {
   "cell_type": "markdown",
   "metadata": {},
   "source": []
  },
  {
   "cell_type": "markdown",
   "metadata": {
    "collapsed": true
   },
   "source": [
    "\n",
    "\n",
    "\n"
   ]
  },
  {
   "cell_type": "markdown",
   "metadata": {},
   "source": []
  },
  {
   "cell_type": "markdown",
   "metadata": {},
   "source": []
  },
  {
   "cell_type": "code",
   "execution_count": null,
   "metadata": {},
   "outputs": [],
   "source": [
    "\n",
    "\n",
    "\n"
   ]
  },
  {
   "cell_type": "markdown",
   "metadata": {},
   "source": [
    "\n",
    "\n",
    "\n"
   ]
  },
  {
   "cell_type": "markdown",
   "metadata": {},
   "source": [
    "# Analytic"
   ]
  },
  {
   "cell_type": "code",
   "execution_count": null,
   "metadata": {
    "collapsed": true
   },
   "outputs": [],
   "source": []
  },
  {
   "cell_type": "markdown",
   "metadata": {},
   "source": []
  },
  {
   "cell_type": "code",
   "execution_count": null,
   "metadata": {},
   "outputs": [],
   "source": []
  },
  {
   "cell_type": "markdown",
   "metadata": {},
   "source": []
  },
  {
   "cell_type": "markdown",
   "metadata": {},
   "source": [
    "\n"
   ]
  },
  {
   "cell_type": "code",
   "execution_count": null,
   "metadata": {},
   "outputs": [],
   "source": []
  },
  {
   "cell_type": "code",
   "execution_count": null,
   "metadata": {},
   "outputs": [],
   "source": [
    "\n",
    "    "
   ]
  },
  {
   "cell_type": "code",
   "execution_count": null,
   "metadata": {
    "collapsed": true
   },
   "outputs": [],
   "source": []
  },
  {
   "cell_type": "markdown",
   "metadata": {},
   "source": [
    "\n"
   ]
  },
  {
   "cell_type": "code",
   "execution_count": 44,
   "metadata": {
    "collapsed": true
   },
   "outputs": [],
   "source": []
  },
  {
   "cell_type": "code",
   "execution_count": null,
   "metadata": {},
   "outputs": [],
   "source": [
    "\n",
    "\n"
   ]
  },
  {
   "cell_type": "code",
   "execution_count": null,
   "metadata": {},
   "outputs": [],
   "source": [
    "\n",
    "\n",
    "\n",
    "\n",
    "\n",
    "\n"
   ]
  },
  {
   "cell_type": "code",
   "execution_count": null,
   "metadata": {},
   "outputs": [],
   "source": [
    "\n"
   ]
  },
  {
   "cell_type": "code",
   "execution_count": null,
   "metadata": {},
   "outputs": [],
   "source": []
  },
  {
   "cell_type": "code",
   "execution_count": null,
   "metadata": {
    "collapsed": true
   },
   "outputs": [],
   "source": []
  }
 ],
 "metadata": {
  "kernelspec": {
   "display_name": "Python 3",
   "language": "python",
   "name": "python3"
  }
 },
 "nbformat": 4,
 "nbformat_minor": 1
}
