{
 "cells": [
  {
   "cell_type": "code",
   "execution_count": 5,
   "id": "eca550fe",
   "metadata": {},
   "outputs": [
    {
     "name": "stderr",
     "output_type": "stream",
     "text": [
      "ERROR!!! An error occurred while requesting URL('http://localhost:9000/api/status').\n",
      "     ReadTimeout('')\n",
      "ERROR!!! An error occurred while requesting URL('http://localhost:9000/api/status').\n",
      "     ReadTimeout('')\n",
      "ERROR!!! An error occurred while requesting URL('http://localhost:9060/api/status').\n",
      "     ConnectError('All connection attempts failed')\n",
      "Error: no proxy address identified.\n",
      "Check if Desktop is running.\n",
      "ERROR!!! An error occurred while requesting URL('http://localhost:9000/api/handshake').\n",
      "     RemoteProtocolError(\"illegal status line: bytearray(b'\\\\xff\\\\x00\\\\x00\\\\x00\\\\x00\\\\x00\\\\x00\\\\x00\\\\x01\\\\x7fe\\\\x01')\")\n"
     ]
    },
    {
     "name": "stdout",
     "output_type": "stream",
     "text": [
      "session opened and end-point set\n"
     ]
    }
   ],
   "source": [
    "import refinitiv.dataplatform as rdp\n",
    "session = rdp.DesktopSession(app_key='256eae2f881c499095090ac71dc96aa92cc6cb90')\n",
    "session.open()\n",
    "endpoint = rdp.Endpoint(session, \"https://api.refinitiv.com/data/quantitative-analytics-curves-and-surfaces/v1/surfaces\")\n",
    "print(\"session opened and end-point set\")"
   ]
  },
  {
   "cell_type": "code",
   "execution_count": 1,
   "id": "bb8f2e13",
   "metadata": {},
   "outputs": [],
   "source": [
    "import requests\n",
    "import json\n",
    "import pandas as pd\n",
    "import numpy as np"
   ]
  },
  {
   "cell_type": "code",
   "execution_count": 2,
   "id": "8b4c7531",
   "metadata": {},
   "outputs": [
    {
     "ename": "NameError",
     "evalue": "name 'endpoint' is not defined",
     "output_type": "error",
     "traceback": [
      "\u001b[1;31m---------------------------------------------------------------------------\u001b[0m",
      "\u001b[1;31mNameError\u001b[0m                                 Traceback (most recent call last)",
      "\u001b[1;32mc:\\Users\\fhoefer\\source\\repos\\fnotebooks\\Refinitiv\\CapFloor_Vola_Surface.ipynb Cell 3\u001b[0m line \u001b[0;36m2\n\u001b[0;32m      <a href='vscode-notebook-cell:/c%3A/Users/fhoefer/source/repos/fnotebooks/Refinitiv/CapFloor_Vola_Surface.ipynb#W2sZmlsZQ%3D%3D?line=0'>1</a>\u001b[0m request_body\u001b[39m=\u001b[39m{\n\u001b[0;32m      <a href='vscode-notebook-cell:/c%3A/Users/fhoefer/source/repos/fnotebooks/Refinitiv/CapFloor_Vola_Surface.ipynb#W2sZmlsZQ%3D%3D?line=1'>2</a>\u001b[0m     \u001b[39m\"\u001b[39m\u001b[39muniverse\u001b[39m\u001b[39m\"\u001b[39m: [\n\u001b[0;32m      <a href='vscode-notebook-cell:/c%3A/Users/fhoefer/source/repos/fnotebooks/Refinitiv/CapFloor_Vola_Surface.ipynb#W2sZmlsZQ%3D%3D?line=2'>3</a>\u001b[0m         {\n\u001b[1;32m   (...)\u001b[0m\n\u001b[0;32m     <a href='vscode-notebook-cell:/c%3A/Users/fhoefer/source/repos/fnotebooks/Refinitiv/CapFloor_Vola_Surface.ipynb#W2sZmlsZQ%3D%3D?line=23'>24</a>\u001b[0m         }],\n\u001b[0;32m     <a href='vscode-notebook-cell:/c%3A/Users/fhoefer/source/repos/fnotebooks/Refinitiv/CapFloor_Vola_Surface.ipynb#W2sZmlsZQ%3D%3D?line=24'>25</a>\u001b[0m }\n\u001b[1;32m---> <a href='vscode-notebook-cell:/c%3A/Users/fhoefer/source/repos/fnotebooks/Refinitiv/CapFloor_Vola_Surface.ipynb#W2sZmlsZQ%3D%3D?line=26'>27</a>\u001b[0m response \u001b[39m=\u001b[39m endpoint\u001b[39m.\u001b[39msend_request(\n\u001b[0;32m     <a href='vscode-notebook-cell:/c%3A/Users/fhoefer/source/repos/fnotebooks/Refinitiv/CapFloor_Vola_Surface.ipynb#W2sZmlsZQ%3D%3D?line=27'>28</a>\u001b[0m     method \u001b[39m=\u001b[39m rdp\u001b[39m.\u001b[39mEndpoint\u001b[39m.\u001b[39mRequestMethod\u001b[39m.\u001b[39mPOST,\n\u001b[0;32m     <a href='vscode-notebook-cell:/c%3A/Users/fhoefer/source/repos/fnotebooks/Refinitiv/CapFloor_Vola_Surface.ipynb#W2sZmlsZQ%3D%3D?line=28'>29</a>\u001b[0m     body_parameters \u001b[39m=\u001b[39m request_body\n\u001b[0;32m     <a href='vscode-notebook-cell:/c%3A/Users/fhoefer/source/repos/fnotebooks/Refinitiv/CapFloor_Vola_Surface.ipynb#W2sZmlsZQ%3D%3D?line=29'>30</a>\u001b[0m )\n\u001b[0;32m     <a href='vscode-notebook-cell:/c%3A/Users/fhoefer/source/repos/fnotebooks/Refinitiv/CapFloor_Vola_Surface.ipynb#W2sZmlsZQ%3D%3D?line=31'>32</a>\u001b[0m surface \u001b[39m=\u001b[39m np\u001b[39m.\u001b[39marray(response\u001b[39m.\u001b[39mdata\u001b[39m.\u001b[39mraw[\u001b[39m'\u001b[39m\u001b[39mdata\u001b[39m\u001b[39m'\u001b[39m][\u001b[39m0\u001b[39m][\u001b[39m'\u001b[39m\u001b[39msurface\u001b[39m\u001b[39m'\u001b[39m])\n\u001b[0;32m     <a href='vscode-notebook-cell:/c%3A/Users/fhoefer/source/repos/fnotebooks/Refinitiv/CapFloor_Vola_Surface.ipynb#W2sZmlsZQ%3D%3D?line=32'>33</a>\u001b[0m df \u001b[39m=\u001b[39m pd\u001b[39m.\u001b[39mDataFrame(data\u001b[39m=\u001b[39msurface[\u001b[39m1\u001b[39m:,\u001b[39m1\u001b[39m:], index\u001b[39m=\u001b[39msurface[\u001b[39m1\u001b[39m:,\u001b[39m0\u001b[39m], columns\u001b[39m=\u001b[39msurface[\u001b[39m0\u001b[39m,\u001b[39m1\u001b[39m:])\n",
      "\u001b[1;31mNameError\u001b[0m: name 'endpoint' is not defined"
     ]
    }
   ],
   "source": [
    "request_body={\n",
    "    \"universe\": [\n",
    "        {\n",
    "            \"surfaceTag\": \"EUR_Cap_Vola\",\n",
    "            \"underlyingType\": \"Cap\",\n",
    "            \"underlyingDefinition\": {\n",
    "                \"instrumentCode\": \"USD\",\n",
    "                \"referenceCapletTenor\": \"3M\"\n",
    "            },\n",
    "            \"surfaceParameters\": {\n",
    "                #\"timeStamp\":\"Default\",\n",
    "                #\"priceSide\":\"Mid\",\n",
    "                #\"volatilityModel\": \"SSVI\",\n",
    "                \"xAxis\": \"Strike\",\n",
    "                \"yAxis\": \"Tenor\",\n",
    "                \"calculationDate\":\"2022-03-31\",\n",
    "                #\"inputVolatilityType\": \"LogNormalVolatility\",\n",
    "            },\n",
    "            \"surfaceLayout\": {\n",
    "                \"format\": \"Matrix\",\n",
    "                #\"yValues\": [\"1Y\", \"2Y\", \"3Y\", \"4Y\", \"5Y\", \"6Y\", \"7Y\", \"8Y\", \"9Y\", \"10Y\", \"12Y\", \"15Y\", \"20Y\", \"25Y\", \"30Y\"],\n",
    "                #\"xValues\": [\"-1\", \"0\", \"1\", \"1.5\", \"2\", \"2.5\", \"3\"],\n",
    "            }\n",
    "        }],\n",
    "}\n",
    "\n",
    "response = endpoint.send_request(\n",
    "    method = rdp.Endpoint.RequestMethod.POST,\n",
    "    body_parameters = request_body\n",
    ")\n",
    "\n",
    "surface = np.array(response.data.raw['data'][0]['surface'])\n",
    "df = pd.DataFrame(data=surface[1:,1:], index=surface[1:,0], columns=surface[0,1:])\n",
    "display(df)"
   ]
  },
  {
   "cell_type": "code",
   "execution_count": 3,
   "id": "a18f3fbe",
   "metadata": {},
   "outputs": [
    {
     "ename": "NameError",
     "evalue": "name 'response' is not defined",
     "output_type": "error",
     "traceback": [
      "\u001b[1;31m---------------------------------------------------------------------------\u001b[0m",
      "\u001b[1;31mNameError\u001b[0m                                 Traceback (most recent call last)",
      "\u001b[1;32mc:\\Users\\fhoefer\\source\\repos\\fnotebooks\\Refinitiv\\CapFloor_Vola_Surface.ipynb Cell 4\u001b[0m line \u001b[0;36m1\n\u001b[1;32m----> <a href='vscode-notebook-cell:/c%3A/Users/fhoefer/source/repos/fnotebooks/Refinitiv/CapFloor_Vola_Surface.ipynb#W3sZmlsZQ%3D%3D?line=0'>1</a>\u001b[0m response\u001b[39m.\u001b[39mdata\u001b[39m.\u001b[39mraw\n",
      "\u001b[1;31mNameError\u001b[0m: name 'response' is not defined"
     ]
    }
   ],
   "source": [
    "response.data.raw"
   ]
  },
  {
   "cell_type": "code",
   "execution_count": null,
   "id": "8e7af448",
   "metadata": {},
   "outputs": [],
   "source": []
  }
 ],
 "metadata": {
  "kernelspec": {
   "display_name": "Python 3 (ipykernel)",
   "language": "python",
   "name": "python3"
  },
  "language_info": {
   "codemirror_mode": {
    "name": "ipython",
    "version": 3
   },
   "file_extension": ".py",
   "mimetype": "text/x-python",
   "name": "python",
   "nbconvert_exporter": "python",
   "pygments_lexer": "ipython3",
   "version": "3.11.4"
  },
  "widgets": {
   "application/vnd.jupyter.widget-state+json": {
    "state": {},
    "version_major": 2,
    "version_minor": 0
   }
  }
 },
 "nbformat": 4,
 "nbformat_minor": 5
}
