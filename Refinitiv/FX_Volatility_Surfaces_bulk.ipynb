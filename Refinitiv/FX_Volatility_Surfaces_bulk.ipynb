{
 "cells": [
  {
   "cell_type": "code",
   "execution_count": 4,
   "id": "d3e6716b",
   "metadata": {},
   "outputs": [
    {
     "name": "stderr",
     "output_type": "stream",
     "text": [
      "ERROR!!! An error occurred while requesting URL('http://localhost:9000/api/status').\n",
      "     ReadTimeout('')\n",
      "ERROR!!! An error occurred while requesting URL('http://localhost:9000/api/status').\n",
      "     ReadTimeout('')\n",
      "ERROR!!! An error occurred while requesting URL('http://localhost:9060/api/status').\n",
      "     ConnectError('All connection attempts failed')\n",
      "Error: no proxy address identified.\n",
      "Check if Desktop is running.\n",
      "ERROR!!! An error occurred while requesting URL('http://localhost:9000/api/handshake').\n",
      "     RemoteProtocolError(\"illegal status line: bytearray(b'\\\\xff\\\\x00\\\\x00\\\\x00\\\\x00\\\\x00\\\\x00\\\\x00\\\\x01\\\\x7fe\\\\x01')\")\n"
     ]
    },
    {
     "data": {
      "text/plain": [
       "<State.Closed: 1>"
      ]
     },
     "execution_count": 4,
     "metadata": {},
     "output_type": "execute_result"
    }
   ],
   "source": [
    "import requests\n",
    "import json\n",
    "import pandas as pd\n",
    "import numpy as np\n",
    "import datetime as dt\n",
    "import refinitiv.dataplatform as rdp\n",
    "session = rdp.DesktopSession(app_key='256eae2f881c499095090ac71dc96aa92cc6cb90')\n",
    "session.open()\n",
    "#endpoint = rdp.Endpoint(session, \"https://api.refinitiv.com/data/quantitative-analytics-curves-and-surfaces/v1/surfaces\")\n",
    "#print(\"session opened and end-point set\")"
   ]
  },
  {
   "cell_type": "code",
   "execution_count": 2,
   "id": "662529f6",
   "metadata": {},
   "outputs": [
    {
     "ename": "EndpointError",
     "evalue": "Error code -1 | Session is not opened. Can't send any request",
     "output_type": "error",
     "traceback": [
      "\u001b[1;31m---------------------------------------------------------------------------\u001b[0m",
      "\u001b[1;31mEndpointError\u001b[0m                             Traceback (most recent call last)",
      "\u001b[1;32mc:\\Users\\fhoefer\\source\\repos\\fnotebooks\\Refinitiv\\FX_Volatility_Surfaces_bulk.ipynb Cell 2\u001b[0m line \u001b[0;36m3\n\u001b[0;32m      <a href='vscode-notebook-cell:/c%3A/Users/fhoefer/source/repos/fnotebooks/Refinitiv/FX_Volatility_Surfaces_bulk.ipynb#W1sZmlsZQ%3D%3D?line=5'>6</a>\u001b[0m \u001b[39mfor\u001b[39;00m pair \u001b[39min\u001b[39;00m pairs:\n\u001b[0;32m      <a href='vscode-notebook-cell:/c%3A/Users/fhoefer/source/repos/fnotebooks/Refinitiv/FX_Volatility_Surfaces_bulk.ipynb#W1sZmlsZQ%3D%3D?line=6'>7</a>\u001b[0m     request_body\u001b[39m=\u001b[39m{\n\u001b[0;32m      <a href='vscode-notebook-cell:/c%3A/Users/fhoefer/source/repos/fnotebooks/Refinitiv/FX_Volatility_Surfaces_bulk.ipynb#W1sZmlsZQ%3D%3D?line=7'>8</a>\u001b[0m         \u001b[39m\"\u001b[39m\u001b[39muniverse\u001b[39m\u001b[39m\"\u001b[39m: [\n\u001b[0;32m      <a href='vscode-notebook-cell:/c%3A/Users/fhoefer/source/repos/fnotebooks/Refinitiv/FX_Volatility_Surfaces_bulk.ipynb#W1sZmlsZQ%3D%3D?line=8'>9</a>\u001b[0m             {\n\u001b[1;32m   (...)\u001b[0m\n\u001b[0;32m     <a href='vscode-notebook-cell:/c%3A/Users/fhoefer/source/repos/fnotebooks/Refinitiv/FX_Volatility_Surfaces_bulk.ipynb#W1sZmlsZQ%3D%3D?line=26'>27</a>\u001b[0m         \u001b[39m\"\u001b[39m\u001b[39moutputs\u001b[39m\u001b[39m\"\u001b[39m:[\u001b[39m\"\u001b[39m\u001b[39mData\u001b[39m\u001b[39m\"\u001b[39m]\n\u001b[0;32m     <a href='vscode-notebook-cell:/c%3A/Users/fhoefer/source/repos/fnotebooks/Refinitiv/FX_Volatility_Surfaces_bulk.ipynb#W1sZmlsZQ%3D%3D?line=27'>28</a>\u001b[0m     }\n\u001b[1;32m---> <a href='vscode-notebook-cell:/c%3A/Users/fhoefer/source/repos/fnotebooks/Refinitiv/FX_Volatility_Surfaces_bulk.ipynb#W1sZmlsZQ%3D%3D?line=29'>30</a>\u001b[0m     response \u001b[39m=\u001b[39m endpoint\u001b[39m.\u001b[39;49msend_request(\n\u001b[0;32m     <a href='vscode-notebook-cell:/c%3A/Users/fhoefer/source/repos/fnotebooks/Refinitiv/FX_Volatility_Surfaces_bulk.ipynb#W1sZmlsZQ%3D%3D?line=30'>31</a>\u001b[0m         method \u001b[39m=\u001b[39;49m rdp\u001b[39m.\u001b[39;49mEndpoint\u001b[39m.\u001b[39;49mRequestMethod\u001b[39m.\u001b[39;49mPOST,\n\u001b[0;32m     <a href='vscode-notebook-cell:/c%3A/Users/fhoefer/source/repos/fnotebooks/Refinitiv/FX_Volatility_Surfaces_bulk.ipynb#W1sZmlsZQ%3D%3D?line=31'>32</a>\u001b[0m         body_parameters \u001b[39m=\u001b[39;49m request_body\n\u001b[0;32m     <a href='vscode-notebook-cell:/c%3A/Users/fhoefer/source/repos/fnotebooks/Refinitiv/FX_Volatility_Surfaces_bulk.ipynb#W1sZmlsZQ%3D%3D?line=32'>33</a>\u001b[0m     )\n\u001b[0;32m     <a href='vscode-notebook-cell:/c%3A/Users/fhoefer/source/repos/fnotebooks/Refinitiv/FX_Volatility_Surfaces_bulk.ipynb#W1sZmlsZQ%3D%3D?line=34'>35</a>\u001b[0m     \u001b[39mtry\u001b[39;00m:\n\u001b[0;32m     <a href='vscode-notebook-cell:/c%3A/Users/fhoefer/source/repos/fnotebooks/Refinitiv/FX_Volatility_Surfaces_bulk.ipynb#W1sZmlsZQ%3D%3D?line=35'>36</a>\u001b[0m         surface \u001b[39m=\u001b[39m np\u001b[39m.\u001b[39marray(response\u001b[39m.\u001b[39mdata\u001b[39m.\u001b[39mraw[\u001b[39m'\u001b[39m\u001b[39mdata\u001b[39m\u001b[39m'\u001b[39m][\u001b[39m0\u001b[39m][\u001b[39m'\u001b[39m\u001b[39msurface\u001b[39m\u001b[39m'\u001b[39m])\n",
      "File \u001b[1;32mc:\\Users\\fhoefer\\source\\repos\\fnotebooks\\venv\\Lib\\site-packages\\refinitiv\\dataplatform\\delivery\\data\\endpoint.py:586\u001b[0m, in \u001b[0;36mEndpoint.send_request\u001b[1;34m(self, method, header_parameters, path_parameters, query_parameters, body_parameters, closure)\u001b[0m\n\u001b[0;32m    579\u001b[0m \u001b[39m\u001b[39m\u001b[39m\"\"\"\u001b[39;00m\n\u001b[0;32m    580\u001b[0m \u001b[39mSend the request with parameters synchronously to this endpoint.\u001b[39;00m\n\u001b[0;32m    581\u001b[0m \u001b[39m\"\"\"\u001b[39;00m\n\u001b[0;32m    582\u001b[0m \u001b[39mself\u001b[39m\u001b[39m.\u001b[39m_params\u001b[39m.\u001b[39msession\u001b[39m.\u001b[39mlog(\n\u001b[0;32m    583\u001b[0m     logging\u001b[39m.\u001b[39mDEBUG, \u001b[39m\"\u001b[39m\u001b[39mSend synchronously request to Endpoint \u001b[39m\u001b[39m{}\u001b[39;00m\u001b[39m\"\u001b[39m\n\u001b[0;32m    584\u001b[0m )\n\u001b[1;32m--> 586\u001b[0m _response \u001b[39m=\u001b[39m \u001b[39mself\u001b[39;49m\u001b[39m.\u001b[39;49m_params\u001b[39m.\u001b[39;49msession\u001b[39m.\u001b[39;49m_loop\u001b[39m.\u001b[39;49mrun_until_complete(\n\u001b[0;32m    587\u001b[0m     \u001b[39mself\u001b[39;49m\u001b[39m.\u001b[39;49msend_request_async(\n\u001b[0;32m    588\u001b[0m         method,\n\u001b[0;32m    589\u001b[0m         header_parameters,\n\u001b[0;32m    590\u001b[0m         path_parameters,\n\u001b[0;32m    591\u001b[0m         query_parameters,\n\u001b[0;32m    592\u001b[0m         body_parameters,\n\u001b[0;32m    593\u001b[0m         closure,\n\u001b[0;32m    594\u001b[0m     )\n\u001b[0;32m    595\u001b[0m )\n\u001b[0;32m    597\u001b[0m \u001b[39mreturn\u001b[39;00m _response\n",
      "File \u001b[1;32mc:\\Users\\fhoefer\\source\\repos\\fnotebooks\\venv\\Lib\\site-packages\\nest_asyncio.py:99\u001b[0m, in \u001b[0;36m_patch_loop.<locals>.run_until_complete\u001b[1;34m(self, future)\u001b[0m\n\u001b[0;32m     96\u001b[0m \u001b[39mif\u001b[39;00m \u001b[39mnot\u001b[39;00m f\u001b[39m.\u001b[39mdone():\n\u001b[0;32m     97\u001b[0m     \u001b[39mraise\u001b[39;00m \u001b[39mRuntimeError\u001b[39;00m(\n\u001b[0;32m     98\u001b[0m         \u001b[39m'\u001b[39m\u001b[39mEvent loop stopped before Future completed.\u001b[39m\u001b[39m'\u001b[39m)\n\u001b[1;32m---> 99\u001b[0m \u001b[39mreturn\u001b[39;00m f\u001b[39m.\u001b[39;49mresult()\n",
      "File \u001b[1;32m~\\AppData\\Local\\anaconda3\\Lib\\asyncio\\futures.py:203\u001b[0m, in \u001b[0;36mFuture.result\u001b[1;34m(self)\u001b[0m\n\u001b[0;32m    201\u001b[0m \u001b[39mself\u001b[39m\u001b[39m.\u001b[39m__log_traceback \u001b[39m=\u001b[39m \u001b[39mFalse\u001b[39;00m\n\u001b[0;32m    202\u001b[0m \u001b[39mif\u001b[39;00m \u001b[39mself\u001b[39m\u001b[39m.\u001b[39m_exception \u001b[39mis\u001b[39;00m \u001b[39mnot\u001b[39;00m \u001b[39mNone\u001b[39;00m:\n\u001b[1;32m--> 203\u001b[0m     \u001b[39mraise\u001b[39;00m \u001b[39mself\u001b[39m\u001b[39m.\u001b[39m_exception\u001b[39m.\u001b[39mwith_traceback(\u001b[39mself\u001b[39m\u001b[39m.\u001b[39m_exception_tb)\n\u001b[0;32m    204\u001b[0m \u001b[39mreturn\u001b[39;00m \u001b[39mself\u001b[39m\u001b[39m.\u001b[39m_result\n",
      "File \u001b[1;32m~\\AppData\\Local\\anaconda3\\Lib\\asyncio\\tasks.py:267\u001b[0m, in \u001b[0;36mTask.__step\u001b[1;34m(***failed resolving arguments***)\u001b[0m\n\u001b[0;32m    263\u001b[0m \u001b[39mtry\u001b[39;00m:\n\u001b[0;32m    264\u001b[0m     \u001b[39mif\u001b[39;00m exc \u001b[39mis\u001b[39;00m \u001b[39mNone\u001b[39;00m:\n\u001b[0;32m    265\u001b[0m         \u001b[39m# We use the `send` method directly, because coroutines\u001b[39;00m\n\u001b[0;32m    266\u001b[0m         \u001b[39m# don't have `__iter__` and `__next__` methods.\u001b[39;00m\n\u001b[1;32m--> 267\u001b[0m         result \u001b[39m=\u001b[39m coro\u001b[39m.\u001b[39msend(\u001b[39mNone\u001b[39;00m)\n\u001b[0;32m    268\u001b[0m     \u001b[39melse\u001b[39;00m:\n\u001b[0;32m    269\u001b[0m         result \u001b[39m=\u001b[39m coro\u001b[39m.\u001b[39mthrow(exc)\n",
      "File \u001b[1;32mc:\\Users\\fhoefer\\source\\repos\\fnotebooks\\venv\\Lib\\site-packages\\refinitiv\\dataplatform\\delivery\\data\\endpoint.py:551\u001b[0m, in \u001b[0;36mEndpoint.send_request_async\u001b[1;34m(self, method, header_parameters, path_parameters, query_parameters, body_parameters, closure)\u001b[0m\n\u001b[0;32m    548\u001b[0m     \u001b[39mself\u001b[39m\u001b[39m.\u001b[39mon_response(_result)\n\u001b[0;32m    549\u001b[0m     \u001b[39mreturn\u001b[39;00m _result\n\u001b[1;32m--> 551\u001b[0m \u001b[39mraise\u001b[39;00m EndpointError(\u001b[39m-\u001b[39m\u001b[39m1\u001b[39m, \u001b[39m\"\u001b[39m\u001b[39mSession is not opened. Can\u001b[39m\u001b[39m'\u001b[39m\u001b[39mt send any request\u001b[39m\u001b[39m\"\u001b[39m)\n",
      "\u001b[1;31mEndpointError\u001b[0m: Error code -1 | Session is not opened. Can't send any request"
     ]
    }
   ],
   "source": [
    "pairs = [\"EURUSD\", \"GBPUSD\", \"GBPEUR\", \"EURJPY\", \"EURCHF\", \"EURCAD\", \"EURAUD\", \"USDJPY\", \"USDCHF\", \"USDAUD\", \"USDCAD\",\n",
    "         \"EURRUB\", \"EURNOK\", \"EURTRY\", \"CNYKRW\", \"CNYEUR\", \"MXNUSD\", \"TNDEUR\", \"EURPLN\", \"EGPEUR\", \"RONEUR\", \"MXNEUR\",\n",
    "         \"EURHUF\", \"EURCZK\"]\n",
    "valDate = dt.date(2022, 12, 31)\n",
    "\n",
    "for pair in pairs:\n",
    "    request_body={\n",
    "        \"universe\": [\n",
    "            {\n",
    "                \"surfaceTag\": pair,\n",
    "                \"underlyingType\": \"Fx\",\n",
    "                \"underlyingDefinition\": {\n",
    "                    \"fxCrossCode\": pair\n",
    "                },\n",
    "                \"surfaceParameters\": {\n",
    "                    \"xAxis\": \"Tenor\",\n",
    "                    \"yAxis\": \"Delta\",\n",
    "                    \"valuationDate\": valDate.strftime(\"%Y-%m-%d\")\n",
    "                },\n",
    "                \"surfaceLayout\": {\n",
    "                    \"format\": \"Matrix\",\n",
    "                    #\"yValues\": [\"0.4\"], # dummy value because it is impossible to just request ATM\n",
    "                    #\"xvalues\": [\"ON\", \"SW\", \"2W\", \"1M\", \"2M\", \"3M\", \"6M\", \"9M\", \"1Y\", \"2Y\", \"3Y\", \"4Y\", \"5Y\", \"6Y\", \"7Y\", \"8Y\", \"9Y\", \"10Y\", \"15Y\", \"20Y\", \"30Y\"]\n",
    "                }\n",
    "            }],\n",
    "\n",
    "        \"outputs\":[\"Data\"]\n",
    "    }\n",
    "\n",
    "    response = endpoint.send_request(\n",
    "        method = rdp.Endpoint.RequestMethod.POST,\n",
    "        body_parameters = request_body\n",
    "    )\n",
    "\n",
    "    try:\n",
    "        surface = np.array(response.data.raw['data'][0]['surface'])\n",
    "        df = pd.DataFrame(data=surface[1:,1:], index=surface[1:,0], columns=surface[0,1:])\n",
    "        df.to_excel(\"Fx_Vola_\" + pair + \"_\" + valDate.strftime(\"%Y-%m-%d\") + \".xlsx\")\n",
    "    except:\n",
    "        print(response.data.raw['data'][0])\n"
   ]
  },
  {
   "cell_type": "code",
   "execution_count": 6,
   "id": "7c4cd6ac-b2c7-440e-b247-7955ca56aba2",
   "metadata": {},
   "outputs": [
    {
     "data": {
      "text/plain": [
       "{'code': 401,\n",
       " 'message': 'DEFAULT_CODE_BOOK_APP_KEY cannot be used outside CodeBook. Please use a valid App Key instead.',\n",
       " 'stack': 'Error: DEFAULT_CODE_BOOK_APP_KEY cannot be used outside CodeBook. Please use a valid App Key instead.\\n    at UdfApplicationKeyValidator.<anonymous> (C:\\\\Program Files\\\\Refinitiv\\\\Refinitiv Workspace\\\\1.15.387\\\\resources\\\\app.asar\\\\node_modules\\\\data-platform-client\\\\build\\\\services\\\\udf-application-key-validator.js:32:31)\\n    at Generator.next (<anonymous>)\\n    at C:\\\\Program Files\\\\Refinitiv\\\\Refinitiv Workspace\\\\1.15.387\\\\resources\\\\app.asar\\\\node_modules\\\\data-platform-client\\\\build\\\\services\\\\udf-application-key-validator.js:8:71\\n    at new Promise (<anonymous>)\\n    at __awaiter (C:\\\\Program Files\\\\Refinitiv\\\\Refinitiv Workspace\\\\1.15.387\\\\resources\\\\app.asar\\\\node_modules\\\\data-platform-client\\\\build\\\\services\\\\udf-application-key-validator.js:4:12)\\n    at UdfApplicationKeyValidator.isAppKeyValid (C:\\\\Program Files\\\\Refinitiv\\\\Refinitiv Workspace\\\\1.15.387\\\\resources\\\\app.asar\\\\node_modules\\\\data-platform-client\\\\build\\\\services\\\\udf-application-key-validator.js:25:16)\\n    at UdfApplicationKeyValidatorCachedDecorator.<anonymous> (C:\\\\Program Files\\\\Refinitiv\\\\Refinitiv Workspace\\\\1.15.387\\\\resources\\\\app.asar\\\\node_modules\\\\eikon-api-proxy-core\\\\scripting-proxy-core\\\\services\\\\udf-application-key-validator-cached-decorator.js:41:59)\\n    at Generator.next (<anonymous>)\\n    at fulfilled (C:\\\\Program Files\\\\Refinitiv\\\\Refinitiv Workspace\\\\1.15.387\\\\resources\\\\app.asar\\\\node_modules\\\\eikon-api-proxy-core\\\\scripting-proxy-core\\\\services\\\\udf-application-key-validator-cached-decorator.js:11:58)\\n    at runMicrotasks (<anonymous>)',\n",
       " 'statusMessage': 'Unauthorized'}"
      ]
     },
     "execution_count": 6,
     "metadata": {},
     "output_type": "execute_result"
    }
   ],
   "source": [
    "response.data.raw"
   ]
  },
  {
   "cell_type": "code",
   "execution_count": null,
   "id": "5c0f2f1c-8925-4f35-ae77-494ba5763eb4",
   "metadata": {},
   "outputs": [],
   "source": []
  }
 ],
 "metadata": {
  "kernelspec": {
   "display_name": "Python 3 (ipykernel)",
   "language": "python",
   "name": "python3"
  },
  "language_info": {
   "codemirror_mode": {
    "name": "ipython",
    "version": 3
   },
   "file_extension": ".py",
   "mimetype": "text/x-python",
   "name": "python",
   "nbconvert_exporter": "python",
   "pygments_lexer": "ipython3",
   "version": "3.11.4"
  },
  "widgets": {
   "application/vnd.jupyter.widget-state+json": {
    "state": {},
    "version_major": 2,
    "version_minor": 0
   }
  }
 },
 "nbformat": 4,
 "nbformat_minor": 5
}
