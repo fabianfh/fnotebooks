{
 "cells": [
  {
   "cell_type": "markdown",
   "metadata": {},
   "source": [
    "# Equity volatility surfaces samples\n",
    "Please visit the [Refinitiv Developer Community Portal](https://developers.refinitiv.com/en/api-catalog/refinitiv-data-platform/refinitiv-data-platform-apis/documentation#ipa-volatility-surfaces-eti) to access the API documentation and much more."
   ]
  },
  {
   "cell_type": "code",
   "execution_count": 2,
   "metadata": {},
   "outputs": [
    {
     "name": "stdout",
     "output_type": "stream",
     "text": [
      "session opened and end-point set\n"
     ]
    }
   ],
   "source": [
    "import refinitiv.dataplatform as rdp\n",
    "session = rdp.DesktopSession(app_key='<App Key>')\n",
    "session.open()\n",
    "endpoint = rdp.Endpoint(session, \"https://api.refinitiv.com/data/quantitative-analytics-curves-and-surfaces/v1/surfaces\")\n",
    "print(\"session opened and end-point set\")"
   ]
  },
  {
   "cell_type": "markdown",
   "metadata": {},
   "source": [
    "### Generating a surface for an underlying equity\n",
    "\n",
    "this sample compute on-demand the voaltility surface for BNP Paribas (BNPP.PA). the surfaceParameters are defined in order to retrieve and intraday surface (\"timeStamp\":\"Default\") uysing Mid option prices (\"priceSide\":\"Mid\") in tenor (\"xAxis\": \"Tenor\") and moneyness (\"yAxis\": \"Moneyness\"). the smiles for each tenor of the surface are fitted separately (\"volatilityModel\": \"SVI\").\n",
    "\n",
    "the response will contain the surface as a matrix (\"format\": \"Matrix\"), the forward curves and the strikes equivalent to the moneyness levels\n"
   ]
  },
  {
   "cell_type": "code",
   "execution_count": 4,
   "metadata": {
    "scrolled": true
   },
   "outputs": [
    {
     "data": {
      "text/html": [
       "<div>\n",
       "<style scoped>\n",
       "    .dataframe tbody tr th:only-of-type {\n",
       "        vertical-align: middle;\n",
       "    }\n",
       "\n",
       "    .dataframe tbody tr th {\n",
       "        vertical-align: top;\n",
       "    }\n",
       "\n",
       "    .dataframe thead th {\n",
       "        text-align: right;\n",
       "    }\n",
       "</style>\n",
       "<table border=\"1\" class=\"dataframe\">\n",
       "  <thead>\n",
       "    <tr style=\"text-align: right;\">\n",
       "      <th></th>\n",
       "      <th>101.455</th>\n",
       "    </tr>\n",
       "  </thead>\n",
       "  <tbody>\n",
       "    <tr>\n",
       "      <th>2024-06-23</th>\n",
       "      <td>29.622897</td>\n",
       "    </tr>\n",
       "  </tbody>\n",
       "</table>\n",
       "</div>"
      ],
      "text/plain": [
       "              101.455\n",
       "2024-06-23  29.622897"
      ]
     },
     "execution_count": 4,
     "metadata": {},
     "output_type": "execute_result"
    }
   ],
   "source": [
    "import requests\n",
    "import json\n",
    "import pandas as pd\n",
    "import numpy as np\n",
    "\n",
    "request_body={\n",
    "    \"universe\": [\n",
    "        {\n",
    "            \"surfaceTag\": \"T-mobile\",\n",
    "            \"underlyingType\": \"Eti\",\n",
    "            \"underlyingDefinition\": {\n",
    "                \"instrumentCode\": \"TMUS.O@RIC\"\n",
    "                #\"instrumentCode\": \".SPX@RIC\"\n",
    "            },\n",
    "            \"surfaceParameters\": {\n",
    "                \"priceSide\":\"Mid\",\n",
    "                \"xAxis\": \"Date\",\n",
    "                \"yAxis\": \"Strike\",\n",
    "                \"calculationDate\":\"2021-12-31\"\n",
    "            },\n",
    "            \"surfaceLayout\": {\n",
    "                \"format\": \"Matrix\",\n",
    "                \"yValues\": [\"101.455\"],\n",
    "                \"xValues\": [\"2024-06-23\"],\n",
    "            }\n",
    "        }],\n",
    "    \n",
    "\n",
    "    \"outputs\":[\"Data\",\"ForwardCurve\",\"MoneynessStrike\", \"Constituents\"]\n",
    "\n",
    "}\n",
    "\n",
    "response = endpoint.send_request(\n",
    "    method = rdp.Endpoint.RequestMethod.POST,\n",
    "    body_parameters = request_body\n",
    ")\n",
    "\n",
    "surface = np.array(response.data.raw['data'][0]['surface'])\n",
    "df = pd.DataFrame(data=surface[1:,1:], index=surface[1:,0], columns=surface[0,1:])\n",
    "df"
   ]
  }
 ],
 "metadata": {
  "kernelspec": {
   "display_name": "Python 3 (ipykernel)",
   "language": "python",
   "name": "python3"
  },
  "language_info": {
   "codemirror_mode": {
    "name": "ipython",
    "version": 3
   },
   "file_extension": ".py",
   "mimetype": "text/x-python",
   "name": "python",
   "nbconvert_exporter": "python",
   "pygments_lexer": "ipython3",
   "version": "3.9.7"
  },
  "widgets": {
   "application/vnd.jupyter.widget-state+json": {
    "state": {},
    "version_major": 2,
    "version_minor": 0
   }
  }
 },
 "nbformat": 4,
 "nbformat_minor": 4
}
