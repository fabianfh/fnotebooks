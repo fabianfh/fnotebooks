{
 "cells": [
  {
   "cell_type": "markdown",
   "metadata": {},
   "source": [
    "# Change of Measure,Convexity and Linear Rate Model\n",
    "## Libor in arrears\n",
    "Wolfram Boenkost, Wolfgang M. Schmidt: Notes on convexity and quanto adjustments for interest rates and related options \n",
    "https://d-nb.info/989681769/34"
   ]
  },
  {
   "cell_type": "code",
   "execution_count": 2,
   "metadata": {
    "collapsed": false
   },
   "outputs": [],
   "source": [
    "import QuantLib as ql\n",
    "import matplotlib.pyplot as plt\n",
    "from mpl_toolkits.mplot3d import Axes3D\n",
    "import numpy as np\n",
    "import scipy.stats\n",
    "from scipy.interpolate import interp1d\n",
    "import math\n",
    "import scipy.integrate as integrate\n",
    "from scipy.stats import norm\n",
    "from scipy.stats import lognorm\n",
    "% matplotlib inline"
   ]
  },
  {
   "cell_type": "markdown",
   "metadata": {},
   "source": [
    "## Model free part"
   ]
  },
  {
   "cell_type": "markdown",
   "metadata": {},
   "source": [
    "### Tradable Securities\n",
    "\n",
    "$P(t,T)$ where $t<T$ \n",
    "\n",
    "$ - P(t,T_2)$ Numeraire and $Q_{T_2}$ such that $\\frac{P(t,T_1)}{P(t,T_2)}$ is $Q_{T_2}$-Martingale $t<T_1<T_2$\n",
    "\n",
    "$ - L(t,T_1,T_2)=\\frac{\\frac{P(t,T_1)}{P(t,T_2}-1}{\\Delta}$ is $ Q_{T_2}$-Martingale\n",
    "\n",
    "\n",
    "$ - E^{Q_{T_2}}( L(T_1,T_1,T_2)|\\mathcal{F_t})=\\frac{E^{Q_{T_2}}(\\frac{P(T_1,T_1)}{P(T_1,T_2)}\\mathcal{F_t})-1}{\\Delta} =\\frac{\\frac{P(t,T_1)}{P(t,T_2)}-1}{\\Delta}$ \n"
   ]
  },
  {
   "cell_type": "markdown",
   "metadata": {},
   "source": [
    "\n",
    "\n"
   ]
  },
  {
   "cell_type": "markdown",
   "metadata": {},
   "source": []
  },
  {
   "cell_type": "markdown",
   "metadata": {},
   "source": [
    "\n",
    "### Payoffs\n",
    "\n",
    "\n",
    "\n",
    "\n"
   ]
  },
  {
   "cell_type": "markdown",
   "metadata": {},
   "source": [
    "\n",
    "- Libor Floater: $ V_t(\\Delta L(T_1,T_2)) = P(t,T_2) E^{Q_{T_2}}(\\Delta L(T_1,T_2)|\\mathcal{F_t})= P(t,T_2) \\Delta L(t,T_1,T_2)$ \n",
    "\n",
    "- Libor InArears Floater: $ V_t(\\Delta L(T_1,T_2)@T_1) = P(t,T_1) E^{Q_{T_1}}(\\Delta L(T_1,T_2)  @ T_1|\\mathcal{F_t})= ?$ \n",
    "\n"
   ]
  },
  {
   "cell_type": "markdown",
   "metadata": {},
   "source": [
    "##### Measure transformation between $Q_{T_1}$ and $Q_{T_2}$\n",
    "\n",
    "$ M(t)=\\left. \\frac{dQ_{T_1}}{dQ_{T_2}}\\right|_{t}=E^{Q_{T_2}}(\\frac{P(T_1,T_1)}{P(T_1,T_2)}|\\mathcal{F_t}) = \\frac{P(t,T_1)}{P(t,T_2)} $ is a $Q_{T_2}$-Matringale\n",
    "\n"
   ]
  },
  {
   "cell_type": "markdown",
   "metadata": {},
   "source": [
    "##### Expectation of  $L(T_1,T_2) $\n",
    "under measure $Q_{T_1}$\n",
    "\n",
    "$E^{Q_{T_1}}(L(T_1,T_2)|\\mathcal{F_t})=  \\frac{1}{M(t)} E^{Q_{T_2}}(M(T_1) L(T_1,T_2)|\\mathcal{F_t}) = \\frac{P(t,T_2)}{P(t,T_1)}  E^{Q_{T_2}}(\\frac{ L(T_1,T_2)}{P(T_1,T_2)} |\\mathcal{F_t})=E^{Q_{T_2}}( \\frac{L(T_1,T_2)(1+\\Delta L(T_1,T_2))}{1+ \\Delta L(t,T_1,T_2)} |\\mathcal{F_t})= L(t,T_1,T_2) (1+\\frac{\\Delta Var^{Q{T_2}}(L(T_1,T_2)|\\mathcal{F_t})}{L(t,T_1,T_2) (1 + \\Delta L(t,T_1,T_2))})$\n",
    "\n"
   ]
  },
  {
   "cell_type": "markdown",
   "metadata": {},
   "source": [
    "##### Distribution of $L(T_1,T_2)$ under measure $Q_{T_1}$\n",
    "$Q_{T_1}(L(T_1,T_2) \\in A|\\mathcal{F_t})=E^{Q_{T_2}}(1_{L(T_1,T_2) \\in A}|\\mathcal{F_t})$\n",
    "$=  E^{Q_{T_2}}(1_{L(T_1,T_2) \\in A} \\frac{M(T_1)}{M(t)}|\\mathcal{F_t})$\n",
    "$= \\int_{L(T_1,T_2) \\in A}\\int_{M(T_1) \\in \\mathbb{R}} \\frac{M(T_1)}{M(t)}1_{L(T_1,T_2) \\in A}\\cdot p^{Q^{T_1}}_{L(T_1,T_2),M(T_1)}(l,m) dm dl$\n"
   ]
  },
  {
   "cell_type": "markdown",
   "metadata": {},
   "source": [
    "##### Linear Approximation of measure $Q_{T_1}$\n",
    "\n",
    "\n",
    "Assume that $E^{Q_{T_2}}(\\frac{M(T_1)}{M(t)}|L(T_1,T_2),\\mathcal{F_t})\\approx (\\alpha_0(t,T) + \\alpha_1(t,T) \\cdot L(T_1,T_2)) $ i.e. linear approxomation\n",
    "\n",
    "$E^{Q_{T_1}}(L(T_1,T_2))= E^{Q_{T_2}}(\\frac{M(T_1)}{M(t) }L(T_1,T_2)|\\mathcal{F_t})=E^{Q_{T_2}}(E^{Q_{T_2}}(\\frac{M(T_1)}{M(t) }|L(T_1,T_2))\\cdot L(T_1,T_2)|\\mathcal{F_t})\\approx E^{Q_{T_2}}((\\alpha_0(t,T_1) + \\alpha_1(t,T_1) L(T_1,T_2)) \\cdot L(T_1,T_2)|\\mathcal{F_t})$\n",
    "\n",
    "\n",
    "\n",
    "where $\\left(\\begin{matrix}a_0(t,T_1)\\\\a_1(t,T_1)\\end{matrix}\\right)= argmin_{(a_0,a_1)} \\lVert\\frac{M(T_1)}{M(t)}-\\alpha_0(t,T_1) - \\alpha_1(t,T_1) L(T_1,T_2) |\\mathcal{F_t})\\rVert_2 = argmin_{(a_0,a_1)}(Var^{Q^{T_2}}(\\frac{M(T_1)}{M(t)}-\\alpha_0(t,T_1) - \\alpha_1(t,T_1) L(T_1,T_2) |\\mathcal{F_t}))$"
   ]
  },
  {
   "cell_type": "code",
   "execution_count": null,
   "metadata": {
    "collapsed": true
   },
   "outputs": [],
   "source": []
  },
  {
   "cell_type": "markdown",
   "metadata": {},
   "source": [
    "### Calculate the RN-derivative by orthogonal projection\n",
    "\n",
    "$(\\frac{M(T_1)}{M(t)}-\\alpha_0(t,T_1) - \\alpha_1(t,T_1) L(T_1,T_2)) \\bot span\\{1,L(T_1,T_2)\\}$\n",
    "\n",
    "\n",
    "\n",
    "$\\left(\\begin{matrix} 0\\\\0 \\end{matrix}\\right) =E^{Q_{T_2}}(\\left(\\begin{matrix}1 & 0\\\\0 &L(T_1,T_2)\\end{matrix}\\right)\\left(\\begin{matrix} \\frac{M(T_1)}{M(t)}-\\alpha_0(t,T_1) - \\alpha_1(t,T_1) L(T_1,T_2)\\\\\\frac{M(T_1)}{M(t)}-\\alpha_0(t,T_1) - \\alpha_1(t,T_1) L(T_1,T_2) \\end{matrix}\\right)|\\mathcal{F_t})$\n",
    "\n",
    "$\\left(\\begin{matrix} 0\\\\0 \\end{matrix}\\right) =\\left(\\begin{matrix} E^{Q_{T_2}}(\\frac{M(T_1)}{M(t)}|\\mathcal{F_t})-E^{Q_{T_2}}(\\alpha_0(t,T_1)|\\mathcal{F_t}) - E^{Q_{T_2}}(\\alpha_1(t,T_1) L(T_1,T_2)|\\mathcal{F_t})\\\\E^{Q_{T_2}}(\\frac{M(T_1)}{M(t)}L(T_1,T_2)|\\mathcal{F_t})-E^{Q_{T_2}}(\\alpha_0(t,T)L(T_1,T_2)|\\mathcal{F_t}) - E^{Q_{T_2}}(\n",
    "\\alpha_1(t,T_1) L(T_1,T_2)^2|\\mathcal{F_t}) \\end{matrix}\\right)$"
   ]
  },
  {
   "cell_type": "markdown",
   "metadata": {},
   "source": [
    "### Solve for $\\alpha_1,\\alpha_2$\n",
    "\n",
    "$\\left(\\begin{matrix} E^{Q^{T_2}}(\\frac{M(T_1)}{M(t)}|\\mathcal{F_t})\\\\E^{Q_{T_2}}(\\frac{M(T_1)}{M(t)}L(T_1,T_2)|\\mathcal{F_t}) \\end{matrix}\\right) =\\left(\\begin{matrix} E^{Q_{T_2}}(1|\\mathcal{F_t}) & E^{Q_{T_2}}( L(T_1,T_2)|\\mathcal{F_t})\\\\E^{Q_{T_2}}(L(T_1,T_2)|\\mathcal{F_t}) & E^{Q_{T_2}}(L(T_1,T_2)^2|\\mathcal{F_t}) \\end{matrix}\\right) \\left(\\begin{matrix} \\alpha_0(t,T_1)\\\\\\alpha_1(t,T_2) \\end{matrix}\\right)$\n",
    "\n",
    "\n",
    "$\\left(\\begin{matrix} \\alpha_0(t,T_1)\\\\\\alpha_1(t,T_1) \\end{matrix}\\right)\n",
    "=\\left(\\begin{matrix} 1 & E^{Q_{T_2}}( L(T_1,T_2)|\\mathcal{F_t})\\\\E^{Q_{T_2}}(L(T_1,T_2)|\\mathcal{F_t}) & E^{Q_{T_2}}(L(T_1,T_2)^2|\\mathcal{F_t}) \\end{matrix}\\right)^{⁻1}\\left(\\begin{matrix} 1\\\\E^{Q_{T_2}}(\\frac{M(T_1)}{M(t)}L(T_1,T_2)|\\mathcal{F_t}) \\end{matrix}\\right)$\n",
    "\n",
    "$\\left(\\begin{matrix} \\alpha_0(t,T_1)\\\\\\alpha_1(t,T_1) \\end{matrix}\\right)\n",
    "=\\frac{1}{Var^{Q_{T_2}}(L(T_1,T_2)|\\mathcal{F_t})}\\left(\\begin{matrix} E^{Q_{T_2}}(L(T_1,T_2)^2|\\mathcal{F_t}) & -E^{Q_{T_2}}( L(T_1,T_2)|\\mathcal{F_t}) \\\\-E^{Q_{T_2}}( L(T_1,T_2)|\\mathcal{F_t}) & 1 \\end{matrix}\\right)\\left(\\begin{matrix} 1\\\\E^{Q_{T_2}}(\\frac{M(T_1)}{M(t)}L(T_1,T_2)|\\mathcal{F_t}) \\end{matrix}\\right)$\n",
    "\n"
   ]
  },
  {
   "cell_type": "markdown",
   "metadata": {},
   "source": [
    "##### Plug in Expectation of  $ L(T_1,T_2)$\n",
    "$ E^{Q_{T_2}}(L(T_1,T_2)|\\mathcal{F_t})= L(t,T_1,T_2)$\n",
    "\n",
    "$ E^{Q_{T_1}}(L(T_1,T_2)|\\mathcal{F_t})=  \\frac{1}{M(t)} E^{Q_{T_2}}(M(T_1) L(T_1,T_2)|\\mathcal{F_t}) = L(t,T_1,T_2) (1+\\frac{\\Delta Var^{Q{T_2}}(L(T_1,T_2)|\\mathcal{F_t})}{L(t,T_1,T_2) (1 + \\Delta L(t,T_1,T_2))})$\n",
    "\n",
    "$\\left(\\begin{matrix} \\alpha_0(t,T_1)\\\\\\alpha_1(t,T_1) \\end{matrix}\\right)\n",
    "=\\frac{1}{Var^{Q_{T_2}}(L(T_1,T_2)|\\mathcal{F_t})}\\left(\\begin{matrix} E^{Q_{T_2}}(L(T_1,T_2)^2|\\mathcal{F_t}) & - L(t,T_1,T_2) \\\\-L(t,T_1,T_2) & 1 \\end{matrix}\\right)\\left(\\begin{matrix} 1\\\\L(t,T_1,T_2) (1+\\frac{\\Delta Var^{Q{T_2}}(L(T_1,T_2)|\\mathcal{F_t})}{L(t,T_1,T_2) (1 + \\Delta L(t,T_1,T_2))}) \\end{matrix}\\right)$\n",
    "\n",
    "$\\left(\\begin{matrix} \\alpha_0(t,T_1)\\\\\\alpha_1(t,T_1) \\end{matrix}\\right)\n",
    "=\\frac{1}{Var^{Q_{T_2}}(L(T_1,T_2)|\\mathcal{F_t})}\\left(\\begin{matrix} Var^{Q_{T_2}}(L(T_1,T_2)|\\mathcal{F_t}) - \\frac{\\Delta Var^{Q{T_2}}(L(T_1,T_2)|\\mathcal{F_t})}{ (1 + \\Delta L(t,T_1,T_2))} \\\\ \\frac{\\Delta Var^{Q{T_2}}(L(T_1,T_2)|\\mathcal{F_t})}{ (1 + \\Delta L(t,T_1,T_2))} \\end{matrix}\\right)$\n",
    "\n",
    "\n",
    "\n",
    "$\\left(\\begin{matrix} \\alpha_0(t,T_1)\\\\\\alpha_1(t,T_1) \\end{matrix}\\right)\n",
    "=\\left(\\begin{matrix} 1- \\frac{1}{ (1 + \\Delta L(t,T_1,T_2))} \\\\ \\frac{\\Delta }{ (1 + \\Delta L(t,T_1,T_2))} \\end{matrix}\\right)$"
   ]
  },
  {
   "cell_type": "markdown",
   "metadata": {
    "collapsed": true
   },
   "source": [
    "\n",
    "\n"
   ]
  },
  {
   "cell_type": "markdown",
   "metadata": {},
   "source": []
  },
  {
   "cell_type": "markdown",
   "metadata": {},
   "source": []
  },
  {
   "cell_type": "markdown",
   "metadata": {
    "collapsed": true
   },
   "source": [
    "\n",
    "\n",
    "\n"
   ]
  },
  {
   "cell_type": "markdown",
   "metadata": {},
   "source": []
  },
  {
   "cell_type": "markdown",
   "metadata": {},
   "source": [
    "#### Expectation Black\n",
    "\n",
    "$L(T_1,T_2) = L(0,T_1,T_2) exp(-\\frac{\\sigma^2}{2}T_1+\\sigma W_{T_1})$\n",
    "- $ E^{Q_{T_2}}(L(T_1,T_2)) = L(0,T_1,T_2)$\n",
    "- $ E(\\exp( \\sigma W_{T_1})) = \\exp( \\frac{\\sigma^2}{2} T_1))$\n",
    "- $ E^{Q_{T_2}}(L(T_1,T_2)^2) = L(0,T_1,T_2)^2 exp(-\\sigma^2 T_1) E^{Q_{T_2}}exp(2 \\sigma W_{T_1}) = L(0,T_1,T_2)^2 exp(-\\sigma^2 T_1) exp(2 \\sigma^2 T_1)= L(0,T_1,T_2)^2 exp( \\sigma^2 T_1)$\n",
    "- $ Var^{Q_{T_2}}(L(T_1,T_2)) = L(0,T_1,T_2)^2 (exp( \\sigma^2 T_1)-1)$\n",
    "\n",
    "$E^{Q_{T_1}}(L(T_1,T_2))= L(0,T_1,T_2) (1+\\frac{\\Delta L(0,T_1,T_2) (exp( \\sigma^2 T_1)-1)}{1 + \\Delta L(0,T_1,T_2)})$\n",
    "\n",
    "#### Expectation Bachelier\n",
    "\n",
    "\n",
    "$L(t,T_1,T_2) = L(0,T_1,T_2)  \\sigma W_t$\n",
    "- $ E^{Q_{T_2}}(L(T_1,T_2)) = L(0,T_1,T_2)$\n",
    "- $ E^{Q_{T_2}}(L(T_1,T_2)^2) = E^{Q_{T_2}}(L(0,T_1,T_2)^2 \\sigma^2 W^2_{T_1}) = L(0,T_1,T_2)^2 \\sigma^2 T_1$\n",
    "- $ Var^{Q_{T_2}}(L(T_1,T_2)) = L(0,T_1,T_2)^2 ( \\sigma^2 T_1 -1)$\n",
    "\n",
    "$E^{Q_{T_1}}(L(T_1,T_2)|\\mathcal{F_t})= L(t,T_1,T_2) (1+\\frac{\\Delta L(0,T_1,T_2) (\\sigma^2 t-1)}{1 + \\Delta L(t,T_1,T_2)})$"
   ]
  },
  {
   "cell_type": "code",
   "execution_count": 1,
   "metadata": {
    "collapsed": false
   },
   "outputs": [
    {
     "ename": "NameError",
     "evalue": "name 'np' is not defined",
     "output_type": "error",
     "traceback": [
      "\u001b[1;31m---------------------------------------------------------------------------\u001b[0m",
      "\u001b[1;31mNameError\u001b[0m                                 Traceback (most recent call last)",
      "\u001b[1;32m~\\AppData\\Local\\Temp/ipykernel_20828/196918118.py\u001b[0m in \u001b[0;36m<module>\u001b[1;34m\u001b[0m\n\u001b[0;32m     14\u001b[0m \u001b[1;33m\u001b[0m\u001b[0m\n\u001b[0;32m     15\u001b[0m \u001b[1;33m\u001b[0m\u001b[0m\n\u001b[1;32m---> 16\u001b[1;33m \u001b[0mxrange\u001b[0m \u001b[1;33m=\u001b[0m \u001b[0mnp\u001b[0m\u001b[1;33m.\u001b[0m\u001b[0marange\u001b[0m\u001b[1;33m(\u001b[0m\u001b[1;36m0\u001b[0m\u001b[1;33m,\u001b[0m\u001b[1;36m30\u001b[0m\u001b[1;33m,\u001b[0m\u001b[1;36m1\u001b[0m\u001b[1;33m)\u001b[0m\u001b[1;33m\u001b[0m\u001b[1;33m\u001b[0m\u001b[0m\n\u001b[0m\u001b[0;32m     17\u001b[0m \u001b[0mfig\u001b[0m\u001b[1;33m,\u001b[0m \u001b[0max1\u001b[0m \u001b[1;33m=\u001b[0m \u001b[0mplt\u001b[0m\u001b[1;33m.\u001b[0m\u001b[0msubplots\u001b[0m\u001b[1;33m(\u001b[0m\u001b[1;33m)\u001b[0m\u001b[1;33m\u001b[0m\u001b[1;33m\u001b[0m\u001b[0m\n\u001b[0;32m     18\u001b[0m \u001b[1;33m\u001b[0m\u001b[0m\n",
      "\u001b[1;31mNameError\u001b[0m: name 'np' is not defined"
     ]
    }
   ],
   "source": [
    "ccrates = lambda t: 0.05 + 0.00 * math.sqrt(t)\n",
    "sigma=0.2\n",
    "delta=0.5\n",
    "def B(t,T):    \n",
    "    if t>T:\n",
    "        return np.nan\n",
    "    return math.exp(-ccrates(T-t)*(T-t))\n",
    "\n",
    "def Forward(t, T1,T2):\n",
    "    return 0.05\n",
    "    #return (B(t,T1)/B(t,T2) - 1) /(T2 - T1)\n",
    "def ConvexityBlack(sigma,forward,delta,time):\n",
    "    return  delta * forward * forward/(1+delta*forward)* (math.exp(sigma*sigma * time)-1)\n",
    "   \n",
    "    \n",
    "xrange = np.arange(0,30,1)\n",
    "fig, ax1 = plt.subplots()\n",
    "\n",
    "ax1.plot(xrange, \n",
    "         [Forward(0,time,time+delta) for time in xrange],\n",
    "         'b-')\n",
    "ax1.plot(xrange, \n",
    "         [Forward(0,time,time+delta) + ConvexityBlack(sigma,Forward(0,time,time+delta),delta,time)for time in xrange],\n",
    "         'r-')\n",
    "#ax2 = ax1.twinx()\n",
    "#ax2.plot(xrange, [ConvexityBlack(sigma,Forward(0,time,time+delta),delta,time) for time in xrange],\n",
    "#         'g-')\n",
    "\n",
    "ax1.set_xlabel('Maturity')\n",
    "ax1.set_ylabel('Forward', color='b')\n",
    "\n",
    "plt.show()\n",
    "\n"
   ]
  },
  {
   "cell_type": "markdown",
   "metadata": {},
   "source": [
    "\n",
    "\n",
    "\n"
   ]
  },
  {
   "cell_type": "markdown",
   "metadata": {},
   "source": [
    "# Analytic"
   ]
  },
  {
   "cell_type": "code",
   "execution_count": null,
   "metadata": {
    "collapsed": true
   },
   "outputs": [],
   "source": []
  },
  {
   "cell_type": "markdown",
   "metadata": {},
   "source": []
  },
  {
   "cell_type": "code",
   "execution_count": null,
   "metadata": {
    "collapsed": false
   },
   "outputs": [],
   "source": []
  },
  {
   "cell_type": "markdown",
   "metadata": {},
   "source": [
    "# Distribution  of $L(T_1,T_2) under Q^{T_1}$"
   ]
  },
  {
   "cell_type": "markdown",
   "metadata": {},
   "source": [
    "\n",
    "$Q^{T_1}(L(T_1,T_2) \\in A |\\mathcal{F_t}) =E^{Q_{T_2}}(\\frac{M(T)}{M(t)} 1_{L(T_1,T_2) \\in A} |\\mathcal{F_t}) = E^{Q_{T_2}}(E^{Q_{T_2}}(\\frac{M(T)}{M(t)}|L(T_1,T_2), \\mathcal{F_t}) 1_{L(T_1,T_2) \\in A} |\\mathcal{F_t}) \\approx E^{Q_{T_2}}((\\alpha_0(t,T)+ \\alpha_1(t,T)L(T_1,T_2)) 1_{L(T_1,T_2) \\in A} |\\mathcal{F_t}) =\\int_A((\\alpha_0(t,T) + \\alpha_1(t,T) s) \\cdot p^{Q^{T_2}}(s) ds)$\n",
    "\n",
    "$ p^{Q^{T_1}}(s) =(\\alpha_0(t,T) + \\alpha_1(t,T) s) \\cdot p^{Q^{T_2}}(s)$\n",
    "\n",
    "$\\left(\\begin{matrix} \\alpha_0(t,T_1)\\\\\\alpha_1(t,T_1) \\end{matrix}\\right)\n",
    "=\\left(\\begin{matrix} 1- \\frac{1}{ (1 + \\Delta L(t,T_1,T_2))} \\\\ \\frac{\\Delta }{ (1 + \\Delta L(t,T_1,T_2))} \\end{matrix}\\right)$\n",
    "\n"
   ]
  },
  {
   "cell_type": "code",
   "execution_count": null,
   "metadata": {
    "collapsed": false
   },
   "outputs": [],
   "source": []
  },
  {
   "cell_type": "code",
   "execution_count": null,
   "metadata": {
    "collapsed": false
   },
   "outputs": [
    {
     "data": {
      "image/png": "[encoded data removed]",
      "text/plain": [
       "<matplotlib.figure.Figure at 0xab8de2cc>"
      ]
     },
     "metadata": {},
     "output_type": "display_data"
    }
   ],
   "source": [
    "def alpha_0(t,T1,T2):\n",
    "    if t>T2:\n",
    "        return np.nan\n",
    "    num = 1\n",
    "    denom =  1+ (T2-T1) * Forward(1,T1,T2)\n",
    "    return 1- num/denom\n",
    "\n",
    "def alpha_1(t,T1,T2):\n",
    "    if t>T2:\n",
    "        return np.nan\n",
    "    num = T2-T1\n",
    "    denom =  1+ (T2-T1)  * Forward(1,T1,T2)\n",
    "    return num/denom\n",
    "\n",
    "\n",
    "\n",
    "def L(T1,T2):   \n",
    "    mu = math.log(Forward(0,T1,T2)) - sigma*sigma*T1/2\n",
    "    l = lognorm(s=sigma*sigma*T1, loc=0, scale=math.exp(mu))\n",
    "    return l\n",
    "   \n",
    "T1=10\n",
    "T2=T1+delta\n",
    "\n",
    "\n",
    "plt.plot(np.arange(0,0.2,0.001), [L(T1,T2).pdf(s) for s in np.arange(0,0.2,0.001)],label=\"Q^C_T\")\n",
    "for vola in [0,0.1,0.2,0.4]:\n",
    "    plt.plot(np.arange(0,0.2,0.001), [(alpha_0(0,T1,T2) +alpha_1(0,T1,T2)*s) \n",
    "                                    for s in np.arange(0,0.2,0.001)],label=\"\")\n",
    "\n",
    "    "
   ]
  },
  {
   "cell_type": "code",
   "execution_count": null,
   "metadata": {
    "collapsed": true
   },
   "outputs": [],
   "source": []
  },
  {
   "cell_type": "markdown",
   "metadata": {},
   "source": [
    "\n"
   ]
  },
  {
   "cell_type": "code",
   "execution_count": null,
   "metadata": {
    "collapsed": true
   },
   "outputs": [],
   "source": []
  },
  {
   "cell_type": "code",
   "execution_count": null,
   "metadata": {
    "collapsed": false
   },
   "outputs": [],
   "source": [
    "\n",
    "\n"
   ]
  },
  {
   "cell_type": "code",
   "execution_count": null,
   "metadata": {
    "collapsed": false
   },
   "outputs": [],
   "source": [
    "\n",
    "\n",
    "\n",
    "\n",
    "\n",
    "\n"
   ]
  },
  {
   "cell_type": "code",
   "execution_count": null,
   "metadata": {
    "collapsed": false
   },
   "outputs": [],
   "source": [
    "\n"
   ]
  },
  {
   "cell_type": "code",
   "execution_count": null,
   "metadata": {
    "collapsed": false
   },
   "outputs": [],
   "source": []
  },
  {
   "cell_type": "code",
   "execution_count": null,
   "metadata": {
    "collapsed": true
   },
   "outputs": [],
   "source": []
  }
 ],
 "metadata": {
  "kernelspec": {
   "display_name": "tensorflow",
   "language": "python",
   "name": "python3"
  },
  "language_info": {
   "codemirror_mode": {
    "name": "ipython",
    "version": 3
   },
   "file_extension": ".py",
   "mimetype": "text/x-python",
   "name": "python",
   "nbconvert_exporter": "python",
   "pygments_lexer": "ipython3",
   "version": "3.8.12"
  }
 },
 "nbformat": 4,
 "nbformat_minor": 0
}
